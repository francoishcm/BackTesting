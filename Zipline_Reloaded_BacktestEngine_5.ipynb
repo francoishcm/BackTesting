{
  "nbformat": 4,
  "nbformat_minor": 0,
  "metadata": {
    "colab": {
      "name": "Zipline_Reloaded_BacktestEngine.ipynb",
      "provenance": [],
      "collapsed_sections": [],
      "include_colab_link": true
    },
    "kernelspec": {
      "display_name": "Python 3",
      "name": "python3"
    },
    "language_info": {
      "name": "python"
    }
  },
  "cells": [
    {
      "cell_type": "markdown",
      "metadata": {
        "id": "view-in-github",
        "colab_type": "text"
      },
      "source": [
        "<a href=\"https://colab.research.google.com/github/francoishcm/BackTesting/blob/master/Zipline_Reloaded_BacktestEngine_5.ipynb\" target=\"_parent\"><img src=\"https://colab.research.google.com/assets/colab-badge.svg\" alt=\"Open In Colab\"/></a>"
      ]
    },
    {
      "cell_type": "markdown",
      "source": [
        "# 🧰# **CODE TO INSTALL MODULES & PACKAGES**"
      ],
      "metadata": {
        "id": "xRTs1_SK0Scj"
      }
    },
    {
      "cell_type": "code",
      "source": [
        "# Mount Google Drive \n",
        "from google.colab import drive\n",
        "drive.mount('/content/drive')"
      ],
      "metadata": {
        "id": "ABrWrt1q06gq",
        "collapsed": true,
        "colab": {
          "base_uri": "https://localhost:8080/"
        },
        "outputId": "89082254-a3e1-4802-d274-0ccc1bdd3b55"
      },
      "execution_count": null,
      "outputs": [
        {
          "output_type": "stream",
          "name": "stdout",
          "text": [
            "Mounted at /content/drive\n"
          ]
        }
      ]
    },
    {
      "cell_type": "code",
      "metadata": {
        "id": "1tlwk44QhErd"
      },
      "source": [
        "# Install ta-lib v0.4.0\n",
        "%%bash\n",
        "wget http://prdownloads.sourceforge.net/ta-lib/ta-lib-0.4.0-src.tar.gz\n",
        "tar -xzf ta-lib-0.4.0-src.tar.gz\n",
        "cd ta-lib/\n",
        "./configure\n",
        "make\n",
        "make install"
      ],
      "execution_count": null,
      "outputs": []
    },
    {
      "cell_type": "code",
      "metadata": {
        "id": "JSwN3Ywihz3r",
        "collapsed": true
      },
      "source": [
        "# Install zipline\n",
        "%pip install zipline-reloaded"
      ],
      "execution_count": null,
      "outputs": []
    },
    {
      "cell_type": "code",
      "source": [
        "# Install matplot library\n",
        "!pip install matplotlib"
      ],
      "metadata": {
        "collapsed": true,
        "id": "zoV1_FSc_5MW"
      },
      "execution_count": null,
      "outputs": []
    },
    {
      "cell_type": "code",
      "source": [
        "# Install data bundle 'Quandl'\n",
        "!pip install quandl"
      ],
      "metadata": {
        "collapsed": true,
        "id": "8-pgTCGp2XzF"
      },
      "execution_count": null,
      "outputs": []
    },
    {
      "cell_type": "code",
      "source": [
        "# Ingest Quandl using API key\n",
        "!QUANDL_API_KEY=KUnssHvVERHb5XYu9C1- zipline ingest -b 'quandl'"
      ],
      "metadata": {
        "id": "KiUF_IBQCSlm",
        "collapsed": true
      },
      "execution_count": null,
      "outputs": []
    },
    {
      "cell_type": "code",
      "source": [
        "# Confirm existing bundle that were ingested\n",
        "!zipline bundles"
      ],
      "metadata": {
        "id": "n-0pfBmOJVq5",
        "collapsed": true
      },
      "execution_count": null,
      "outputs": []
    },
    {
      "cell_type": "code",
      "source": [
        "# Install stockstats\n",
        "!pip install stockstats"
      ],
      "metadata": {
        "collapsed": true,
        "id": "cay669qnHjdL"
      },
      "execution_count": null,
      "outputs": []
    },
    {
      "cell_type": "code",
      "source": [
        "# Install Pyfolio\n",
        "!pip install git+https://github.com/quantopian/pyfolio"
      ],
      "metadata": {
        "id": "m-y07xfPTFVK",
        "collapsed": true
      },
      "execution_count": null,
      "outputs": []
    },
    {
      "cell_type": "markdown",
      "source": [
        "# 💽# **CODE TO SET AND CONFIRM CURRENT WORKING DIRECTORIES**"
      ],
      "metadata": {
        "id": "4Ixua2eyz0Hr"
      }
    },
    {
      "cell_type": "code",
      "source": [
        "import os \n",
        "\n",
        "# Set your working directory to a folder in your Google Drive. This way, if your notebook times out,\n",
        "# your files will be saved in your Google Drive!\n",
        "\n",
        "# the base Google Drive directory\n",
        "root_dir = \"/root/content/drive/\"\n"
      ],
      "metadata": {
        "id": "eWtZZXQol34j"
      },
      "execution_count": null,
      "outputs": []
    },
    {
      "cell_type": "code",
      "source": [
        "import os \n",
        "\n",
        "# Set your working directory to a folder in your Google Drive. This way, if your notebook times out,\n",
        "# your files will be saved in your Google Drive!\n",
        "\n",
        "\n",
        "# choose where you want your project files to be saved\n",
        "project_folder = \"MyDrive/Colab Notebooks/My Project Folder\"\n"
      ],
      "metadata": {
        "id": "c4jxNssSmApK"
      },
      "execution_count": null,
      "outputs": []
    },
    {
      "cell_type": "code",
      "source": [
        "def create_and_set_working_directory(project_folder):\n",
        "  # check if your project folder exists. if not, it will be created.\n",
        "  if os.path.isdir(root_dir + project_folder) == False:\n",
        "    os.mkdir(root_dir + project_folder)\n",
        "    print(root_dir + project_folder + ' did not exist but was created.')\n",
        "\n",
        "  # change the OS to use your project folder as the working directory\n",
        "  os.chdir(root_dir + project_folder)\n",
        "\n",
        "  # create a test file to make sure it shows up in the right place\n",
        "  !touch 'new_file_in_working_directory.txt'\n",
        "  print('\\nYour working directory was changed to ' + root_dir + project_folder + \\\n",
        "        \"\\n\\nAn empty text file was created there. You can also run !pwd to confirm the current working directory.\" )\n",
        "\n",
        "create_and_set_working_directory(project_folder)"
      ],
      "metadata": {
        "id": "Y0PGKB_SmAR5",
        "colab": {
          "base_uri": "https://localhost:8080/"
        },
        "outputId": "9fee909f-fe33-4e19-e32b-12f3b6218c69"
      },
      "execution_count": null,
      "outputs": [
        {
          "output_type": "stream",
          "name": "stdout",
          "text": [
            "\n",
            "Your working directory was changed to /root/content/drive/MyDrive/Colab Notebooks/My Project Folder\n",
            "\n",
            "An empty text file was created there. You can also run !pwd to confirm the current working directory.\n"
          ]
        }
      ]
    },
    {
      "cell_type": "code",
      "source": [
        "# Confirm current working directory\n",
        "!pwd"
      ],
      "metadata": {
        "id": "Q4_HSs4HneUa",
        "colab": {
          "base_uri": "https://localhost:8080/"
        },
        "outputId": "d114f201-dc5a-4743-975c-da142f035c20"
      },
      "execution_count": null,
      "outputs": [
        {
          "output_type": "stream",
          "name": "stdout",
          "text": [
            "/root/content/drive/MyDrive/Colab Notebooks/My Project Folder\n"
          ]
        }
      ]
    },
    {
      "cell_type": "code",
      "source": [
        "import os\n",
        "for f in os.listdir(\"/root/content/drive/MyDrive/Colab Notebooks/My Project Folder\"):\n",
        "\tprint(f)"
      ],
      "metadata": {
        "id": "8HB8gDZGqsfB",
        "colab": {
          "base_uri": "https://localhost:8080/"
        },
        "outputId": "44a3039d-470c-4eb5-e77e-8c4814a0a2ad"
      },
      "execution_count": null,
      "outputs": [
        {
          "output_type": "stream",
          "name": "stdout",
          "text": [
            "new_file_in_working_directory.txt\n",
            "random_futures\n",
            "random_stocks.zip\n",
            ".ipynb_checkpoints\n",
            "stocks_at_random\n"
          ]
        }
      ]
    },
    {
      "cell_type": "markdown",
      "source": [
        "# ⏳# **RUN CODE TO REGISTER & INGEST CUSTOM BUNDLES HERE**"
      ],
      "metadata": {
        "id": "z5Y1KYNHeqeu"
      }
    },
    {
      "cell_type": "code",
      "source": [
        "!QUANDL_API_KEY=muQr9rZqHVUZsgSmF1WJ zipline ingest -b 'quandl'"
      ],
      "metadata": {
        "id": "HLYF4gg0wJOb",
        "outputId": "3a5c273d-3c73-4059-f2af-193adba05ac0",
        "colab": {
          "base_uri": "https://localhost:8080/"
        }
      },
      "execution_count": 77,
      "outputs": [
        {
          "output_type": "stream",
          "name": "stdout",
          "text": [
            "[2022-04-07 20:39:16.678792] INFO: zipline.data.bundles.core: Ingesting quandl.\n",
            "[2022-04-07 20:39:16.679024] INFO: zipline.data.bundles.quandl: Downloading WIKI metadata.\n",
            "\u001b[?25lDownloading WIKI Prices table from Quandl  [####################################]  100%          \u001b[?25h\n",
            "[2022-04-07 20:39:29.490873] INFO: zipline.data.bundles.quandl: Parsing raw data.\n",
            "[2022-04-07 20:40:02.942743] INFO: zipline.data.bundles.quandl: Generating asset metadata.\n",
            "\u001b[?25lMerging daily equity files:  [------------#-----------------------]  1731/usr/local/lib/python3.7/dist-packages/zipline/data/bcolz_daily_bars.py:366: UserWarning: Ignoring 1 values because they are out of bounds for uint32:             open  ...  split_ratio\n",
            "2011-04-11  1.79  ...          1.0\n",
            "\n",
            "[1 rows x 7 columns]\n",
            "  winsorise_uint32(raw_data, invalid_data_behavior, \"volume\", *OHLC)\n",
            "\u001b[?25lMerging daily equity files:  [####################################]      \u001b[?25h\n",
            "[2022-04-07 20:42:23.739479] INFO: zipline.data.bundles.quandl: Parsing split data.\n",
            "[2022-04-07 20:42:23.910891] INFO: zipline.data.bundles.quandl: Parsing dividend data.\n",
            "[2022-04-07 20:42:25.606189] WARNING: zipline.data.adjustments: Couldn't compute ratio for dividend sid=67, ex_date=2017-11-09, amount=0.620\n",
            "[2022-04-07 20:42:25.606439] WARNING: zipline.data.adjustments: Couldn't compute ratio for dividend sid=93, ex_date=2017-11-09, amount=0.240\n",
            "[2022-04-07 20:42:25.606563] WARNING: zipline.data.adjustments: Couldn't compute ratio for dividend sid=161, ex_date=2017-11-09, amount=0.110\n",
            "[2022-04-07 20:42:25.606647] WARNING: zipline.data.adjustments: Couldn't compute ratio for dividend sid=283, ex_date=2017-11-09, amount=0.415\n",
            "[2022-04-07 20:42:25.606730] WARNING: zipline.data.adjustments: Couldn't compute ratio for dividend sid=298, ex_date=2017-11-09, amount=1.420\n",
            "[2022-04-07 20:42:25.606825] WARNING: zipline.data.adjustments: Couldn't compute ratio for dividend sid=318, ex_date=2017-11-09, amount=0.330\n",
            "[2022-04-07 20:42:25.606905] WARNING: zipline.data.adjustments: Couldn't compute ratio for dividend sid=434, ex_date=2017-11-09, amount=0.110\n",
            "[2022-04-07 20:42:25.606990] WARNING: zipline.data.adjustments: Couldn't compute ratio for dividend sid=516, ex_date=1996-05-30, amount=0.310\n",
            "[2022-04-07 20:42:25.607074] WARNING: zipline.data.adjustments: Couldn't compute ratio for dividend sid=524, ex_date=2017-11-09, amount=0.050\n",
            "[2022-04-07 20:42:25.607157] WARNING: zipline.data.adjustments: Couldn't compute ratio for dividend sid=556, ex_date=2017-11-09, amount=0.075\n",
            "[2022-04-07 20:42:25.607249] WARNING: zipline.data.adjustments: Couldn't compute ratio for dividend sid=578, ex_date=2017-11-09, amount=0.160\n",
            "[2022-04-07 20:42:25.607346] WARNING: zipline.data.adjustments: Couldn't compute ratio for dividend sid=605, ex_date=2017-11-09, amount=0.040\n",
            "[2022-04-07 20:42:25.607431] WARNING: zipline.data.adjustments: Couldn't compute ratio for dividend sid=666, ex_date=1990-03-26, amount=0.140\n",
            "[2022-04-07 20:42:25.607515] WARNING: zipline.data.adjustments: Couldn't compute ratio for dividend sid=694, ex_date=1990-03-27, amount=0.100\n",
            "[2022-04-07 20:42:25.607599] WARNING: zipline.data.adjustments: Couldn't compute ratio for dividend sid=723, ex_date=2017-11-09, amount=1.620\n",
            "[2022-04-07 20:42:25.607682] WARNING: zipline.data.adjustments: Couldn't compute ratio for dividend sid=758, ex_date=2017-11-09, amount=0.500\n",
            "[2022-04-07 20:42:25.607767] WARNING: zipline.data.adjustments: Couldn't compute ratio for dividend sid=788, ex_date=2017-11-09, amount=0.060\n",
            "[2022-04-07 20:42:25.607850] WARNING: zipline.data.adjustments: Couldn't compute ratio for dividend sid=859, ex_date=1995-05-09, amount=0.100\n",
            "[2022-04-07 20:42:25.607932] WARNING: zipline.data.adjustments: Couldn't compute ratio for dividend sid=904, ex_date=2017-11-09, amount=0.135\n",
            "[2022-04-07 20:42:25.608014] WARNING: zipline.data.adjustments: Couldn't compute ratio for dividend sid=975, ex_date=2017-11-09, amount=0.030\n",
            "[2022-04-07 20:42:25.608097] WARNING: zipline.data.adjustments: Couldn't compute ratio for dividend sid=1057, ex_date=2017-11-09, amount=0.250\n",
            "[2022-04-07 20:42:25.608211] WARNING: zipline.data.adjustments: Couldn't compute ratio for dividend sid=1088, ex_date=1990-03-26, amount=0.240\n",
            "[2022-04-07 20:42:25.608296] WARNING: zipline.data.adjustments: Couldn't compute ratio for dividend sid=1091, ex_date=2017-11-09, amount=0.075\n",
            "[2022-04-07 20:42:25.608391] WARNING: zipline.data.adjustments: Couldn't compute ratio for dividend sid=1111, ex_date=1993-03-04, amount=0.070\n",
            "[2022-04-07 20:42:25.608475] WARNING: zipline.data.adjustments: Couldn't compute ratio for dividend sid=1172, ex_date=2017-11-09, amount=0.130\n",
            "[2022-04-07 20:42:25.608558] WARNING: zipline.data.adjustments: Couldn't compute ratio for dividend sid=1209, ex_date=2017-11-09, amount=0.010\n",
            "[2022-04-07 20:42:25.608642] WARNING: zipline.data.adjustments: Couldn't compute ratio for dividend sid=1322, ex_date=1995-05-25, amount=0.150\n",
            "[2022-04-07 20:42:25.608726] WARNING: zipline.data.adjustments: Couldn't compute ratio for dividend sid=1441, ex_date=2017-11-09, amount=1.500\n",
            "[2022-04-07 20:42:25.608808] WARNING: zipline.data.adjustments: Couldn't compute ratio for dividend sid=1525, ex_date=2017-11-09, amount=0.090\n",
            "[2022-04-07 20:42:25.608889] WARNING: zipline.data.adjustments: Couldn't compute ratio for dividend sid=1600, ex_date=2015-07-06, amount=16.500\n",
            "[2022-04-07 20:42:25.608973] WARNING: zipline.data.adjustments: Couldn't compute ratio for dividend sid=1642, ex_date=2017-11-09, amount=0.270\n",
            "[2022-04-07 20:42:25.609055] WARNING: zipline.data.adjustments: Couldn't compute ratio for dividend sid=1748, ex_date=2017-11-09, amount=0.740\n",
            "[2022-04-07 20:42:25.609137] WARNING: zipline.data.adjustments: Couldn't compute ratio for dividend sid=1876, ex_date=2017-11-09, amount=0.120\n",
            "[2022-04-07 20:42:25.609225] WARNING: zipline.data.adjustments: Couldn't compute ratio for dividend sid=1922, ex_date=2017-11-09, amount=0.040\n",
            "[2022-04-07 20:42:25.609310] WARNING: zipline.data.adjustments: Couldn't compute ratio for dividend sid=1947, ex_date=1990-03-26, amount=0.150\n",
            "[2022-04-07 20:42:25.609406] WARNING: zipline.data.adjustments: Couldn't compute ratio for dividend sid=2098, ex_date=2017-11-09, amount=0.200\n",
            "[2022-04-07 20:42:25.609489] WARNING: zipline.data.adjustments: Couldn't compute ratio for dividend sid=2118, ex_date=2014-11-06, amount=0.050\n",
            "[2022-04-07 20:42:25.609572] WARNING: zipline.data.adjustments: Couldn't compute ratio for dividend sid=2120, ex_date=2017-11-09, amount=0.110\n",
            "[2022-04-07 20:42:25.609657] WARNING: zipline.data.adjustments: Couldn't compute ratio for dividend sid=2149, ex_date=2017-11-09, amount=0.330\n",
            "[2022-04-07 20:42:25.609740] WARNING: zipline.data.adjustments: Couldn't compute ratio for dividend sid=2204, ex_date=2017-11-09, amount=0.320\n",
            "[2022-04-07 20:42:25.609823] WARNING: zipline.data.adjustments: Couldn't compute ratio for dividend sid=2220, ex_date=2017-11-09, amount=0.660\n",
            "[2022-04-07 20:42:25.609912] WARNING: zipline.data.adjustments: Couldn't compute ratio for dividend sid=2281, ex_date=2017-11-09, amount=0.450\n",
            "[2022-04-07 20:42:25.609994] WARNING: zipline.data.adjustments: Couldn't compute ratio for dividend sid=2389, ex_date=2017-11-09, amount=0.140\n",
            "[2022-04-07 20:42:25.610076] WARNING: zipline.data.adjustments: Couldn't compute ratio for dividend sid=2441, ex_date=2017-11-09, amount=0.215\n",
            "[2022-04-07 20:42:25.610158] WARNING: zipline.data.adjustments: Couldn't compute ratio for dividend sid=2517, ex_date=2017-11-09, amount=0.080\n",
            "[2022-04-07 20:42:25.610248] WARNING: zipline.data.adjustments: Couldn't compute ratio for dividend sid=2582, ex_date=2017-11-09, amount=0.780\n",
            "[2022-04-07 20:42:25.610341] WARNING: zipline.data.adjustments: Couldn't compute ratio for dividend sid=2622, ex_date=2017-11-09, amount=0.390\n",
            "[2022-04-07 20:42:25.610424] WARNING: zipline.data.adjustments: Couldn't compute ratio for dividend sid=2662, ex_date=2015-01-14, amount=0.750\n",
            "[2022-04-07 20:42:25.610514] WARNING: zipline.data.adjustments: Couldn't compute ratio for dividend sid=2754, ex_date=2000-12-27, amount=0.250\n",
            "[2022-04-07 20:42:25.610598] WARNING: zipline.data.adjustments: Couldn't compute ratio for dividend sid=2754, ex_date=2009-09-11, amount=0.420\n",
            "[2022-04-07 20:42:25.610680] WARNING: zipline.data.adjustments: Couldn't compute ratio for dividend sid=2754, ex_date=2009-12-11, amount=0.420\n",
            "[2022-04-07 20:42:25.610764] WARNING: zipline.data.adjustments: Couldn't compute ratio for dividend sid=2754, ex_date=2010-03-11, amount=0.420\n",
            "[2022-04-07 20:42:25.610846] WARNING: zipline.data.adjustments: Couldn't compute ratio for dividend sid=2754, ex_date=2010-12-15, amount=0.180\n",
            "[2022-04-07 20:42:25.610931] WARNING: zipline.data.adjustments: Couldn't compute ratio for dividend sid=2766, ex_date=2017-11-09, amount=0.320\n",
            "[2022-04-07 20:42:25.611014] WARNING: zipline.data.adjustments: Couldn't compute ratio for dividend sid=2798, ex_date=2017-11-09, amount=0.065\n",
            "[2022-04-07 20:42:25.611096] WARNING: zipline.data.adjustments: Couldn't compute ratio for dividend sid=2817, ex_date=1992-03-03, amount=0.300\n",
            "[2022-04-07 20:42:25.611179] WARNING: zipline.data.adjustments: Couldn't compute ratio for dividend sid=2824, ex_date=2017-11-09, amount=0.120\n",
            "[2022-04-07 20:42:25.611269] WARNING: zipline.data.adjustments: Couldn't compute ratio for dividend sid=2843, ex_date=2017-11-09, amount=0.150\n",
            "[2022-04-07 20:42:25.611363] WARNING: zipline.data.adjustments: Couldn't compute ratio for dividend sid=2857, ex_date=2011-09-07, amount=0.410\n",
            "[2022-04-07 20:42:25.611446] WARNING: zipline.data.adjustments: Couldn't compute ratio for dividend sid=2968, ex_date=1990-03-26, amount=0.100\n",
            "[2022-04-07 20:42:25.611530] WARNING: zipline.data.adjustments: Couldn't compute ratio for dividend sid=3005, ex_date=1990-03-26, amount=0.070\n",
            "[2022-04-07 20:42:25.611612] WARNING: zipline.data.adjustments: Couldn't compute ratio for dividend sid=3078, ex_date=2014-05-12, amount=0.060\n",
            "[2022-04-07 20:42:25.611695] WARNING: zipline.data.adjustments: Couldn't compute ratio for dividend sid=3117, ex_date=2017-11-09, amount=0.430\n",
            "[2022-04-07 20:42:25.611778] WARNING: zipline.data.adjustments: Couldn't compute ratio for dividend sid=3138, ex_date=2010-08-16, amount=0.060\n",
            "[2022-04-07 20:42:25.611862] WARNING: zipline.data.adjustments: Couldn't compute ratio for dividend sid=3145, ex_date=2017-11-09, amount=0.050\n",
            "[2022-04-07 20:42:25.612234] WARNING: zipline.data.adjustments: Dividend ratio <= 0 for dividend sid=501, ex_date=2006-01-03, amount=41.560\n",
            "[2022-04-07 20:42:25.612369] WARNING: zipline.data.adjustments: Dividend ratio <= 0 for dividend sid=1557, ex_date=2007-07-02, amount=88.530\n",
            "[2022-04-07 20:42:25.612447] WARNING: zipline.data.adjustments: Dividend ratio <= 0 for dividend sid=1632, ex_date=2000-07-13, amount=181.000\n",
            "[2022-04-07 20:42:25.612523] WARNING: zipline.data.adjustments: Dividend ratio <= 0 for dividend sid=1657, ex_date=2013-09-30, amount=21.355\n",
            "[2022-04-07 20:42:25.612599] WARNING: zipline.data.adjustments: Dividend ratio <= 0 for dividend sid=1775, ex_date=1994-12-01, amount=76.000\n",
            "[2022-04-07 20:42:25.612680] WARNING: zipline.data.adjustments: Dividend ratio <= 0 for dividend sid=1776, ex_date=1996-11-04, amount=36.708\n",
            "[2022-04-07 20:42:25.612764] WARNING: zipline.data.adjustments: Dividend ratio <= 0 for dividend sid=2455, ex_date=2016-10-03, amount=25.611\n",
            "[2022-04-07 20:42:25.612848] WARNING: zipline.data.adjustments: Dividend ratio <= 0 for dividend sid=2687, ex_date=2008-06-26, amount=10.000\n",
            "[2022-04-07 20:42:25.612931] WARNING: zipline.data.adjustments: Dividend ratio <= 0 for dividend sid=2900, ex_date=2007-07-02, amount=88.530\n",
            "[2022-04-07 20:42:25.613015] WARNING: zipline.data.adjustments: Dividend ratio <= 0 for dividend sid=3088, ex_date=2015-04-27, amount=31.291\n"
          ]
        }
      ]
    },
    {
      "cell_type": "code",
      "source": [
        "# Ingest custom bundle\n",
        "!zipline ingest -b random"
      ],
      "metadata": {
        "id": "Ol2e01cH_O3z",
        "outputId": "a176ad09-3fda-4e2f-e149-fe4805eb566c",
        "colab": {
          "base_uri": "https://localhost:8080/"
        }
      },
      "execution_count": 90,
      "outputs": [
        {
          "output_type": "stream",
          "name": "stdout",
          "text": [
            "[2022-04-07 20:59:27.635913] INFO: zipline.data.bundles.core: Ingesting random.\n",
            " | APA: sid 0\n",
            " | BBY: sid 1\n",
            " | CMCSA: sid 2\n",
            " | CTL: sid 3\n",
            " | EL: sid 4\n",
            " | FAST: sid 5\n",
            " | GCO: sid 6\n",
            " | HPQ: sid 7\n",
            " | JCI: sid 8\n",
            " | JEC: sid 9\n",
            " | MCHP: sid 10\n",
            "\u001b[?25lLoading custom pricing data:   [######################--------------]   61% | MSFT: sid 11\n",
            "\u001b[?25lLoading custom pricing data:   [########################------------]   66% | PEP: sid 12\n",
            "\u001b[?25lLoading custom pricing data:   [##########################----------]   72% | PTC: sid 13\n",
            "\u001b[?25lLoading custom pricing data:   [############################--------]   77% | RAD: sid 14\n",
            "\u001b[?25lLoading custom pricing data:   [##############################------]   83% | T: sid 15\n",
            "\u001b[?25lLoading custom pricing data:   [################################----]   88% | TMK: sid 16\n",
            "\u001b[?25lLoading custom pricing data:   [##################################--]   94% | VVI: sid 17\n",
            "\u001b[?25lLoading custom pricing data:   [####################################]  100%\u001b[?25h\n",
            "\u001b[?25lMerging daily equity files:  [####################################]    \u001b[?25h\n",
            "[2022-04-07 20:59:28.934779] WARNING: zipline.data.adjustments: Dividend ratio <= 0 for dividend sid=3, ex_date=1996-06-04, amount=0.041\n",
            "[2022-04-07 20:59:28.935026] WARNING: zipline.data.adjustments: Dividend ratio <= 0 for dividend sid=3, ex_date=1998-03-04, amount=0.043\n",
            "[2022-04-07 20:59:28.935153] WARNING: zipline.data.adjustments: Dividend ratio <= 0 for dividend sid=3, ex_date=1998-06-03, amount=0.038\n",
            "[2022-04-07 20:59:28.935261] WARNING: zipline.data.adjustments: Dividend ratio <= 0 for dividend sid=3, ex_date=1998-09-01, amount=0.041\n",
            "[2022-04-07 20:59:28.935372] WARNING: zipline.data.adjustments: Dividend ratio <= 0 for dividend sid=3, ex_date=1998-12-01, amount=0.049\n",
            "[2022-04-07 20:59:28.935464] WARNING: zipline.data.adjustments: Dividend ratio <= 0 for dividend sid=3, ex_date=1999-08-31, amount=0.045\n",
            "[2022-04-07 20:59:28.935551] WARNING: zipline.data.adjustments: Dividend ratio <= 0 for dividend sid=3, ex_date=2000-03-02, amount=0.050\n",
            "[2022-04-07 20:59:28.935637] WARNING: zipline.data.adjustments: Dividend ratio <= 0 for dividend sid=3, ex_date=2000-08-29, amount=0.053\n",
            "[2022-04-07 20:59:28.935726] WARNING: zipline.data.adjustments: Dividend ratio <= 0 for dividend sid=3, ex_date=2008-09-04, amount=0.679\n",
            "[2022-04-07 20:59:28.935808] WARNING: zipline.data.adjustments: Dividend ratio <= 0 for dividend sid=3, ex_date=2008-11-26, amount=0.560\n",
            "[2022-04-07 20:59:28.935892] WARNING: zipline.data.adjustments: Dividend ratio <= 0 for dividend sid=3, ex_date=2009-03-12, amount=0.819\n",
            "[2022-04-07 20:59:28.935976] WARNING: zipline.data.adjustments: Dividend ratio <= 0 for dividend sid=3, ex_date=2009-06-11, amount=0.665\n",
            "[2022-04-07 20:59:28.936059] WARNING: zipline.data.adjustments: Dividend ratio <= 0 for dividend sid=3, ex_date=2009-09-02, amount=0.560\n",
            "[2022-04-07 20:59:28.936144] WARNING: zipline.data.adjustments: Dividend ratio <= 0 for dividend sid=3, ex_date=2009-11-27, amount=0.756\n",
            "[2022-04-07 20:59:28.936235] WARNING: zipline.data.adjustments: Dividend ratio <= 0 for dividend sid=3, ex_date=2010-03-04, amount=0.790\n",
            "[2022-04-07 20:59:28.936320] WARNING: zipline.data.adjustments: Dividend ratio <= 0 for dividend sid=3, ex_date=2010-06-03, amount=0.667\n",
            "[2022-04-07 20:59:28.936422] WARNING: zipline.data.adjustments: Dividend ratio <= 0 for dividend sid=3, ex_date=2010-09-01, amount=0.834\n",
            "[2022-04-07 20:59:28.936505] WARNING: zipline.data.adjustments: Dividend ratio <= 0 for dividend sid=3, ex_date=2010-12-02, amount=0.790\n",
            "[2022-04-07 20:59:28.936588] WARNING: zipline.data.adjustments: Dividend ratio <= 0 for dividend sid=3, ex_date=2011-02-15, amount=0.776\n",
            "[2022-04-07 20:59:28.936676] WARNING: zipline.data.adjustments: Dividend ratio <= 0 for dividend sid=3, ex_date=2011-06-01, amount=0.711\n",
            "[2022-04-07 20:59:28.936762] WARNING: zipline.data.adjustments: Dividend ratio <= 0 for dividend sid=3, ex_date=2011-08-31, amount=0.631\n",
            "[2022-04-07 20:59:28.936853] WARNING: zipline.data.adjustments: Dividend ratio <= 0 for dividend sid=3, ex_date=2011-12-01, amount=0.594\n",
            "[2022-04-07 20:59:28.936937] WARNING: zipline.data.adjustments: Dividend ratio <= 0 for dividend sid=3, ex_date=2012-03-01, amount=0.616\n",
            "[2022-04-07 20:59:28.937022] WARNING: zipline.data.adjustments: Dividend ratio <= 0 for dividend sid=3, ex_date=2012-05-31, amount=0.718\n",
            "[2022-04-07 20:59:28.937106] WARNING: zipline.data.adjustments: Dividend ratio <= 0 for dividend sid=3, ex_date=2012-09-06, amount=0.667\n",
            "[2022-04-07 20:59:28.937196] WARNING: zipline.data.adjustments: Dividend ratio <= 0 for dividend sid=3, ex_date=2012-12-06, amount=0.674\n",
            "[2022-04-07 20:59:28.937280] WARNING: zipline.data.adjustments: Dividend ratio <= 0 for dividend sid=3, ex_date=2013-03-06, amount=0.545\n",
            "[2022-04-07 20:59:28.937374] WARNING: zipline.data.adjustments: Dividend ratio <= 0 for dividend sid=3, ex_date=2013-05-29, amount=0.540\n",
            "[2022-04-07 20:59:28.937460] WARNING: zipline.data.adjustments: Dividend ratio <= 0 for dividend sid=3, ex_date=2013-09-03, amount=0.513\n",
            "[2022-04-07 20:59:28.937543] WARNING: zipline.data.adjustments: Dividend ratio <= 0 for dividend sid=3, ex_date=2013-11-20, amount=0.643\n",
            "[2022-04-07 20:59:28.937626] WARNING: zipline.data.adjustments: Dividend ratio <= 0 for dividend sid=3, ex_date=2014-03-05, amount=0.513\n",
            "[2022-04-07 20:59:28.937710] WARNING: zipline.data.adjustments: Dividend ratio <= 0 for dividend sid=3, ex_date=2014-06-04, amount=0.475\n",
            "[2022-04-07 20:59:28.937795] WARNING: zipline.data.adjustments: Dividend ratio <= 0 for dividend sid=3, ex_date=2014-08-26, amount=0.464\n",
            "[2022-04-07 20:59:28.937879] WARNING: zipline.data.adjustments: Dividend ratio <= 0 for dividend sid=3, ex_date=2014-11-19, amount=0.535\n",
            "[2022-04-07 20:59:28.937963] WARNING: zipline.data.adjustments: Dividend ratio <= 0 for dividend sid=3, ex_date=2015-03-03, amount=0.545\n",
            "[2022-04-07 20:59:28.938049] WARNING: zipline.data.adjustments: Dividend ratio <= 0 for dividend sid=3, ex_date=2015-05-28, amount=0.589\n",
            "[2022-04-07 20:59:28.938132] WARNING: zipline.data.adjustments: Dividend ratio <= 0 for dividend sid=3, ex_date=2015-09-02, amount=0.605\n",
            "[2022-04-07 20:59:28.938228] WARNING: zipline.data.adjustments: Dividend ratio <= 0 for dividend sid=3, ex_date=2015-11-19, amount=0.632\n",
            "[2022-04-07 20:59:28.938313] WARNING: zipline.data.adjustments: Dividend ratio <= 0 for dividend sid=3, ex_date=2016-03-01, amount=0.589\n",
            "[2022-04-07 20:59:28.938409] WARNING: zipline.data.adjustments: Dividend ratio <= 0 for dividend sid=3, ex_date=2016-05-25, amount=0.632\n",
            "[2022-04-07 20:59:28.938494] WARNING: zipline.data.adjustments: Dividend ratio <= 0 for dividend sid=3, ex_date=2016-08-30, amount=0.578\n",
            "[2022-04-07 20:59:28.938579] WARNING: zipline.data.adjustments: Dividend ratio <= 0 for dividend sid=3, ex_date=2016-11-22, amount=0.599\n",
            "[2022-04-07 20:59:28.938661] WARNING: zipline.data.adjustments: Dividend ratio <= 0 for dividend sid=3, ex_date=2017-02-28, amount=0.432\n",
            "[2022-04-07 20:59:28.938746] WARNING: zipline.data.adjustments: Dividend ratio <= 0 for dividend sid=3, ex_date=2017-05-31, amount=0.502\n",
            "[2022-04-07 20:59:28.938829] WARNING: zipline.data.adjustments: Dividend ratio <= 0 for dividend sid=3, ex_date=2017-08-30, amount=0.567\n",
            "[2022-04-07 20:59:28.938915] WARNING: zipline.data.adjustments: Dividend ratio <= 0 for dividend sid=3, ex_date=2017-11-22, amount=0.524\n",
            "[2022-04-07 20:59:28.938999] WARNING: zipline.data.adjustments: Dividend ratio <= 0 for dividend sid=3, ex_date=2018-03-01, amount=0.454\n",
            "[2022-04-07 20:59:28.939084] WARNING: zipline.data.adjustments: Dividend ratio <= 0 for dividend sid=3, ex_date=2018-05-31, amount=0.551\n",
            "[2022-04-07 20:59:28.939175] WARNING: zipline.data.adjustments: Dividend ratio <= 0 for dividend sid=3, ex_date=2018-08-29, amount=0.437\n",
            "[2022-04-07 20:59:28.939261] WARNING: zipline.data.adjustments: Dividend ratio <= 0 for dividend sid=3, ex_date=2018-11-21, amount=0.437\n",
            "[2022-04-07 20:59:28.939360] WARNING: zipline.data.adjustments: Dividend ratio <= 0 for dividend sid=4, ex_date=2011-11-22, amount=0.536\n",
            "[2022-04-07 20:59:28.939452] WARNING: zipline.data.adjustments: Dividend ratio <= 0 for dividend sid=4, ex_date=2012-11-27, amount=0.655\n",
            "[2022-04-07 20:59:28.939535] WARNING: zipline.data.adjustments: Dividend ratio <= 0 for dividend sid=4, ex_date=2016-02-24, amount=0.315\n",
            "[2022-04-07 20:59:28.939618] WARNING: zipline.data.adjustments: Dividend ratio <= 0 for dividend sid=4, ex_date=2016-05-25, amount=0.339\n",
            "[2022-04-07 20:59:28.939701] WARNING: zipline.data.adjustments: Dividend ratio <= 0 for dividend sid=4, ex_date=2016-11-25, amount=0.388\n",
            "[2022-04-07 20:59:28.939783] WARNING: zipline.data.adjustments: Dividend ratio <= 0 for dividend sid=4, ex_date=2017-02-23, amount=0.286\n",
            "[2022-04-07 20:59:28.939868] WARNING: zipline.data.adjustments: Dividend ratio <= 0 for dividend sid=4, ex_date=2017-05-25, amount=0.292\n",
            "[2022-04-07 20:59:28.939949] WARNING: zipline.data.adjustments: Dividend ratio <= 0 for dividend sid=4, ex_date=2017-08-28, amount=0.357\n",
            "[2022-04-07 20:59:28.940034] WARNING: zipline.data.adjustments: Dividend ratio <= 0 for dividend sid=4, ex_date=2017-11-28, amount=0.403\n",
            "[2022-04-07 20:59:28.940114] WARNING: zipline.data.adjustments: Dividend ratio <= 0 for dividend sid=4, ex_date=2018-02-26, amount=0.403\n",
            "[2022-04-07 20:59:28.940203] WARNING: zipline.data.adjustments: Dividend ratio <= 0 for dividend sid=4, ex_date=2018-05-29, amount=0.372\n",
            "[2022-04-07 20:59:28.940284] WARNING: zipline.data.adjustments: Dividend ratio <= 0 for dividend sid=4, ex_date=2018-08-29, amount=0.441\n",
            "[2022-04-07 20:59:28.940384] WARNING: zipline.data.adjustments: Dividend ratio <= 0 for dividend sid=4, ex_date=2018-11-28, amount=0.499\n",
            "[2022-04-07 20:59:28.940469] WARNING: zipline.data.adjustments: Dividend ratio <= 0 for dividend sid=5, ex_date=2013-07-23, amount=0.275\n",
            "[2022-04-07 20:59:28.940555] WARNING: zipline.data.adjustments: Dividend ratio <= 0 for dividend sid=5, ex_date=2015-01-27, amount=0.294\n",
            "[2022-04-07 20:59:28.940640] WARNING: zipline.data.adjustments: Dividend ratio <= 0 for dividend sid=5, ex_date=2015-07-23, amount=0.316\n",
            "[2022-04-07 20:59:28.940742] WARNING: zipline.data.adjustments: Dividend ratio <= 0 for dividend sid=5, ex_date=2015-10-22, amount=0.300\n",
            "[2022-04-07 20:59:28.940830] WARNING: zipline.data.adjustments: Dividend ratio <= 0 for dividend sid=5, ex_date=2016-01-26, amount=0.321\n",
            "[2022-04-07 20:59:28.940915] WARNING: zipline.data.adjustments: Dividend ratio <= 0 for dividend sid=5, ex_date=2016-04-21, amount=0.243\n",
            "[2022-04-07 20:59:28.940999] WARNING: zipline.data.adjustments: Dividend ratio <= 0 for dividend sid=5, ex_date=2016-07-21, amount=0.264\n",
            "[2022-04-07 20:59:28.941083] WARNING: zipline.data.adjustments: Dividend ratio <= 0 for dividend sid=5, ex_date=2016-10-20, amount=0.351\n",
            "[2022-04-07 20:59:28.941177] WARNING: zipline.data.adjustments: Dividend ratio <= 0 for dividend sid=5, ex_date=2017-01-27, amount=0.275\n",
            "[2022-04-07 20:59:28.941262] WARNING: zipline.data.adjustments: Dividend ratio <= 0 for dividend sid=5, ex_date=2017-04-21, amount=0.349\n",
            "[2022-04-07 20:59:28.941377] WARNING: zipline.data.adjustments: Dividend ratio <= 0 for dividend sid=5, ex_date=2017-07-21, amount=0.339\n",
            "[2022-04-07 20:59:28.941458] WARNING: zipline.data.adjustments: Dividend ratio <= 0 for dividend sid=5, ex_date=2017-10-23, amount=0.330\n",
            "[2022-04-07 20:59:28.941542] WARNING: zipline.data.adjustments: Dividend ratio <= 0 for dividend sid=5, ex_date=2018-01-29, amount=0.329\n",
            "[2022-04-07 20:59:28.941626] WARNING: zipline.data.adjustments: Dividend ratio <= 0 for dividend sid=5, ex_date=2018-04-23, amount=0.392\n",
            "[2022-04-07 20:59:28.941714] WARNING: zipline.data.adjustments: Dividend ratio <= 0 for dividend sid=5, ex_date=2018-07-23, amount=0.412\n",
            "[2022-04-07 20:59:28.941798] WARNING: zipline.data.adjustments: Dividend ratio <= 0 for dividend sid=5, ex_date=2018-10-22, amount=0.376\n",
            "[2022-04-07 20:59:28.941884] WARNING: zipline.data.adjustments: Dividend ratio <= 0 for dividend sid=9, ex_date=2017-02-14, amount=0.148\n",
            "[2022-04-07 20:59:28.941969] WARNING: zipline.data.adjustments: Dividend ratio <= 0 for dividend sid=9, ex_date=2017-05-16, amount=0.138\n",
            "[2022-04-07 20:59:28.942054] WARNING: zipline.data.adjustments: Dividend ratio <= 0 for dividend sid=9, ex_date=2017-08-01, amount=0.171\n",
            "[2022-04-07 20:59:28.942137] WARNING: zipline.data.adjustments: Dividend ratio <= 0 for dividend sid=9, ex_date=2017-10-11, amount=0.138\n",
            "[2022-04-07 20:59:28.942226] WARNING: zipline.data.adjustments: Dividend ratio <= 0 for dividend sid=9, ex_date=2018-02-14, amount=0.177\n",
            "[2022-04-07 20:59:28.942312] WARNING: zipline.data.adjustments: Dividend ratio <= 0 for dividend sid=9, ex_date=2018-05-16, amount=0.147\n",
            "[2022-04-07 20:59:28.942406] WARNING: zipline.data.adjustments: Dividend ratio <= 0 for dividend sid=9, ex_date=2018-08-01, amount=0.126\n",
            "[2022-04-07 20:59:28.942491] WARNING: zipline.data.adjustments: Dividend ratio <= 0 for dividend sid=9, ex_date=2018-09-26, amount=0.161\n",
            "[2022-04-07 20:59:28.942576] WARNING: zipline.data.adjustments: Dividend ratio <= 0 for dividend sid=10, ex_date=2010-11-15, amount=0.406\n",
            "[2022-04-07 20:59:28.942660] WARNING: zipline.data.adjustments: Dividend ratio <= 0 for dividend sid=10, ex_date=2012-11-16, amount=0.380\n",
            "[2022-04-07 20:59:28.942750] WARNING: zipline.data.adjustments: Dividend ratio <= 0 for dividend sid=10, ex_date=2013-02-15, amount=0.385\n",
            "[2022-04-07 20:59:28.942835] WARNING: zipline.data.adjustments: Dividend ratio <= 0 for dividend sid=10, ex_date=2013-11-18, amount=0.343\n",
            "[2022-04-07 20:59:28.942920] WARNING: zipline.data.adjustments: Dividend ratio <= 0 for dividend sid=10, ex_date=2014-02-18, amount=0.312\n",
            "[2022-04-07 20:59:28.943005] WARNING: zipline.data.adjustments: Dividend ratio <= 0 for dividend sid=10, ex_date=2014-05-16, amount=0.370\n",
            "[2022-04-07 20:59:28.943088] WARNING: zipline.data.adjustments: Dividend ratio <= 0 for dividend sid=10, ex_date=2014-08-18, amount=0.363\n",
            "[2022-04-07 20:59:28.943178] WARNING: zipline.data.adjustments: Dividend ratio <= 0 for dividend sid=10, ex_date=2014-11-18, amount=0.324\n",
            "[2022-04-07 20:59:28.943264] WARNING: zipline.data.adjustments: Dividend ratio <= 0 for dividend sid=10, ex_date=2015-02-18, amount=0.361\n",
            "[2022-04-07 20:59:28.943358] WARNING: zipline.data.adjustments: Dividend ratio <= 0 for dividend sid=10, ex_date=2015-05-18, amount=0.322\n",
            "[2022-04-07 20:59:28.943441] WARNING: zipline.data.adjustments: Dividend ratio <= 0 for dividend sid=10, ex_date=2015-09-08, amount=0.358\n",
            "[2022-04-07 20:59:28.943524] WARNING: zipline.data.adjustments: Dividend ratio <= 0 for dividend sid=10, ex_date=2015-11-17, amount=0.409\n",
            "[2022-04-07 20:59:28.943607] WARNING: zipline.data.adjustments: Dividend ratio <= 0 for dividend sid=10, ex_date=2016-02-17, amount=0.406\n",
            "[2022-04-07 20:59:28.943688] WARNING: zipline.data.adjustments: Dividend ratio <= 0 for dividend sid=10, ex_date=2016-05-18, amount=0.413\n",
            "[2022-04-07 20:59:28.943771] WARNING: zipline.data.adjustments: Dividend ratio <= 0 for dividend sid=10, ex_date=2016-08-17, amount=0.378\n",
            "[2022-04-07 20:59:28.943996] WARNING: zipline.data.adjustments: Dividend ratio <= 0 for dividend sid=10, ex_date=2016-11-16, amount=0.404\n",
            "[2022-04-07 20:59:28.944194] WARNING: zipline.data.adjustments: Dividend ratio <= 0 for dividend sid=10, ex_date=2017-02-15, amount=0.296\n",
            "[2022-04-07 20:59:28.944451] WARNING: zipline.data.adjustments: Dividend ratio <= 0 for dividend sid=10, ex_date=2017-05-18, amount=0.300\n",
            "[2022-04-07 20:59:28.944606] WARNING: zipline.data.adjustments: Dividend ratio <= 0 for dividend sid=10, ex_date=2017-08-16, amount=0.290\n",
            "[2022-04-07 20:59:28.944707] WARNING: zipline.data.adjustments: Dividend ratio <= 0 for dividend sid=10, ex_date=2017-11-17, amount=0.294\n",
            "[2022-04-07 20:59:28.944802] WARNING: zipline.data.adjustments: Dividend ratio <= 0 for dividend sid=10, ex_date=2018-02-16, amount=0.316\n",
            "[2022-04-07 20:59:28.944893] WARNING: zipline.data.adjustments: Dividend ratio <= 0 for dividend sid=10, ex_date=2018-05-17, amount=0.407\n",
            "[2022-04-07 20:59:28.944981] WARNING: zipline.data.adjustments: Dividend ratio <= 0 for dividend sid=10, ex_date=2018-08-17, amount=0.291\n",
            "[2022-04-07 20:59:28.945310] WARNING: zipline.data.adjustments: Dividend ratio <= 0 for dividend sid=10, ex_date=2018-11-19, amount=0.295\n",
            "[2022-04-07 20:59:28.945440] WARNING: zipline.data.adjustments: Dividend ratio <= 0 for dividend sid=12, ex_date=2004-06-08, amount=0.223\n",
            "[2022-04-07 20:59:28.945531] WARNING: zipline.data.adjustments: Dividend ratio <= 0 for dividend sid=12, ex_date=2005-12-06, amount=0.216\n",
            "[2022-04-07 20:59:28.945617] WARNING: zipline.data.adjustments: Dividend ratio <= 0 for dividend sid=12, ex_date=2006-03-07, amount=0.244\n",
            "[2022-04-07 20:59:28.945702] WARNING: zipline.data.adjustments: Dividend ratio <= 0 for dividend sid=12, ex_date=2006-06-06, amount=0.357\n",
            "[2022-04-07 20:59:28.945796] WARNING: zipline.data.adjustments: Dividend ratio <= 0 for dividend sid=12, ex_date=2006-09-05, amount=0.297\n",
            "[2022-04-07 20:59:28.945884] WARNING: zipline.data.adjustments: Dividend ratio <= 0 for dividend sid=12, ex_date=2006-12-05, amount=0.339\n",
            "[2022-04-07 20:59:28.945979] WARNING: zipline.data.adjustments: Dividend ratio <= 0 for dividend sid=12, ex_date=2007-03-06, amount=0.240\n",
            "[2022-04-07 20:59:28.946065] WARNING: zipline.data.adjustments: Dividend ratio <= 0 for dividend sid=12, ex_date=2007-06-05, amount=0.360\n",
            "[2022-04-07 20:59:28.946152] WARNING: zipline.data.adjustments: Dividend ratio <= 0 for dividend sid=12, ex_date=2007-09-04, amount=0.349\n",
            "[2022-04-07 20:59:28.946244] WARNING: zipline.data.adjustments: Dividend ratio <= 0 for dividend sid=12, ex_date=2007-12-04, amount=0.304\n",
            "[2022-04-07 20:59:28.946341] WARNING: zipline.data.adjustments: Dividend ratio <= 0 for dividend sid=12, ex_date=2008-03-04, amount=0.319\n",
            "[2022-04-07 20:59:28.946427] WARNING: zipline.data.adjustments: Dividend ratio <= 0 for dividend sid=12, ex_date=2008-06-03, amount=0.348\n",
            "[2022-04-07 20:59:29.004452] WARNING: zipline.data.adjustments: Dividend ratio <= 0 for dividend sid=12, ex_date=2008-09-02, amount=0.344\n",
            "[2022-04-07 20:59:29.004759] WARNING: zipline.data.adjustments: Dividend ratio <= 0 for dividend sid=12, ex_date=2008-12-02, amount=0.395\n",
            "[2022-04-07 20:59:29.004917] WARNING: zipline.data.adjustments: Dividend ratio <= 0 for dividend sid=12, ex_date=2009-03-03, amount=0.433\n",
            "[2022-04-07 20:59:29.005027] WARNING: zipline.data.adjustments: Dividend ratio <= 0 for dividend sid=12, ex_date=2009-06-02, amount=0.526\n",
            "[2022-04-07 20:59:29.005129] WARNING: zipline.data.adjustments: Dividend ratio <= 0 for dividend sid=12, ex_date=2009-09-01, amount=0.450\n",
            "[2022-04-07 20:59:29.005226] WARNING: zipline.data.adjustments: Dividend ratio <= 0 for dividend sid=12, ex_date=2009-12-01, amount=0.513\n",
            "[2022-04-07 20:59:29.005347] WARNING: zipline.data.adjustments: Dividend ratio <= 0 for dividend sid=12, ex_date=2010-03-02, amount=0.401\n",
            "[2022-04-07 20:59:29.005450] WARNING: zipline.data.adjustments: Dividend ratio <= 0 for dividend sid=12, ex_date=2010-06-01, amount=0.528\n",
            "[2022-04-07 20:59:29.005546] WARNING: zipline.data.adjustments: Dividend ratio <= 0 for dividend sid=12, ex_date=2010-08-31, amount=0.557\n",
            "[2022-04-07 20:59:29.005644] WARNING: zipline.data.adjustments: Dividend ratio <= 0 for dividend sid=12, ex_date=2010-11-30, amount=0.499\n",
            "[2022-04-07 20:59:29.005760] WARNING: zipline.data.adjustments: Dividend ratio <= 0 for dividend sid=12, ex_date=2011-03-01, amount=0.432\n",
            "[2022-04-07 20:59:29.005864] WARNING: zipline.data.adjustments: Dividend ratio <= 0 for dividend sid=12, ex_date=2011-05-31, amount=0.484\n",
            "[2022-04-07 20:59:29.005965] WARNING: zipline.data.adjustments: Dividend ratio <= 0 for dividend sid=12, ex_date=2011-08-30, amount=0.412\n",
            "[2022-04-07 20:59:29.006069] WARNING: zipline.data.adjustments: Dividend ratio <= 0 for dividend sid=12, ex_date=2011-11-29, amount=0.567\n",
            "[2022-04-07 20:59:29.006175] WARNING: zipline.data.adjustments: Dividend ratio <= 0 for dividend sid=12, ex_date=2012-02-28, amount=0.474\n",
            "[2022-04-07 20:59:29.006278] WARNING: zipline.data.adjustments: Dividend ratio <= 0 for dividend sid=12, ex_date=2012-05-29, amount=0.516\n",
            "[2022-04-07 20:59:29.006402] WARNING: zipline.data.adjustments: Dividend ratio <= 0 for dividend sid=12, ex_date=2012-09-04, amount=0.624\n",
            "[2022-04-07 20:59:29.006510] WARNING: zipline.data.adjustments: Dividend ratio <= 0 for dividend sid=12, ex_date=2012-12-04, amount=0.473\n",
            "[2022-04-07 20:59:29.006610] WARNING: zipline.data.adjustments: Dividend ratio <= 0 for dividend sid=12, ex_date=2013-02-26, amount=0.558\n",
            "[2022-04-07 20:59:29.006701] WARNING: zipline.data.adjustments: Dividend ratio <= 0 for dividend sid=12, ex_date=2013-06-04, amount=0.648\n",
            "[2022-04-07 20:59:29.006780] WARNING: zipline.data.adjustments: Dividend ratio <= 0 for dividend sid=12, ex_date=2013-09-03, amount=0.551\n",
            "[2022-04-07 20:59:29.006858] WARNING: zipline.data.adjustments: Dividend ratio <= 0 for dividend sid=12, ex_date=2013-12-03, amount=0.591\n",
            "[2022-04-07 20:59:29.006941] WARNING: zipline.data.adjustments: Dividend ratio <= 0 for dividend sid=12, ex_date=2014-03-04, amount=0.557\n",
            "[2022-04-07 20:59:29.007025] WARNING: zipline.data.adjustments: Dividend ratio <= 0 for dividend sid=12, ex_date=2014-06-03, amount=0.557\n",
            "[2022-04-07 20:59:29.007109] WARNING: zipline.data.adjustments: Dividend ratio <= 0 for dividend sid=12, ex_date=2014-09-02, amount=0.681\n",
            "[2022-04-07 20:59:29.007192] WARNING: zipline.data.adjustments: Dividend ratio <= 0 for dividend sid=12, ex_date=2014-12-02, amount=0.694\n",
            "[2022-04-07 20:59:29.007276] WARNING: zipline.data.adjustments: Dividend ratio <= 0 for dividend sid=12, ex_date=2015-03-03, amount=0.563\n",
            "[2022-04-07 20:59:29.007372] WARNING: zipline.data.adjustments: Dividend ratio <= 0 for dividend sid=12, ex_date=2015-06-02, amount=0.590\n",
            "[2022-04-07 20:59:29.007454] WARNING: zipline.data.adjustments: Dividend ratio <= 0 for dividend sid=12, ex_date=2015-09-01, amount=0.625\n",
            "[2022-04-07 20:59:29.007539] WARNING: zipline.data.adjustments: Dividend ratio <= 0 for dividend sid=12, ex_date=2015-12-01, amount=0.745\n",
            "[2022-04-07 20:59:29.007622] WARNING: zipline.data.adjustments: Dividend ratio <= 0 for dividend sid=12, ex_date=2016-03-01, amount=0.583\n",
            "[2022-04-07 20:59:29.007711] WARNING: zipline.data.adjustments: Dividend ratio <= 0 for dividend sid=12, ex_date=2016-05-31, amount=0.760\n",
            "[2022-04-07 20:59:29.007795] WARNING: zipline.data.adjustments: Dividend ratio <= 0 for dividend sid=12, ex_date=2016-08-30, amount=0.843\n",
            "[2022-04-07 20:59:29.007879] WARNING: zipline.data.adjustments: Dividend ratio <= 0 for dividend sid=12, ex_date=2016-11-29, amount=0.775\n",
            "[2022-04-07 20:59:29.007961] WARNING: zipline.data.adjustments: Dividend ratio <= 0 for dividend sid=12, ex_date=2017-02-28, amount=0.677\n",
            "[2022-04-07 20:59:29.008051] WARNING: zipline.data.adjustments: Dividend ratio <= 0 for dividend sid=12, ex_date=2017-05-30, amount=0.797\n",
            "[2022-04-07 20:59:29.008147] WARNING: zipline.data.adjustments: Dividend ratio <= 0 for dividend sid=12, ex_date=2017-08-29, amount=0.942\n",
            "[2022-04-07 20:59:29.008231] WARNING: zipline.data.adjustments: Dividend ratio <= 0 for dividend sid=12, ex_date=2017-11-29, amount=0.869\n",
            "[2022-04-07 20:59:29.008357] WARNING: zipline.data.adjustments: Dividend ratio <= 0 for dividend sid=12, ex_date=2018-02-28, amount=0.869\n",
            "[2022-04-07 20:59:29.008445] WARNING: zipline.data.adjustments: Dividend ratio <= 0 for dividend sid=12, ex_date=2018-05-30, amount=1.048\n",
            "[2022-04-07 20:59:29.008529] WARNING: zipline.data.adjustments: Dividend ratio <= 0 for dividend sid=12, ex_date=2018-09-05, amount=0.779\n",
            "[2022-04-07 20:59:29.008613] WARNING: zipline.data.adjustments: Dividend ratio <= 0 for dividend sid=12, ex_date=2018-12-04, amount=0.937\n"
          ]
        }
      ]
    },
    {
      "cell_type": "code",
      "source": [
        "!CSVDIR=/content/drive/MyDrive/Colab Notebooks/My Project Folder/random_stocks zipline ingest -b random"
      ],
      "metadata": {
        "id": "tbWed6iBzu3-",
        "outputId": "4bb5310a-c1f8-4eeb-b8d9-c6501d2f2033",
        "colab": {
          "base_uri": "https://localhost:8080/"
        }
      },
      "execution_count": 89,
      "outputs": [
        {
          "output_type": "stream",
          "name": "stdout",
          "text": [
            "/bin/bash: Notebooks/My: No such file or directory\n"
          ]
        }
      ]
    },
    {
      "cell_type": "code",
      "source": [
        "!zipline bundles"
      ],
      "metadata": {
        "id": "CztteBO3fmtr",
        "outputId": "b87db2ae-cdc7-4a9c-811a-5c1a8268cfae",
        "colab": {
          "base_uri": "https://localhost:8080/"
        }
      },
      "execution_count": 84,
      "outputs": [
        {
          "output_type": "stream",
          "name": "stdout",
          "text": [
            "csvdir <no ingestions>\n",
            "quandl 2022-04-07 20:39:16.179368\n",
            "quantopian-quandl <no ingestions>\n",
            "random 2022-04-07 20:36:33.049653\n"
          ]
        }
      ]
    },
    {
      "cell_type": "markdown",
      "source": [
        "# **CLENOW CORE TREND MODEL CODE** *Do Not Delete*"
      ],
      "metadata": {
        "id": "EHQUpvbK0RNj"
      }
    },
    {
      "cell_type": "code",
      "execution_count": 91,
      "metadata": {
        "scrolled": false,
        "id": "TRgxC82nJNPf",
        "outputId": "3c49f62a-82ce-4a19-8109-7f4339789c82",
        "colab": {
          "base_uri": "https://localhost:8080/",
          "height": 380
        }
      },
      "outputs": [
        {
          "output_type": "error",
          "ename": "UnknownBundle",
          "evalue": "ignored",
          "traceback": [
            "\u001b[0;31m---------------------------------------------------------------------------\u001b[0m",
            "\u001b[0;31mUnknownBundle\u001b[0m                             Traceback (most recent call last)",
            "\u001b[0;32m<ipython-input-91-ff95b605648e>\u001b[0m in \u001b[0;36m<module>\u001b[0;34m()\u001b[0m\n\u001b[1;32m    216\u001b[0m     \u001b[0mcapital_base\u001b[0m\u001b[0;34m=\u001b[0m\u001b[0mintial_portfolio\u001b[0m\u001b[0;34m,\u001b[0m\u001b[0;34m\u001b[0m\u001b[0;34m\u001b[0m\u001b[0m\n\u001b[1;32m    217\u001b[0m     \u001b[0mdata_frequency\u001b[0m \u001b[0;34m=\u001b[0m \u001b[0;34m'daily'\u001b[0m\u001b[0;34m,\u001b[0m\u001b[0;34m\u001b[0m\u001b[0;34m\u001b[0m\u001b[0m\n\u001b[0;32m--> 218\u001b[0;31m     bundle= 'random' ) \n\u001b[0m\u001b[1;32m    219\u001b[0m \u001b[0;34m\u001b[0m\u001b[0m\n",
            "\u001b[0;32m/usr/local/lib/python3.7/dist-packages/zipline/utils/run_algo.py\u001b[0m in \u001b[0;36mrun_algorithm\u001b[0;34m(start, end, initialize, capital_base, handle_data, before_trading_start, analyze, data_frequency, bundle, bundle_timestamp, trading_calendar, metrics_set, benchmark_returns, default_extension, extensions, strict_extensions, environ, custom_loader, blotter)\u001b[0m\n\u001b[1;32m    417\u001b[0m         \u001b[0mblotter\u001b[0m\u001b[0;34m=\u001b[0m\u001b[0mblotter\u001b[0m\u001b[0;34m,\u001b[0m\u001b[0;34m\u001b[0m\u001b[0;34m\u001b[0m\u001b[0m\n\u001b[1;32m    418\u001b[0m         \u001b[0mcustom_loader\u001b[0m\u001b[0;34m=\u001b[0m\u001b[0mcustom_loader\u001b[0m\u001b[0;34m,\u001b[0m\u001b[0;34m\u001b[0m\u001b[0;34m\u001b[0m\u001b[0m\n\u001b[0;32m--> 419\u001b[0;31m         \u001b[0mbenchmark_spec\u001b[0m\u001b[0;34m=\u001b[0m\u001b[0mbenchmark_spec\u001b[0m\u001b[0;34m,\u001b[0m\u001b[0;34m\u001b[0m\u001b[0;34m\u001b[0m\u001b[0m\n\u001b[0m\u001b[1;32m    420\u001b[0m     )\n\u001b[1;32m    421\u001b[0m \u001b[0;34m\u001b[0m\u001b[0m\n",
            "\u001b[0;32m/usr/local/lib/python3.7/dist-packages/zipline/utils/run_algo.py\u001b[0m in \u001b[0;36m_run\u001b[0;34m(handle_data, initialize, before_trading_start, analyze, algofile, algotext, defines, data_frequency, capital_base, bundle, bundle_timestamp, start, end, output, trading_calendar, print_algo, metrics_set, local_namespace, environ, blotter, custom_loader, benchmark_spec)\u001b[0m\n\u001b[1;32m     94\u001b[0m         \u001b[0mbundle\u001b[0m\u001b[0;34m,\u001b[0m\u001b[0;34m\u001b[0m\u001b[0;34m\u001b[0m\u001b[0m\n\u001b[1;32m     95\u001b[0m         \u001b[0menviron\u001b[0m\u001b[0;34m,\u001b[0m\u001b[0;34m\u001b[0m\u001b[0;34m\u001b[0m\u001b[0m\n\u001b[0;32m---> 96\u001b[0;31m         \u001b[0mbundle_timestamp\u001b[0m\u001b[0;34m,\u001b[0m\u001b[0;34m\u001b[0m\u001b[0;34m\u001b[0m\u001b[0m\n\u001b[0m\u001b[1;32m     97\u001b[0m     )\n\u001b[1;32m     98\u001b[0m \u001b[0;34m\u001b[0m\u001b[0m\n",
            "\u001b[0;32m/usr/local/lib/python3.7/dist-packages/zipline/data/bundles/core.py\u001b[0m in \u001b[0;36mload\u001b[0;34m(name, environ, timestamp)\u001b[0m\n\u001b[1;32m    530\u001b[0m         \u001b[0;32mif\u001b[0m \u001b[0mtimestamp\u001b[0m \u001b[0;32mis\u001b[0m \u001b[0;32mNone\u001b[0m\u001b[0;34m:\u001b[0m\u001b[0;34m\u001b[0m\u001b[0;34m\u001b[0m\u001b[0m\n\u001b[1;32m    531\u001b[0m             \u001b[0mtimestamp\u001b[0m \u001b[0;34m=\u001b[0m \u001b[0mpd\u001b[0m\u001b[0;34m.\u001b[0m\u001b[0mTimestamp\u001b[0m\u001b[0;34m.\u001b[0m\u001b[0mutcnow\u001b[0m\u001b[0;34m(\u001b[0m\u001b[0;34m)\u001b[0m\u001b[0;34m\u001b[0m\u001b[0;34m\u001b[0m\u001b[0m\n\u001b[0;32m--> 532\u001b[0;31m         \u001b[0mtimestr\u001b[0m \u001b[0;34m=\u001b[0m \u001b[0mmost_recent_data\u001b[0m\u001b[0;34m(\u001b[0m\u001b[0mname\u001b[0m\u001b[0;34m,\u001b[0m \u001b[0mtimestamp\u001b[0m\u001b[0;34m,\u001b[0m \u001b[0menviron\u001b[0m\u001b[0;34m=\u001b[0m\u001b[0menviron\u001b[0m\u001b[0;34m)\u001b[0m\u001b[0;34m\u001b[0m\u001b[0;34m\u001b[0m\u001b[0m\n\u001b[0m\u001b[1;32m    533\u001b[0m         return BundleData(\n\u001b[1;32m    534\u001b[0m             asset_finder=AssetFinder(\n",
            "\u001b[0;32m/usr/local/lib/python3.7/dist-packages/zipline/data/bundles/core.py\u001b[0m in \u001b[0;36mmost_recent_data\u001b[0;34m(bundle_name, timestamp, environ)\u001b[0m\n\u001b[1;32m    483\u001b[0m         \"\"\"\n\u001b[1;32m    484\u001b[0m         \u001b[0;32mif\u001b[0m \u001b[0mbundle_name\u001b[0m \u001b[0;32mnot\u001b[0m \u001b[0;32min\u001b[0m \u001b[0mbundles\u001b[0m\u001b[0;34m:\u001b[0m\u001b[0;34m\u001b[0m\u001b[0;34m\u001b[0m\u001b[0m\n\u001b[0;32m--> 485\u001b[0;31m             \u001b[0;32mraise\u001b[0m \u001b[0mUnknownBundle\u001b[0m\u001b[0;34m(\u001b[0m\u001b[0mbundle_name\u001b[0m\u001b[0;34m)\u001b[0m\u001b[0;34m\u001b[0m\u001b[0;34m\u001b[0m\u001b[0m\n\u001b[0m\u001b[1;32m    486\u001b[0m \u001b[0;34m\u001b[0m\u001b[0m\n\u001b[1;32m    487\u001b[0m         \u001b[0;32mtry\u001b[0m\u001b[0;34m:\u001b[0m\u001b[0;34m\u001b[0m\u001b[0;34m\u001b[0m\u001b[0m\n",
            "\u001b[0;31mUnknownBundle\u001b[0m: No bundle registered with the name 'random'"
          ]
        }
      ],
      "source": [
        "%matplotlib inline\n",
        "\n",
        "import zipline\n",
        "from zipline.api import order_target_percent, symbol,  \\\n",
        "    set_commission, set_slippage, schedule_function, \\\n",
        "    date_rules, time_rules\n",
        "from datetime import datetime\n",
        "import pytz\n",
        "import matplotlib.pyplot as plt\n",
        "import pyfolio as pf\n",
        "import pandas as pd\n",
        "import numpy as np  \n",
        "from scipy import stats  \n",
        "from zipline.finance.commission import PerDollar\n",
        "from zipline.finance.slippage import VolumeShareSlippage, FixedSlippage\n",
        "\n",
        "\"\"\"\n",
        "Model Settings\n",
        "\"\"\"\n",
        "intial_portfolio = 10000000\n",
        "momentum_window = 125\n",
        "minimum_momentum = 40\n",
        "portfolio_size = 30\n",
        "vola_window = 20\n",
        "\n",
        "\"\"\"\n",
        "Commission and Slippage Settings\n",
        "\"\"\"\n",
        "enable_commission = True\n",
        "commission_pct = 0.001\n",
        "enable_slippage = True \n",
        "slippage_volume_limit = 0.25\n",
        "slippage_impact = 0.1\n",
        "\n",
        "\"\"\"\n",
        "Helper functions.\n",
        "\"\"\"\n",
        "\n",
        "def momentum_score(ts):\n",
        "    \"\"\"\n",
        "    Input:  Price time series.\n",
        "    Output: Annualized exponential regression slope, \n",
        "            multiplied by the R2\n",
        "    \"\"\"\n",
        "    # Make a list of consecutive numbers\n",
        "    x = np.arange(len(ts)) \n",
        "    # Get logs\n",
        "    log_ts = np.log(ts) \n",
        "    # Calculate regression values\n",
        "    slope, intercept, r_value, p_value, std_err = stats.linregress(x, log_ts)\n",
        "    # Annualize percent\n",
        "    annualized_slope = (np.power(np.exp(slope), 252) - 1) * 100\n",
        "    #Adjust for fitness\n",
        "    score = annualized_slope * (r_value ** 2)\n",
        "    return score\n",
        "\n",
        "def volatility(ts):\n",
        "    return ts.pct_change().rolling(vola_window).std().iloc[-1]\n",
        "\n",
        "def output_progress(context):\n",
        "    \"\"\"\n",
        "    Output some performance numbers during backtest run\n",
        "    This code just prints out the past month's performance\n",
        "    so that we have something to look at while the backtest runs.\n",
        "    \"\"\"\n",
        "    \n",
        "    # Get today's date\n",
        "    today = zipline.api.get_datetime().date()\n",
        "    \n",
        "    # Calculate percent difference since last month\n",
        "    perf_pct = (context.portfolio.portfolio_value / context.last_month) - 1\n",
        "    \n",
        "    # Print performance, format as percent with two decimals.\n",
        "    print(\"{} - Last Month Result: {:.2%}\".format(today, perf_pct))\n",
        "    \n",
        "    # Remember today's portfolio value for next month's calculation\n",
        "    context.last_month = context.portfolio.portfolio_value\n",
        "\n",
        "\"\"\"\n",
        "Initialization and trading logic\n",
        "\"\"\"\n",
        "def initialize(context):\n",
        "   \n",
        "    # Set commission and slippage.\n",
        "    if enable_commission:\n",
        "        comm_model = PerDollar(cost=commission_pct)\n",
        "    else:\n",
        "        comm_model = PerDollar(cost=0.0)\n",
        "    set_commission(comm_model)\n",
        "    \n",
        "    if enable_slippage:\n",
        "        slippage_model=VolumeShareSlippage(volume_limit=slippage_volume_limit, price_impact=slippage_impact)\n",
        "    else:\n",
        "        slippage_model=FixedSlippage(spread=0.0)   \n",
        "    set_slippage(slippage_model)    \n",
        "    \n",
        "    # Used only for progress output.\n",
        "    context.last_month = intial_portfolio\n",
        "    \n",
        "    # Fetch and store index membership\n",
        "    context.index_members = pd.read_csv('/content/drive/MyDrive/Colab Notebooks/My Project Folder/index members/sp500.csv', index_col=0, parse_dates=[0])\n",
        "    \n",
        "    #Schedule rebalance monthly.\n",
        "    schedule_function(\n",
        "        func=rebalance,\n",
        "        date_rule=date_rules.month_start(),\n",
        "        time_rule=time_rules.market_open()\n",
        "    )\n",
        "    \n",
        "def rebalance(context, data):\n",
        "    # Write some progress output during the backtest\n",
        "    output_progress(context)\n",
        "    \n",
        "    # Ok, let's find which stocks can be traded today.\n",
        "\n",
        "    # First, get today's date\n",
        "    today = zipline.api.get_datetime()\n",
        "    \n",
        "    # Second, get the index makeup for all days prior to today.\n",
        "    all_prior = context.index_members.loc[context.index_members.index < today]\n",
        "    \n",
        "    # Now let's snag the first column of the last, i.e. latest, entry.\n",
        "    latest_day = all_prior.iloc[-1,0]\n",
        "    \n",
        "    # Split the text string with tickers into a list\n",
        "    list_of_tickers = latest_day.split(',')\n",
        "    \n",
        "    # Finally, get the Zipline symbols for the tickers\n",
        "    todays_universe = [symbol(ticker) for ticker in list_of_tickers]\n",
        "    \n",
        "    # There's your daily universe. But we could of course have done this in one go.\n",
        "    \"\"\"       \n",
        "    \n",
        "    # This line below does the same thing,\n",
        "    # using the same logic to fetch today's stocks.\n",
        "    \n",
        "    todays_universe = [\n",
        "        symbol(ticker) for ticker in \n",
        "        context.index_members.loc[context.index_members.index < today].iloc[-1,0].split(',')\n",
        "    ]\n",
        "    \"\"\"    \n",
        "    \n",
        "    # Get historical data\n",
        "    hist = data.history(todays_universe, \"close\", momentum_window, \"1d\")\n",
        "\n",
        "    # Make momentum ranking table\n",
        "    ranking_table = hist.apply(momentum_score).sort_values(ascending=False)  \n",
        "    \n",
        "    \"\"\"\n",
        "    Sell Logic\n",
        "    \n",
        "    First we check if any existing position should be sold.\n",
        "    * Sell if stock is no longer part of index.\n",
        "    * Sell if stock has too low momentum value.\n",
        "    \"\"\"\n",
        "    kept_positions = list(context.portfolio.positions.keys())\n",
        "    for security in context.portfolio.positions:\n",
        "        if (security not in todays_universe):\n",
        "            order_target_percent(security, 0.0)\n",
        "            kept_positions.remove(security)          \n",
        "        elif ranking_table[security] < minimum_momentum:\n",
        "            order_target_percent(security, 0.0)\n",
        "            kept_positions.remove(security)         \n",
        "      \n",
        "    \n",
        "    \"\"\"\n",
        "    Stock Selection Logic\n",
        "    \n",
        "    Check how many stocks we are keeping from last month.\n",
        "    Fill from top of ranking list, until we reach the\n",
        "    desired total number of portfolio holdings.\n",
        "    \"\"\"\n",
        "    replacement_stocks = portfolio_size - len(kept_positions)\n",
        "    buy_list = ranking_table.loc[\n",
        "        ~ranking_table.index.isin(kept_positions)][:replacement_stocks]\n",
        "    \n",
        "    new_portfolio = pd.concat(\n",
        "        (buy_list, \n",
        "         ranking_table.loc[ranking_table.index.isin(kept_positions)])\n",
        "    )\n",
        "    \n",
        "\n",
        "    \"\"\"\n",
        "    Calculate inverse volatility for stocks, \n",
        "    and make target position weights.\n",
        "    \"\"\"\n",
        "    vola_table = hist[new_portfolio.index].apply(volatility)\n",
        "    inv_vola_table = 1 / vola_table \n",
        "    sum_inv_vola = np.sum(inv_vola_table)         \n",
        "    vola_target_weights = inv_vola_table / sum_inv_vola\n",
        "    \n",
        "    for security, rank in new_portfolio.iteritems():\n",
        "        weight = vola_target_weights[security]\n",
        "        if security in kept_positions:\n",
        "            order_target_percent(security, weight)\n",
        "        else:\n",
        "            if ranking_table[security] > minimum_momentum:\n",
        "                order_target_percent(security, weight)\n",
        "\n",
        "def analyze(context, perf):\n",
        "    \n",
        "    perf['max'] = perf.portfolio_value.cummax()\n",
        "    perf['dd'] = (perf.portfolio_value / perf['max']) - 1\n",
        "    maxdd = perf['dd'].min()\n",
        "    \n",
        "    ann_ret = (np.power((perf.portfolio_value.iloc[-1] / perf.portfolio_value.iloc[0]),(252 / len(perf)))) - 1\n",
        "    \n",
        "    print(\"Annualized Return: {:.2%} Max Drawdown: {:.2%}\".format(ann_ret, maxdd))\n",
        "\n",
        "    return   \n",
        "        \n",
        "start = datetime(1997, 1, 1, 8, 15, 12, 0, pytz.UTC)\n",
        "end = datetime(2018, 12, 31, 8, 15, 12, 0, pytz.UTC)\n",
        "perf = zipline.run_algorithm(\n",
        "    start=start, end=end, \n",
        "    initialize=initialize, \n",
        "    analyze=analyze, \n",
        "    capital_base=intial_portfolio,  \n",
        "    data_frequency = 'daily', \n",
        "    bundle= 'random' ) \n",
        "\n"
      ]
    },
    {
      "cell_type": "markdown",
      "source": [
        "# 💻# **RUN BACKTEST CODE HERE**"
      ],
      "metadata": {
        "id": "8gWXJGjGBDbs"
      }
    },
    {
      "cell_type": "code",
      "source": [
        "# Import a few libraries we need\n",
        "import zipline\n",
        "from zipline import run_algorithm\n",
        "from zipline.api import order_target_percent, symbol, schedule_function, date_rules, time_rules\n",
        "from datetime import datetime\n",
        "import pytz\n",
        "import pyfolio as pf\n",
        "import pandas as pd\n",
        "\n",
        "def initialize(context):\n",
        "  # Which stock to trade\n",
        "  dji = ['APA','BBY','CMCSA','CTL','EL','FAST','GCO','HPQ','JCI','JEC','MCHP','MSFT']\n",
        "  # Make symbol list from tickers\n",
        "  context.universe = [symbol(s) for s in dji]\n",
        "  # History window\n",
        "  context.history_window = 20\n",
        "  # Size of our portfolio\n",
        "  context.stocks_to_hold = 10\n",
        "  # Schedule the daily trading routine for once per month\n",
        "  schedule_function(handle_data, date_rules.month_start(), time_rules.market_close())\n",
        "def month_perf(ts):\n",
        "  perf = (ts[-1] / ts[0]) - 1\n",
        "  return perf\n",
        "def handle_data(context, data):\n",
        "  # Get history for all the stocks.\n",
        "  hist = data.history(context.universe, \"close\", context.history_window, \"1d\")\n",
        "  # This creates a table of percent returns, in order.\n",
        "  perf_table = hist.apply(month_perf).sort_values(ascending=False)\n",
        "  # Make buy list of the top N stocks\n",
        "  buy_list = perf_table[:context.stocks_to_hold]\n",
        "  # The rest will not be held.\n",
        "  the_rest = perf_table[context.stocks_to_hold:]\n",
        "  # Place target buy orders for top N stocks.\n",
        "  for stock, perf in buy_list.iteritems():\n",
        "    stock_weight = 1 / context.stocks_to_hold\n",
        "    # Place order\n",
        "    if data.can_trade(stock):\n",
        "      order_target_percent(stock, stock_weight)\n",
        "    # Make sure we are flat the rest.\n",
        "  for stock, perf in the_rest.iteritems():\n",
        "    # Place order\n",
        "    if data.can_trade(stock):\n",
        "      order_target_percent(stock, 0.0)\n",
        "def analyze(context, perf):\n",
        "  # Use PyFolio to generate a performance report\n",
        "  returns, positions, transactions = pf.utils.extract_rets_pos_txn_from_zipline(perf)\n",
        "\n",
        "  pf.create_returns_tear_sheet(returns, benchmark_rets=None)\n",
        "# Set start and end date\n",
        "start_date = pd.Timestamp('2003-1-1', tz='utc')\n",
        "end_date = pd.Timestamp('2017-12-31', tz='utc')\n",
        "# Fire off the backtest\n",
        "reresult = run_algorithm(\n",
        "    start=start_date,\n",
        "    end=end_date,\n",
        "    initialize=initialize,\n",
        "    analyze=analyze,\n",
        "    handle_data=handle_data,\n",
        "    capital_base=10000,\n",
        "    data_frequency = 'daily',\n",
        "    bundle= 'random')"
      ],
      "metadata": {
        "id": "JEtmR8GjFANc",
        "collapsed": true,
        "colab": {
          "base_uri": "https://localhost:8080/",
          "height": 346
        },
        "outputId": "e844da07-0df7-494a-8b0c-83fecc916eb9"
      },
      "execution_count": 83,
      "outputs": [
        {
          "output_type": "error",
          "ename": "UnknownBundle",
          "evalue": "ignored",
          "traceback": [
            "\u001b[0;31m---------------------------------------------------------------------------\u001b[0m",
            "\u001b[0;31mUnknownBundle\u001b[0m                             Traceback (most recent call last)",
            "\u001b[0;32m<ipython-input-83-e92750e5c9b5>\u001b[0m in \u001b[0;36m<module>\u001b[0;34m()\u001b[0m\n\u001b[1;32m     59\u001b[0m     \u001b[0mcapital_base\u001b[0m\u001b[0;34m=\u001b[0m\u001b[0;36m10000\u001b[0m\u001b[0;34m,\u001b[0m\u001b[0;34m\u001b[0m\u001b[0;34m\u001b[0m\u001b[0m\n\u001b[1;32m     60\u001b[0m     \u001b[0mdata_frequency\u001b[0m \u001b[0;34m=\u001b[0m \u001b[0;34m'daily'\u001b[0m\u001b[0;34m,\u001b[0m\u001b[0;34m\u001b[0m\u001b[0;34m\u001b[0m\u001b[0m\n\u001b[0;32m---> 61\u001b[0;31m     bundle= 'random')\n\u001b[0m",
            "\u001b[0;32m/usr/local/lib/python3.7/dist-packages/zipline/utils/run_algo.py\u001b[0m in \u001b[0;36mrun_algorithm\u001b[0;34m(start, end, initialize, capital_base, handle_data, before_trading_start, analyze, data_frequency, bundle, bundle_timestamp, trading_calendar, metrics_set, benchmark_returns, default_extension, extensions, strict_extensions, environ, custom_loader, blotter)\u001b[0m\n\u001b[1;32m    417\u001b[0m         \u001b[0mblotter\u001b[0m\u001b[0;34m=\u001b[0m\u001b[0mblotter\u001b[0m\u001b[0;34m,\u001b[0m\u001b[0;34m\u001b[0m\u001b[0;34m\u001b[0m\u001b[0m\n\u001b[1;32m    418\u001b[0m         \u001b[0mcustom_loader\u001b[0m\u001b[0;34m=\u001b[0m\u001b[0mcustom_loader\u001b[0m\u001b[0;34m,\u001b[0m\u001b[0;34m\u001b[0m\u001b[0;34m\u001b[0m\u001b[0m\n\u001b[0;32m--> 419\u001b[0;31m         \u001b[0mbenchmark_spec\u001b[0m\u001b[0;34m=\u001b[0m\u001b[0mbenchmark_spec\u001b[0m\u001b[0;34m,\u001b[0m\u001b[0;34m\u001b[0m\u001b[0;34m\u001b[0m\u001b[0m\n\u001b[0m\u001b[1;32m    420\u001b[0m     )\n\u001b[1;32m    421\u001b[0m \u001b[0;34m\u001b[0m\u001b[0m\n",
            "\u001b[0;32m/usr/local/lib/python3.7/dist-packages/zipline/utils/run_algo.py\u001b[0m in \u001b[0;36m_run\u001b[0;34m(handle_data, initialize, before_trading_start, analyze, algofile, algotext, defines, data_frequency, capital_base, bundle, bundle_timestamp, start, end, output, trading_calendar, print_algo, metrics_set, local_namespace, environ, blotter, custom_loader, benchmark_spec)\u001b[0m\n\u001b[1;32m     94\u001b[0m         \u001b[0mbundle\u001b[0m\u001b[0;34m,\u001b[0m\u001b[0;34m\u001b[0m\u001b[0;34m\u001b[0m\u001b[0m\n\u001b[1;32m     95\u001b[0m         \u001b[0menviron\u001b[0m\u001b[0;34m,\u001b[0m\u001b[0;34m\u001b[0m\u001b[0;34m\u001b[0m\u001b[0m\n\u001b[0;32m---> 96\u001b[0;31m         \u001b[0mbundle_timestamp\u001b[0m\u001b[0;34m,\u001b[0m\u001b[0;34m\u001b[0m\u001b[0;34m\u001b[0m\u001b[0m\n\u001b[0m\u001b[1;32m     97\u001b[0m     )\n\u001b[1;32m     98\u001b[0m \u001b[0;34m\u001b[0m\u001b[0m\n",
            "\u001b[0;32m/usr/local/lib/python3.7/dist-packages/zipline/data/bundles/core.py\u001b[0m in \u001b[0;36mload\u001b[0;34m(name, environ, timestamp)\u001b[0m\n\u001b[1;32m    530\u001b[0m         \u001b[0;32mif\u001b[0m \u001b[0mtimestamp\u001b[0m \u001b[0;32mis\u001b[0m \u001b[0;32mNone\u001b[0m\u001b[0;34m:\u001b[0m\u001b[0;34m\u001b[0m\u001b[0;34m\u001b[0m\u001b[0m\n\u001b[1;32m    531\u001b[0m             \u001b[0mtimestamp\u001b[0m \u001b[0;34m=\u001b[0m \u001b[0mpd\u001b[0m\u001b[0;34m.\u001b[0m\u001b[0mTimestamp\u001b[0m\u001b[0;34m.\u001b[0m\u001b[0mutcnow\u001b[0m\u001b[0;34m(\u001b[0m\u001b[0;34m)\u001b[0m\u001b[0;34m\u001b[0m\u001b[0;34m\u001b[0m\u001b[0m\n\u001b[0;32m--> 532\u001b[0;31m         \u001b[0mtimestr\u001b[0m \u001b[0;34m=\u001b[0m \u001b[0mmost_recent_data\u001b[0m\u001b[0;34m(\u001b[0m\u001b[0mname\u001b[0m\u001b[0;34m,\u001b[0m \u001b[0mtimestamp\u001b[0m\u001b[0;34m,\u001b[0m \u001b[0menviron\u001b[0m\u001b[0;34m=\u001b[0m\u001b[0menviron\u001b[0m\u001b[0;34m)\u001b[0m\u001b[0;34m\u001b[0m\u001b[0;34m\u001b[0m\u001b[0m\n\u001b[0m\u001b[1;32m    533\u001b[0m         return BundleData(\n\u001b[1;32m    534\u001b[0m             asset_finder=AssetFinder(\n",
            "\u001b[0;32m/usr/local/lib/python3.7/dist-packages/zipline/data/bundles/core.py\u001b[0m in \u001b[0;36mmost_recent_data\u001b[0;34m(bundle_name, timestamp, environ)\u001b[0m\n\u001b[1;32m    483\u001b[0m         \"\"\"\n\u001b[1;32m    484\u001b[0m         \u001b[0;32mif\u001b[0m \u001b[0mbundle_name\u001b[0m \u001b[0;32mnot\u001b[0m \u001b[0;32min\u001b[0m \u001b[0mbundles\u001b[0m\u001b[0;34m:\u001b[0m\u001b[0;34m\u001b[0m\u001b[0;34m\u001b[0m\u001b[0m\n\u001b[0;32m--> 485\u001b[0;31m             \u001b[0;32mraise\u001b[0m \u001b[0mUnknownBundle\u001b[0m\u001b[0;34m(\u001b[0m\u001b[0mbundle_name\u001b[0m\u001b[0;34m)\u001b[0m\u001b[0;34m\u001b[0m\u001b[0;34m\u001b[0m\u001b[0m\n\u001b[0m\u001b[1;32m    486\u001b[0m \u001b[0;34m\u001b[0m\u001b[0m\n\u001b[1;32m    487\u001b[0m         \u001b[0;32mtry\u001b[0m\u001b[0;34m:\u001b[0m\u001b[0;34m\u001b[0m\u001b[0;34m\u001b[0m\u001b[0m\n",
            "\u001b[0;31mUnknownBundle\u001b[0m: No bundle registered with the name 'random'"
          ]
        }
      ]
    },
    {
      "cell_type": "markdown",
      "source": [
        "# 📈# **SAVE PERFORMANCE RESULTS TO CSV**"
      ],
      "metadata": {
        "id": "ZzBebYqeJO4H"
      }
    },
    {
      "cell_type": "code",
      "source": [
        "#@title\n",
        "# Store performance results (equity curve) as csv file on Drive\n",
        "perf.portfolio_value.to_csv('model_performance.csv')"
      ],
      "metadata": {
        "id": "1Sr44M0nPaU6",
        "cellView": "form"
      },
      "execution_count": null,
      "outputs": []
    },
    {
      "cell_type": "markdown",
      "source": [
        ""
      ],
      "metadata": {
        "id": "42caNKLmD7Wl"
      }
    }
  ]
}