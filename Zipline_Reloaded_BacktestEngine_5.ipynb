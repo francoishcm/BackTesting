{
  "nbformat": 4,
  "nbformat_minor": 0,
  "metadata": {
    "colab": {
      "name": "Zipline_Reloaded_BacktestEngine.ipynb",
      "provenance": [],
      "collapsed_sections": [],
      "include_colab_link": true
    },
    "kernelspec": {
      "display_name": "Python 3",
      "name": "python3"
    },
    "language_info": {
      "name": "python"
    },
    "widgets": {
      "application/vnd.jupyter.widget-state+json": {
        "da6848d2f3da4208a212a43122946efa": {
          "model_module": "@jupyter-widgets/controls",
          "model_name": "HTMLModel",
          "model_module_version": "1.5.0",
          "state": {
            "_dom_classes": [],
            "_model_module": "@jupyter-widgets/controls",
            "_model_module_version": "1.5.0",
            "_model_name": "HTMLModel",
            "_view_count": null,
            "_view_module": "@jupyter-widgets/controls",
            "_view_module_version": "1.5.0",
            "_view_name": "HTMLView",
            "description": "",
            "description_tooltip": null,
            "layout": "IPY_MODEL_e2369633e75647b185c56e32fb7fcd0a",
            "placeholder": "​",
            "style": "IPY_MODEL_6fa9df63e7b2460eafc52bb91757854c",
            "value": ""
          }
        },
        "e2369633e75647b185c56e32fb7fcd0a": {
          "model_module": "@jupyter-widgets/base",
          "model_name": "LayoutModel",
          "model_module_version": "1.2.0",
          "state": {
            "_model_module": "@jupyter-widgets/base",
            "_model_module_version": "1.2.0",
            "_model_name": "LayoutModel",
            "_view_count": null,
            "_view_module": "@jupyter-widgets/base",
            "_view_module_version": "1.2.0",
            "_view_name": "LayoutView",
            "align_content": null,
            "align_items": null,
            "align_self": null,
            "border": null,
            "bottom": null,
            "display": null,
            "flex": null,
            "flex_flow": null,
            "grid_area": null,
            "grid_auto_columns": null,
            "grid_auto_flow": null,
            "grid_auto_rows": null,
            "grid_column": null,
            "grid_gap": null,
            "grid_row": null,
            "grid_template_areas": null,
            "grid_template_columns": null,
            "grid_template_rows": null,
            "height": null,
            "justify_content": null,
            "justify_items": null,
            "left": null,
            "margin": null,
            "max_height": null,
            "max_width": null,
            "min_height": null,
            "min_width": null,
            "object_fit": null,
            "object_position": null,
            "order": null,
            "overflow": null,
            "overflow_x": null,
            "overflow_y": null,
            "padding": null,
            "right": null,
            "top": null,
            "visibility": null,
            "width": null
          }
        },
        "6fa9df63e7b2460eafc52bb91757854c": {
          "model_module": "@jupyter-widgets/controls",
          "model_name": "DescriptionStyleModel",
          "model_module_version": "1.5.0",
          "state": {
            "_model_module": "@jupyter-widgets/controls",
            "_model_module_version": "1.5.0",
            "_model_name": "DescriptionStyleModel",
            "_view_count": null,
            "_view_module": "@jupyter-widgets/base",
            "_view_module_version": "1.2.0",
            "_view_name": "StyleView",
            "description_width": ""
          }
        }
      }
    }
  },
  "cells": [
    {
      "cell_type": "markdown",
      "metadata": {
        "id": "view-in-github",
        "colab_type": "text"
      },
      "source": [
        "<a href=\"https://colab.research.google.com/github/francoishcm/BackTesting/blob/master/Zipline_Reloaded_BacktestEngine_5.ipynb\" target=\"_parent\"><img src=\"https://colab.research.google.com/assets/colab-badge.svg\" alt=\"Open In Colab\"/></a>"
      ]
    },
    {
      "cell_type": "markdown",
      "source": [
        "# 🧰# **CODE TO INSTALL MODULES & PACKAGES**"
      ],
      "metadata": {
        "id": "xRTs1_SK0Scj"
      }
    },
    {
      "cell_type": "code",
      "source": [
        "# Mount Google Drive \n",
        "from google.colab import drive\n",
        "drive.mount('/content/drive')"
      ],
      "metadata": {
        "id": "ABrWrt1q06gq",
        "collapsed": true
      },
      "execution_count": null,
      "outputs": []
    },
    {
      "cell_type": "code",
      "source": [
        "!pip install numpy==1.20"
      ],
      "metadata": {
        "id": "1g7XDaovtOii",
        "outputId": "f5ff2cc5-faf3-4a35-c223-3b3bc9978971",
        "colab": {
          "base_uri": "https://localhost:8080/",
          "height": 366
        }
      },
      "execution_count": 4,
      "outputs": [
        {
          "output_type": "stream",
          "name": "stdout",
          "text": [
            "Collecting numpy==1.20\n",
            "  Downloading numpy-1.20.0-cp37-cp37m-manylinux2010_x86_64.whl (15.3 MB)\n",
            "\u001b[K     |████████████████████████████████| 15.3 MB 10.5 MB/s \n",
            "\u001b[?25hInstalling collected packages: numpy\n",
            "  Attempting uninstall: numpy\n",
            "    Found existing installation: numpy 1.19.5\n",
            "    Uninstalling numpy-1.19.5:\n",
            "      Successfully uninstalled numpy-1.19.5\n",
            "\u001b[31mERROR: pip's dependency resolver does not currently take into account all the packages that are installed. This behaviour is the source of the following dependency conflicts.\n",
            "tensorflow 2.8.0 requires tf-estimator-nightly==2.8.0.dev2021122109, which is not installed.\n",
            "google-colab 1.0.0 requires requests~=2.23.0, but you have requests 2.27.1 which is incompatible.\n",
            "datascience 0.10.6 requires folium==0.2.1, but you have folium 0.8.3 which is incompatible.\n",
            "albumentations 0.1.12 requires imgaug<0.2.7,>=0.2.5, but you have imgaug 0.2.9 which is incompatible.\u001b[0m\n",
            "Successfully installed numpy-1.20.0\n"
          ]
        },
        {
          "output_type": "display_data",
          "data": {
            "application/vnd.colab-display-data+json": {
              "pip_warning": {
                "packages": [
                  "numpy"
                ]
              }
            }
          },
          "metadata": {}
        }
      ]
    },
    {
      "cell_type": "code",
      "metadata": {
        "id": "1tlwk44QhErd"
      },
      "source": [
        "# Install ta-lib v0.4.0\n",
        "%%bash\n",
        "wget http://prdownloads.sourceforge.net/ta-lib/ta-lib-0.4.0-src.tar.gz\n",
        "tar -xzf ta-lib-0.4.0-src.tar.gz\n",
        "cd ta-lib/\n",
        "./configure\n",
        "make\n",
        "make install"
      ],
      "execution_count": null,
      "outputs": []
    },
    {
      "cell_type": "code",
      "metadata": {
        "id": "JSwN3Ywihz3r",
        "collapsed": true
      },
      "source": [
        "# Install zipline\n",
        "%pip install zipline-reloaded"
      ],
      "execution_count": null,
      "outputs": []
    },
    {
      "cell_type": "code",
      "source": [
        "# Install matplot library\n",
        "!pip install matplotlib"
      ],
      "metadata": {
        "collapsed": true,
        "id": "zoV1_FSc_5MW"
      },
      "execution_count": null,
      "outputs": []
    },
    {
      "cell_type": "code",
      "source": [
        "# Install data bundle 'Quandl'\n",
        "!pip install quandl"
      ],
      "metadata": {
        "collapsed": true,
        "id": "8-pgTCGp2XzF"
      },
      "execution_count": null,
      "outputs": []
    },
    {
      "cell_type": "code",
      "source": [
        "# Ingest Quandl using API key\n",
        "!QUANDL_API_KEY=KUnssHvVERHb5XYu9C1- zipline ingest -b 'quandl'"
      ],
      "metadata": {
        "id": "KiUF_IBQCSlm",
        "collapsed": true
      },
      "execution_count": null,
      "outputs": []
    },
    {
      "cell_type": "code",
      "source": [
        "# Confirm existing bundle that were ingested\n",
        "!zipline bundles"
      ],
      "metadata": {
        "id": "n-0pfBmOJVq5",
        "collapsed": true
      },
      "execution_count": null,
      "outputs": []
    },
    {
      "cell_type": "code",
      "source": [
        "# Install Pyfolio\n",
        "!pip install git+https://github.com/quantopian/pyfolio"
      ],
      "metadata": {
        "id": "m-y07xfPTFVK",
        "collapsed": true
      },
      "execution_count": null,
      "outputs": []
    },
    {
      "cell_type": "markdown",
      "source": [
        "# 💽# **CODE TO SET AND CONFIRM CURRENT WORKING DIRECTORIES**"
      ],
      "metadata": {
        "id": "4Ixua2eyz0Hr"
      }
    },
    {
      "cell_type": "code",
      "source": [
        "import os \n",
        "\n",
        "# Set your working directory to a folder in your Google Drive. This way, if your notebook times out,\n",
        "# your files will be saved in your Google Drive!\n",
        "\n",
        "# the base Google Drive directory\n",
        "root_dir = \"/content/drive/\"\n"
      ],
      "metadata": {
        "id": "eWtZZXQol34j"
      },
      "execution_count": null,
      "outputs": []
    },
    {
      "cell_type": "code",
      "source": [
        "import os \n",
        "\n",
        "# Set your working directory to a folder in your Google Drive. This way, if your notebook times out,\n",
        "# your files will be saved in your Google Drive!\n",
        "\n",
        "\n",
        "# choose where you want your project files to be saved\n",
        "project_folder = \"MyDrive/Colab Notebooks/My Project Folder\"\n"
      ],
      "metadata": {
        "id": "c4jxNssSmApK"
      },
      "execution_count": null,
      "outputs": []
    },
    {
      "cell_type": "code",
      "source": [
        "def create_and_set_working_directory(project_folder):\n",
        "  # check if your project folder exists. if not, it will be created.\n",
        "  if os.path.isdir(root_dir + project_folder) == False:\n",
        "    os.mkdir(root_dir + project_folder)\n",
        "    print(root_dir + project_folder + ' did not exist but was created.')\n",
        "\n",
        "  # change the OS to use your project folder as the working directory\n",
        "  os.chdir(root_dir + project_folder)\n",
        "\n",
        "  # create a test file to make sure it shows up in the right place\n",
        "  !touch 'new_file_in_working_directory.txt'\n",
        "  print('\\nYour working directory was changed to ' + root_dir + project_folder + \\\n",
        "        \"\\n\\nAn empty text file was created there. You can also run !pwd to confirm the current working directory.\" )\n",
        "\n",
        "create_and_set_working_directory(project_folder)"
      ],
      "metadata": {
        "id": "Y0PGKB_SmAR5",
        "colab": {
          "base_uri": "https://localhost:8080/"
        },
        "outputId": "853464e2-a588-47d1-9450-4ed6cdcec09f"
      },
      "execution_count": null,
      "outputs": [
        {
          "output_type": "stream",
          "name": "stdout",
          "text": [
            "\n",
            "Your working directory was changed to /content/drive/MyDrive/Colab Notebooks/My Project Folder\n",
            "\n",
            "An empty text file was created there. You can also run !pwd to confirm the current working directory.\n"
          ]
        }
      ]
    },
    {
      "cell_type": "code",
      "source": [
        "# Confirm current working directory\n",
        "!pwd"
      ],
      "metadata": {
        "id": "Q4_HSs4HneUa",
        "colab": {
          "base_uri": "https://localhost:8080/"
        },
        "outputId": "cbab73b2-78f8-4445-a2c7-585d8d89bd8e"
      },
      "execution_count": null,
      "outputs": [
        {
          "output_type": "stream",
          "name": "stdout",
          "text": [
            "/content/drive/MyDrive/Colab Notebooks/My Project Folder\n"
          ]
        }
      ]
    },
    {
      "cell_type": "code",
      "source": [
        "import os\n",
        "for f in os.listdir(\"//content/drive/MyDrive/Colab Notebooks/My Project Folder\"):\n",
        "\tprint(f)"
      ],
      "metadata": {
        "id": "8HB8gDZGqsfB",
        "colab": {
          "base_uri": "https://localhost:8080/"
        },
        "outputId": "3f2f1432-4c92-4585-9081-0751ce20c8be"
      },
      "execution_count": null,
      "outputs": [
        {
          "output_type": "stream",
          "name": "stdout",
          "text": [
            "new_file_in_working_directory.txt\n",
            "random_stocks\n",
            ".ipynb_checkpoints\n",
            "Momentum Model.ipynb\n",
            "index members\n",
            "model_performance.csv\n",
            "TrendModel.ipynb\n",
            "random_futures\n",
            "futures_meta\n",
            "py files\n"
          ]
        }
      ]
    },
    {
      "cell_type": "markdown",
      "source": [
        "# ⏳# **RUN CODE TO INGEST CUSTOM BUNDLES HERE**"
      ],
      "metadata": {
        "id": "z5Y1KYNHeqeu"
      }
    },
    {
      "cell_type": "code",
      "source": [
        "# Ingest custom bundle\n",
        "!zipline ingest --bundle 'random_futures_data'"
      ],
      "metadata": {
        "id": "CvMaJ1U1eVhB",
        "colab": {
          "base_uri": "https://localhost:8080/"
        },
        "outputId": "7bcf542c-5285-4bf9-9e6b-b4270eecd63a"
      },
      "execution_count": 1,
      "outputs": [
        {
          "output_type": "stream",
          "name": "stdout",
          "text": [
            "[2022-04-11 17:40:02.998352] INFO: zipline.data.bundles.core: Ingesting random_futures_data.\n",
            "Loading data...: 100% 735/735 [00:32<00:00, 22.30it/s]\n"
          ]
        }
      ]
    },
    {
      "cell_type": "code",
      "source": [
        ""
      ],
      "metadata": {
        "id": "pXpITopQZuTt"
      },
      "execution_count": null,
      "outputs": []
    },
    {
      "cell_type": "code",
      "source": [
        "# Confirm existing bundles\n",
        "!zipline bundles"
      ],
      "metadata": {
        "id": "Ol2e01cH_O3z",
        "outputId": "04cad928-4dd0-41d5-a3ca-6fd20d1015ae",
        "colab": {
          "base_uri": "https://localhost:8080/"
        }
      },
      "execution_count": null,
      "outputs": [
        {
          "output_type": "stream",
          "name": "stdout",
          "text": [
            "Traceback (most recent call last):\n",
            "  File \"/usr/local/bin/zipline\", line 5, in <module>\n",
            "    from zipline.__main__ import main\n",
            "  File \"/usr/local/lib/python3.7/dist-packages/zipline/__init__.py\", line 29, in <module>\n",
            "    from .utils.run_algo import run_algorithm\n",
            "  File \"/usr/local/lib/python3.7/dist-packages/zipline/utils/run_algo.py\", line 30, in <module>\n",
            "    from zipline.algorithm import TradingAlgorithm, NoBenchmark\n",
            "  File \"/usr/local/lib/python3.7/dist-packages/zipline/algorithm.py\", line 52, in <module>\n",
            "    from zipline.finance.blotter import SimulationBlotter\n",
            "  File \"/usr/local/lib/python3.7/dist-packages/zipline/finance/blotter/__init__.py\", line 16, in <module>\n",
            "    from .simulation_blotter import SimulationBlotter\n",
            "  File \"/usr/local/lib/python3.7/dist-packages/zipline/finance/blotter/simulation_blotter.py\", line 23, in <module>\n",
            "    from zipline.finance.slippage import (\n",
            "  File \"/usr/local/lib/python3.7/dist-packages/zipline/finance/slippage.py\", line 23, in <module>\n",
            "    from zipline.finance.constants import ROOT_SYMBOL_TO_ETA, DEFAULT_ETA\n",
            "  File \"/usr/local/lib/python3.7/dist-packages/zipline/finance/constants.py\", line 16, in <module>\n",
            "    from zipline.finance.slippage import DEFAULT_EQUITY_VOLUME_SLIPPAGE_BAR_LIMIT\n",
            "ImportError: cannot import name 'DEFAULT_EQUITY_VOLUME_SLIPPAGE_BAR_LIMIT' from 'zipline.finance.slippage' (/usr/local/lib/python3.7/dist-packages/zipline/finance/slippage.py)\n"
          ]
        }
      ]
    },
    {
      "cell_type": "markdown",
      "source": [
        "# **CLENOW CORE TREND MODEL CODE** *Do Not Delete*"
      ],
      "metadata": {
        "id": "EHQUpvbK0RNj"
      }
    },
    {
      "cell_type": "code",
      "source": [
        "#@title\n",
        "%matplotlib inline\n",
        "\n",
        "import zipline\n",
        "from zipline import run_algorithm\n",
        "from zipline.api import order_target_percent, symbol, set_commission, set_slippage, schedule_function, date_rules, time_rules\n",
        "from datetime import date, datetime\n",
        "import pytz\n",
        "import matplotlib.pyplot as plt \n",
        "import pyfolio as pf\n",
        "import pandas as pd \n",
        "import numpy as np \n",
        "from scipy import stats\n",
        "from zipline.finance.commission import PerDollar\n",
        "from zipline.finance.slippage import VolumeShareSlippage, FixedSlippage\n",
        "\n",
        "#Model Settings\n",
        "\n",
        "intial_portfolio = 100000\n",
        "momentum_window = 125\n",
        "minimum_momentum = 40\n",
        "portfolio_size = 30\n",
        "vola_window = 20\n",
        "\n",
        "#Commission and Slippage Settings\n",
        "\n",
        "enable_commission = True \n",
        "commission_pct = 0.001 \n",
        "enable_slippage = True \n",
        "slippage_volume_limit = 0.025\n",
        "slippage_impact = 0.05\n",
        "\n",
        "def momentum_score(ts):\n",
        "\n",
        "  #Input: Price time series.Output: Annualized exponential regression slope, multiplied by the R2\n",
        "\n",
        "  # Make a list of consecutive numbers \n",
        "  x = np.arange(len(ts))\n",
        "  # Get logs\n",
        "  log_ts = np.log(ts)\n",
        "  # Calculate regression values\n",
        "  slope, intercept, r_value, p_value, std_err = stats.linregress(x, log_ts) \n",
        "  # Annualize percent\n",
        "  annualized_slope = (np.power(np.exp(slope), 252) - 1) * 100 \n",
        "  #Adjust for fitness\n",
        "  score = annualized_slope * (r_value ** 2) \n",
        "  return score\n",
        "\n",
        "def volatility(ts):\n",
        "  return ts.pct_change().rolling(vola_window).std().iloc[-1]\n",
        "\n",
        "def output_progress(context):\n",
        "\n",
        "  #Output some performance numbers during backtest run \n",
        "  #This code just prints out the past month's performance,\n",
        "  # so that we have something to look at while the backtest runs.\n",
        "\n",
        "  # Get today's date\n",
        "  today = zipline.api.get_datetime().date()\n",
        "\n",
        "  # Calculate percent difference since last month\n",
        "  perf_pct = (context.portfolio.portfolio_value / context.last_month) - 1\n",
        "\n",
        "  # Print performance, format as percent with two decimals. \n",
        "  print(\"{} - Last Month Result: {:.2%}\".format(today, perf_pct))\n",
        "\n",
        "  # Remember today's portfolio value for next month's calculation \n",
        "  context.last_month = context.portfolio.portfolio_value\n",
        "\n",
        "#Initialization and trading logic\n",
        "\n",
        "\n",
        "def initialize(context):\n",
        "\n",
        "  # Set commission and slippage.\n",
        "  if enable_commission:\n",
        "    comm_model = PerDollar(cost=commission_pct) \n",
        "  else:\n",
        "    comm_model = PerDollar(cost=0.0) \n",
        "  set_commission(comm_model)\n",
        "  if enable_slippage: slippage_model=VolumeShareSlippage(volume_limit=slippage_volume_limit,\n",
        "price_impact=slippage_impact) \n",
        "  else:\n",
        "    slippage_model=FixedSlippage(spread=0.0) \n",
        "  set_slippage(slippage_model)\n",
        "\n",
        "  # Used only for progress output. \n",
        "  context.last_month = intial_portfolio\n",
        "\n",
        "  # Store index membership\n",
        "  context.index_members = pd.read_csv('/content/drive/MyDrive/Colab Notebooks/My Project Folder/index members/sp500.csv', index_col=0, parse_dates=[0], engine='python', error_bad_lines=False)\n",
        "\n",
        "\n",
        "  #Schedule rebalance monthly. \n",
        "  schedule_function(\n",
        "    func=rebalance, \n",
        "    date_rule=date_rules.month_start(), \n",
        "    time_rule=time_rules.market_open()\n",
        "  )\n",
        "\n",
        "def rebalance(context, data):\n",
        "  # Write some progress output during the backtest \n",
        "  output_progress(context)\n",
        "\n",
        "  # First, get today's date\n",
        "  today = zipline.api.get_datetime()\n",
        "\n",
        "  # Second, get the index makeup for all days prior to today.\n",
        "  all_prior = context.index_members.loc[context.index_members.index < today]\n",
        "\n",
        "  # Now let's snag the first column of the last, i.e. latest, entry. \n",
        "  latest_day = all_prior.iloc[-1,0]\n",
        "\n",
        "  # Split the text string with tickers into a list \n",
        "  list_of_tickers = latest_day.split(',')\n",
        "\n",
        "  # Finally, get the Zipline symbols for the tickers \n",
        "  todays_universe = [symbol(ticker) for ticker in list_of_tickers]\n",
        "\n",
        "  todays_universe = [ \n",
        "    symbol(ticker) for ticker in\n",
        "    context.index_members.loc[context.index_members.index < today].iloc[-1,0].split(',')\n",
        "  ]\n",
        "\n",
        "  # Get historical data\n",
        "  hist = data.history(todays_universe, \"close\", momentum_window, \"1d\")\n",
        "\n",
        "  # Make momentum ranking table\n",
        "  ranking_table = hist.apply(momentum_score).sort_values(ascending=False)\n",
        "\n",
        "  #Sell Logic\n",
        "  #First we check if any existing position should be sold.\n",
        "    #Sell if stock is no longer part of index.\n",
        "    #Sell if stock has too low momentum value.\n",
        "\n",
        "  kept_positions = list(context.portfolio.positions.keys()) \n",
        "  for security in context.portfolio.positions:\n",
        "    if (security not in todays_universe): \n",
        "      order_target_percent(security, 0.0) \n",
        "      kept_positions.remove(security)\n",
        "    elif ranking_table[security] < minimum_momentum: \n",
        "      order_target_percent(security, 0.0) \n",
        "      kept_positions.remove(security)\n",
        "\n",
        "  #Stock Selection Logic\n",
        "  #Check how many stocks we are keeping from last month.\n",
        "  #Fill from top of ranking list, until we reach the desired total number of portfolio holdings.\n",
        "\n",
        "  replacement_stocks = portfolio_size - len(kept_positions) \n",
        "  buy_list = ranking_table.loc[\n",
        "    ~ranking_table.index.isin(kept_positions)][:replacement_stocks]\n",
        "  new_portfolio = pd.concat(\n",
        "    (buy_list,\n",
        "    ranking_table.loc[ranking_table.index.isin(kept_positions)])\n",
        "  )\n",
        "  buy_list = ranking_table.loc[\n",
        "    ~ranking_table.index.isin(kept_positions)][:replacement_stocks]\n",
        "\n",
        "  #Calculate inverse volatility for stocks, and make target position weights.\n",
        "\n",
        "  vola_table = hist[new_portfolio.index].apply(volatility) \n",
        "  inv_vola_table = 1 / vola_table\n",
        "  sum_inv_vola = np.sum(inv_vola_table) \n",
        "  vola_target_weights = inv_vola_table / sum_inv_vola\n",
        "  for security, rank in new_portfolio.iteritems(): \n",
        "    weight = vola_target_weights[security]\n",
        "    if security in kept_positions:\n",
        "      order_target_percent(security, weight)\n",
        "    else:\n",
        "      if ranking_table[security] > minimum_momentum: \n",
        "        order_target_percent(security, weight)\n",
        "\n",
        "def analyze(context, perf):\n",
        "  perf['max'] = perf.portfolio_value.cummax() \n",
        "  perf['dd'] = (perf.portfolio_value / perf['max']) - 1 \n",
        "  maxdd = perf['dd'].min()\n",
        "\n",
        "  ann_ret = (np.power((perf.portfolio_value.iloc[-1] / perf.portfolio_value.iloc[0]),(252 / len(perf)))) - 1\n",
        "\n",
        "  print(\"Annualized Return: {:.2%} Max Drawdown: {:.2%}\".format(ann_ret, maxdd))\n",
        "\n",
        "  return\n",
        "\n",
        "\n",
        "start_date = pd.Timestamp('2003-1-1', tz='utc')\n",
        "end_date = pd.Timestamp('2017-12-31', tz='utc')\n",
        "\n",
        "results = run_algorithm(\n",
        "    start=start,\n",
        "    end=end, \n",
        "    initialize=initialize, \n",
        "    analyze=analyze, \n",
        "    capital_base=intial_portfolio, \n",
        "    data_frequency = 'daily', \n",
        "    bundle='quandl')"
      ],
      "metadata": {
        "id": "6aRGAkzKLH88",
        "outputId": "894bb5d5-e28a-4efc-c50d-11153c0911d1",
        "colab": {
          "base_uri": "https://localhost:8080/",
          "height": 643
        }
      },
      "execution_count": null,
      "outputs": [
        {
          "output_type": "stream",
          "name": "stderr",
          "text": [
            "/usr/local/lib/python3.7/dist-packages/zipline/algorithm.py:427: FutureWarning: The error_bad_lines argument has been deprecated and will be removed in a future version.\n",
            "\n",
            "\n",
            "  self._initialize(self, *args, **kwargs)\n",
            "Skipping line 1552: unexpected end of data\n"
          ]
        },
        {
          "output_type": "stream",
          "name": "stdout",
          "text": [
            "1996-01-02 - Last Month Result: 0.00%\n"
          ]
        },
        {
          "output_type": "error",
          "ename": "TypeError",
          "evalue": "ignored",
          "traceback": [
            "\u001b[0;31m---------------------------------------------------------------------------\u001b[0m",
            "\u001b[0;31mTypeError\u001b[0m                                 Traceback (most recent call last)",
            "\u001b[0;32m/usr/local/lib/python3.7/dist-packages/pandas/core/arrays/datetimelike.py\u001b[0m in \u001b[0;36m_validate_comparison_value\u001b[0;34m(self, other)\u001b[0m\n\u001b[1;32m    539\u001b[0m             \u001b[0;32mtry\u001b[0m\u001b[0;34m:\u001b[0m\u001b[0;34m\u001b[0m\u001b[0;34m\u001b[0m\u001b[0m\n\u001b[0;32m--> 540\u001b[0;31m                 \u001b[0mself\u001b[0m\u001b[0;34m.\u001b[0m\u001b[0m_check_compatible_with\u001b[0m\u001b[0;34m(\u001b[0m\u001b[0mother\u001b[0m\u001b[0;34m)\u001b[0m\u001b[0;34m\u001b[0m\u001b[0;34m\u001b[0m\u001b[0m\n\u001b[0m\u001b[1;32m    541\u001b[0m             \u001b[0;32mexcept\u001b[0m \u001b[0;34m(\u001b[0m\u001b[0mTypeError\u001b[0m\u001b[0;34m,\u001b[0m \u001b[0mIncompatibleFrequency\u001b[0m\u001b[0;34m)\u001b[0m \u001b[0;32mas\u001b[0m \u001b[0merr\u001b[0m\u001b[0;34m:\u001b[0m\u001b[0;34m\u001b[0m\u001b[0;34m\u001b[0m\u001b[0m\n",
            "\u001b[0;32m/usr/local/lib/python3.7/dist-packages/pandas/core/arrays/datetimes.py\u001b[0m in \u001b[0;36m_check_compatible_with\u001b[0;34m(self, other, setitem)\u001b[0m\n\u001b[1;32m    501\u001b[0m             \u001b[0;32mreturn\u001b[0m\u001b[0;34m\u001b[0m\u001b[0;34m\u001b[0m\u001b[0m\n\u001b[0;32m--> 502\u001b[0;31m         \u001b[0mself\u001b[0m\u001b[0;34m.\u001b[0m\u001b[0m_assert_tzawareness_compat\u001b[0m\u001b[0;34m(\u001b[0m\u001b[0mother\u001b[0m\u001b[0;34m)\u001b[0m\u001b[0;34m\u001b[0m\u001b[0;34m\u001b[0m\u001b[0m\n\u001b[0m\u001b[1;32m    503\u001b[0m         \u001b[0;32mif\u001b[0m \u001b[0msetitem\u001b[0m\u001b[0;34m:\u001b[0m\u001b[0;34m\u001b[0m\u001b[0;34m\u001b[0m\u001b[0m\n",
            "\u001b[0;32m/usr/local/lib/python3.7/dist-packages/pandas/core/arrays/datetimes.py\u001b[0m in \u001b[0;36m_assert_tzawareness_compat\u001b[0;34m(self, other)\u001b[0m\n\u001b[1;32m    691\u001b[0m                 raise TypeError(\n\u001b[0;32m--> 692\u001b[0;31m                     \u001b[0;34m\"Cannot compare tz-naive and tz-aware datetime-like objects.\"\u001b[0m\u001b[0;34m\u001b[0m\u001b[0;34m\u001b[0m\u001b[0m\n\u001b[0m\u001b[1;32m    693\u001b[0m                 )\n",
            "\u001b[0;31mTypeError\u001b[0m: Cannot compare tz-naive and tz-aware datetime-like objects.",
            "\nThe above exception was the direct cause of the following exception:\n",
            "\u001b[0;31mInvalidComparison\u001b[0m                         Traceback (most recent call last)",
            "\u001b[0;32m/usr/local/lib/python3.7/dist-packages/pandas/core/arrays/datetimelike.py\u001b[0m in \u001b[0;36m_cmp_method\u001b[0;34m(self, other, op)\u001b[0m\n\u001b[1;32m   1007\u001b[0m         \u001b[0;32mtry\u001b[0m\u001b[0;34m:\u001b[0m\u001b[0;34m\u001b[0m\u001b[0;34m\u001b[0m\u001b[0m\n\u001b[0;32m-> 1008\u001b[0;31m             \u001b[0mother\u001b[0m \u001b[0;34m=\u001b[0m \u001b[0mself\u001b[0m\u001b[0;34m.\u001b[0m\u001b[0m_validate_comparison_value\u001b[0m\u001b[0;34m(\u001b[0m\u001b[0mother\u001b[0m\u001b[0;34m)\u001b[0m\u001b[0;34m\u001b[0m\u001b[0;34m\u001b[0m\u001b[0m\n\u001b[0m\u001b[1;32m   1009\u001b[0m         \u001b[0;32mexcept\u001b[0m \u001b[0mInvalidComparison\u001b[0m\u001b[0;34m:\u001b[0m\u001b[0;34m\u001b[0m\u001b[0;34m\u001b[0m\u001b[0m\n",
            "\u001b[0;32m/usr/local/lib/python3.7/dist-packages/pandas/core/arrays/datetimelike.py\u001b[0m in \u001b[0;36m_validate_comparison_value\u001b[0;34m(self, other)\u001b[0m\n\u001b[1;32m    542\u001b[0m                 \u001b[0;31m# e.g. tzawareness mismatch\u001b[0m\u001b[0;34m\u001b[0m\u001b[0;34m\u001b[0m\u001b[0;34m\u001b[0m\u001b[0m\n\u001b[0;32m--> 543\u001b[0;31m                 \u001b[0;32mraise\u001b[0m \u001b[0mInvalidComparison\u001b[0m\u001b[0;34m(\u001b[0m\u001b[0mother\u001b[0m\u001b[0;34m)\u001b[0m \u001b[0;32mfrom\u001b[0m \u001b[0merr\u001b[0m\u001b[0;34m\u001b[0m\u001b[0;34m\u001b[0m\u001b[0m\n\u001b[0m\u001b[1;32m    544\u001b[0m \u001b[0;34m\u001b[0m\u001b[0m\n",
            "\u001b[0;31mInvalidComparison\u001b[0m: 1996-01-02 21:00:00+00:00",
            "\nDuring handling of the above exception, another exception occurred:\n",
            "\u001b[0;31mTypeError\u001b[0m                                 Traceback (most recent call last)",
            "\u001b[0;32m<ipython-input-84-2639d80ab5fd>\u001b[0m in \u001b[0;36m<module>\u001b[0;34m()\u001b[0m\n\u001b[1;32m    193\u001b[0m     \u001b[0mcapital_base\u001b[0m\u001b[0;34m=\u001b[0m\u001b[0mintial_portfolio\u001b[0m\u001b[0;34m,\u001b[0m\u001b[0;34m\u001b[0m\u001b[0;34m\u001b[0m\u001b[0m\n\u001b[1;32m    194\u001b[0m     \u001b[0mdata_frequency\u001b[0m \u001b[0;34m=\u001b[0m \u001b[0;34m'daily'\u001b[0m\u001b[0;34m,\u001b[0m\u001b[0;34m\u001b[0m\u001b[0;34m\u001b[0m\u001b[0m\n\u001b[0;32m--> 195\u001b[0;31m     bundle='quandl')\n\u001b[0m",
            "\u001b[0;32m/usr/local/lib/python3.7/dist-packages/zipline/utils/run_algo.py\u001b[0m in \u001b[0;36mrun_algorithm\u001b[0;34m(start, end, initialize, capital_base, handle_data, before_trading_start, analyze, data_frequency, bundle, bundle_timestamp, trading_calendar, metrics_set, benchmark_returns, default_extension, extensions, strict_extensions, environ, custom_loader, blotter)\u001b[0m\n\u001b[1;32m    417\u001b[0m         \u001b[0mblotter\u001b[0m\u001b[0;34m=\u001b[0m\u001b[0mblotter\u001b[0m\u001b[0;34m,\u001b[0m\u001b[0;34m\u001b[0m\u001b[0;34m\u001b[0m\u001b[0m\n\u001b[1;32m    418\u001b[0m         \u001b[0mcustom_loader\u001b[0m\u001b[0;34m=\u001b[0m\u001b[0mcustom_loader\u001b[0m\u001b[0;34m,\u001b[0m\u001b[0;34m\u001b[0m\u001b[0;34m\u001b[0m\u001b[0m\n\u001b[0;32m--> 419\u001b[0;31m         \u001b[0mbenchmark_spec\u001b[0m\u001b[0;34m=\u001b[0m\u001b[0mbenchmark_spec\u001b[0m\u001b[0;34m,\u001b[0m\u001b[0;34m\u001b[0m\u001b[0;34m\u001b[0m\u001b[0m\n\u001b[0m\u001b[1;32m    420\u001b[0m     )\n\u001b[1;32m    421\u001b[0m \u001b[0;34m\u001b[0m\u001b[0m\n",
            "\u001b[0;32m/usr/local/lib/python3.7/dist-packages/zipline/utils/run_algo.py\u001b[0m in \u001b[0;36m_run\u001b[0;34m(handle_data, initialize, before_trading_start, analyze, algofile, algotext, defines, data_frequency, capital_base, bundle, bundle_timestamp, start, end, output, trading_calendar, print_algo, metrics_set, local_namespace, environ, blotter, custom_loader, benchmark_spec)\u001b[0m\n\u001b[1;32m    223\u001b[0m             else {\n\u001b[1;32m    224\u001b[0m                 \u001b[0;34m\"algo_filename\"\u001b[0m\u001b[0;34m:\u001b[0m \u001b[0mgetattr\u001b[0m\u001b[0;34m(\u001b[0m\u001b[0malgofile\u001b[0m\u001b[0;34m,\u001b[0m \u001b[0;34m\"name\"\u001b[0m\u001b[0;34m,\u001b[0m \u001b[0;34m\"<algorithm>\"\u001b[0m\u001b[0;34m)\u001b[0m\u001b[0;34m,\u001b[0m\u001b[0;34m\u001b[0m\u001b[0;34m\u001b[0m\u001b[0m\n\u001b[0;32m--> 225\u001b[0;31m                 \u001b[0;34m\"script\"\u001b[0m\u001b[0;34m:\u001b[0m \u001b[0malgotext\u001b[0m\u001b[0;34m,\u001b[0m\u001b[0;34m\u001b[0m\u001b[0;34m\u001b[0m\u001b[0m\n\u001b[0m\u001b[1;32m    226\u001b[0m             },\n\u001b[1;32m    227\u001b[0m         ).run()\n",
            "\u001b[0;32m/usr/local/lib/python3.7/dist-packages/zipline/algorithm.py\u001b[0m in \u001b[0;36mrun\u001b[0;34m(self, data_portal)\u001b[0m\n\u001b[1;32m    621\u001b[0m         \u001b[0;32mtry\u001b[0m\u001b[0;34m:\u001b[0m\u001b[0;34m\u001b[0m\u001b[0;34m\u001b[0m\u001b[0m\n\u001b[1;32m    622\u001b[0m             \u001b[0mperfs\u001b[0m \u001b[0;34m=\u001b[0m \u001b[0;34m[\u001b[0m\u001b[0;34m]\u001b[0m\u001b[0;34m\u001b[0m\u001b[0;34m\u001b[0m\u001b[0m\n\u001b[0;32m--> 623\u001b[0;31m             \u001b[0;32mfor\u001b[0m \u001b[0mperf\u001b[0m \u001b[0;32min\u001b[0m \u001b[0mself\u001b[0m\u001b[0;34m.\u001b[0m\u001b[0mget_generator\u001b[0m\u001b[0;34m(\u001b[0m\u001b[0;34m)\u001b[0m\u001b[0;34m:\u001b[0m\u001b[0;34m\u001b[0m\u001b[0;34m\u001b[0m\u001b[0m\n\u001b[0m\u001b[1;32m    624\u001b[0m                 \u001b[0mperfs\u001b[0m\u001b[0;34m.\u001b[0m\u001b[0mappend\u001b[0m\u001b[0;34m(\u001b[0m\u001b[0mperf\u001b[0m\u001b[0;34m)\u001b[0m\u001b[0;34m\u001b[0m\u001b[0;34m\u001b[0m\u001b[0m\n\u001b[1;32m    625\u001b[0m \u001b[0;34m\u001b[0m\u001b[0m\n",
            "\u001b[0;32m/usr/local/lib/python3.7/dist-packages/zipline/gens/tradesimulation.py\u001b[0m in \u001b[0;36mtransform\u001b[0;34m(self)\u001b[0m\n\u001b[1;32m    226\u001b[0m             \u001b[0;32mfor\u001b[0m \u001b[0mdt\u001b[0m\u001b[0;34m,\u001b[0m \u001b[0maction\u001b[0m \u001b[0;32min\u001b[0m \u001b[0mself\u001b[0m\u001b[0;34m.\u001b[0m\u001b[0mclock\u001b[0m\u001b[0;34m:\u001b[0m\u001b[0;34m\u001b[0m\u001b[0;34m\u001b[0m\u001b[0m\n\u001b[1;32m    227\u001b[0m                 \u001b[0;32mif\u001b[0m \u001b[0maction\u001b[0m \u001b[0;34m==\u001b[0m \u001b[0mBAR\u001b[0m\u001b[0;34m:\u001b[0m\u001b[0;34m\u001b[0m\u001b[0;34m\u001b[0m\u001b[0m\n\u001b[0;32m--> 228\u001b[0;31m                     \u001b[0;32mfor\u001b[0m \u001b[0mcapital_change_packet\u001b[0m \u001b[0;32min\u001b[0m \u001b[0mevery_bar\u001b[0m\u001b[0;34m(\u001b[0m\u001b[0mdt\u001b[0m\u001b[0;34m)\u001b[0m\u001b[0;34m:\u001b[0m\u001b[0;34m\u001b[0m\u001b[0;34m\u001b[0m\u001b[0m\n\u001b[0m\u001b[1;32m    229\u001b[0m                         \u001b[0;32myield\u001b[0m \u001b[0mcapital_change_packet\u001b[0m\u001b[0;34m\u001b[0m\u001b[0;34m\u001b[0m\u001b[0m\n\u001b[1;32m    230\u001b[0m                 \u001b[0;32melif\u001b[0m \u001b[0maction\u001b[0m \u001b[0;34m==\u001b[0m \u001b[0mSESSION_START\u001b[0m\u001b[0;34m:\u001b[0m\u001b[0;34m\u001b[0m\u001b[0;34m\u001b[0m\u001b[0m\n",
            "\u001b[0;32m/usr/local/lib/python3.7/dist-packages/zipline/gens/tradesimulation.py\u001b[0m in \u001b[0;36mevery_bar\u001b[0;34m(dt_to_use, current_data, handle_data)\u001b[0m\n\u001b[1;32m    141\u001b[0m                 \u001b[0mmetrics_tracker\u001b[0m\u001b[0;34m.\u001b[0m\u001b[0mprocess_commission\u001b[0m\u001b[0;34m(\u001b[0m\u001b[0mcommission\u001b[0m\u001b[0;34m)\u001b[0m\u001b[0;34m\u001b[0m\u001b[0;34m\u001b[0m\u001b[0m\n\u001b[1;32m    142\u001b[0m \u001b[0;34m\u001b[0m\u001b[0m\n\u001b[0;32m--> 143\u001b[0;31m             \u001b[0mhandle_data\u001b[0m\u001b[0;34m(\u001b[0m\u001b[0malgo\u001b[0m\u001b[0;34m,\u001b[0m \u001b[0mcurrent_data\u001b[0m\u001b[0;34m,\u001b[0m \u001b[0mdt_to_use\u001b[0m\u001b[0;34m)\u001b[0m\u001b[0;34m\u001b[0m\u001b[0;34m\u001b[0m\u001b[0m\n\u001b[0m\u001b[1;32m    144\u001b[0m \u001b[0;34m\u001b[0m\u001b[0m\n\u001b[1;32m    145\u001b[0m             \u001b[0;31m# grab any new orders from the blotter, then clear the list.\u001b[0m\u001b[0;34m\u001b[0m\u001b[0;34m\u001b[0m\u001b[0;34m\u001b[0m\u001b[0m\n",
            "\u001b[0;32m/usr/local/lib/python3.7/dist-packages/zipline/utils/events.py\u001b[0m in \u001b[0;36mhandle_data\u001b[0;34m(self, context, data, dt)\u001b[0m\n\u001b[1;32m    207\u001b[0m                     \u001b[0mcontext\u001b[0m\u001b[0;34m,\u001b[0m\u001b[0;34m\u001b[0m\u001b[0;34m\u001b[0m\u001b[0m\n\u001b[1;32m    208\u001b[0m                     \u001b[0mdata\u001b[0m\u001b[0;34m,\u001b[0m\u001b[0;34m\u001b[0m\u001b[0;34m\u001b[0m\u001b[0m\n\u001b[0;32m--> 209\u001b[0;31m                     \u001b[0mdt\u001b[0m\u001b[0;34m,\u001b[0m\u001b[0;34m\u001b[0m\u001b[0;34m\u001b[0m\u001b[0m\n\u001b[0m\u001b[1;32m    210\u001b[0m                 )\n\u001b[1;32m    211\u001b[0m \u001b[0;34m\u001b[0m\u001b[0m\n",
            "\u001b[0;32m/usr/local/lib/python3.7/dist-packages/zipline/utils/events.py\u001b[0m in \u001b[0;36mhandle_data\u001b[0;34m(self, context, data, dt)\u001b[0m\n\u001b[1;32m    227\u001b[0m         \"\"\"\n\u001b[1;32m    228\u001b[0m         \u001b[0;32mif\u001b[0m \u001b[0mself\u001b[0m\u001b[0;34m.\u001b[0m\u001b[0mrule\u001b[0m\u001b[0;34m.\u001b[0m\u001b[0mshould_trigger\u001b[0m\u001b[0;34m(\u001b[0m\u001b[0mdt\u001b[0m\u001b[0;34m)\u001b[0m\u001b[0;34m:\u001b[0m\u001b[0;34m\u001b[0m\u001b[0;34m\u001b[0m\u001b[0m\n\u001b[0;32m--> 229\u001b[0;31m             \u001b[0mself\u001b[0m\u001b[0;34m.\u001b[0m\u001b[0mcallback\u001b[0m\u001b[0;34m(\u001b[0m\u001b[0mcontext\u001b[0m\u001b[0;34m,\u001b[0m \u001b[0mdata\u001b[0m\u001b[0;34m)\u001b[0m\u001b[0;34m\u001b[0m\u001b[0;34m\u001b[0m\u001b[0m\n\u001b[0m\u001b[1;32m    230\u001b[0m \u001b[0;34m\u001b[0m\u001b[0m\n\u001b[1;32m    231\u001b[0m \u001b[0;34m\u001b[0m\u001b[0m\n",
            "\u001b[0;32m<ipython-input-84-2639d80ab5fd>\u001b[0m in \u001b[0;36mrebalance\u001b[0;34m(context, data)\u001b[0m\n\u001b[1;32m    107\u001b[0m \u001b[0;34m\u001b[0m\u001b[0m\n\u001b[1;32m    108\u001b[0m   \u001b[0;31m# Second, get the index makeup for all days prior to today.\u001b[0m\u001b[0;34m\u001b[0m\u001b[0;34m\u001b[0m\u001b[0;34m\u001b[0m\u001b[0m\n\u001b[0;32m--> 109\u001b[0;31m   \u001b[0mall_prior\u001b[0m \u001b[0;34m=\u001b[0m \u001b[0mcontext\u001b[0m\u001b[0;34m.\u001b[0m\u001b[0mindex_members\u001b[0m\u001b[0;34m.\u001b[0m\u001b[0mloc\u001b[0m\u001b[0;34m[\u001b[0m\u001b[0mcontext\u001b[0m\u001b[0;34m.\u001b[0m\u001b[0mindex_members\u001b[0m\u001b[0;34m.\u001b[0m\u001b[0mindex\u001b[0m \u001b[0;34m<\u001b[0m \u001b[0mtoday\u001b[0m\u001b[0;34m]\u001b[0m\u001b[0;34m\u001b[0m\u001b[0;34m\u001b[0m\u001b[0m\n\u001b[0m\u001b[1;32m    110\u001b[0m \u001b[0;34m\u001b[0m\u001b[0m\n\u001b[1;32m    111\u001b[0m   \u001b[0;31m# Now let's snag the first column of the last, i.e. latest, entry.\u001b[0m\u001b[0;34m\u001b[0m\u001b[0;34m\u001b[0m\u001b[0;34m\u001b[0m\u001b[0m\n",
            "\u001b[0;32m/usr/local/lib/python3.7/dist-packages/pandas/core/indexes/extension.py\u001b[0m in \u001b[0;36mwrapper\u001b[0;34m(self, other)\u001b[0m\n\u001b[1;32m    154\u001b[0m \u001b[0;34m\u001b[0m\u001b[0m\n\u001b[1;32m    155\u001b[0m         \u001b[0mop\u001b[0m \u001b[0;34m=\u001b[0m \u001b[0mgetattr\u001b[0m\u001b[0;34m(\u001b[0m\u001b[0mself\u001b[0m\u001b[0;34m.\u001b[0m\u001b[0m_data\u001b[0m\u001b[0;34m,\u001b[0m \u001b[0mopname\u001b[0m\u001b[0;34m)\u001b[0m\u001b[0;34m\u001b[0m\u001b[0;34m\u001b[0m\u001b[0m\n\u001b[0;32m--> 156\u001b[0;31m         \u001b[0;32mreturn\u001b[0m \u001b[0mop\u001b[0m\u001b[0;34m(\u001b[0m\u001b[0mother\u001b[0m\u001b[0;34m)\u001b[0m\u001b[0;34m\u001b[0m\u001b[0;34m\u001b[0m\u001b[0m\n\u001b[0m\u001b[1;32m    157\u001b[0m \u001b[0;34m\u001b[0m\u001b[0m\n\u001b[1;32m    158\u001b[0m     \u001b[0mwrapper\u001b[0m\u001b[0;34m.\u001b[0m\u001b[0m__name__\u001b[0m \u001b[0;34m=\u001b[0m \u001b[0mopname\u001b[0m\u001b[0;34m\u001b[0m\u001b[0;34m\u001b[0m\u001b[0m\n",
            "\u001b[0;32m/usr/local/lib/python3.7/dist-packages/pandas/core/ops/common.py\u001b[0m in \u001b[0;36mnew_method\u001b[0;34m(self, other)\u001b[0m\n\u001b[1;32m     67\u001b[0m         \u001b[0mother\u001b[0m \u001b[0;34m=\u001b[0m \u001b[0mitem_from_zerodim\u001b[0m\u001b[0;34m(\u001b[0m\u001b[0mother\u001b[0m\u001b[0;34m)\u001b[0m\u001b[0;34m\u001b[0m\u001b[0;34m\u001b[0m\u001b[0m\n\u001b[1;32m     68\u001b[0m \u001b[0;34m\u001b[0m\u001b[0m\n\u001b[0;32m---> 69\u001b[0;31m         \u001b[0;32mreturn\u001b[0m \u001b[0mmethod\u001b[0m\u001b[0;34m(\u001b[0m\u001b[0mself\u001b[0m\u001b[0;34m,\u001b[0m \u001b[0mother\u001b[0m\u001b[0;34m)\u001b[0m\u001b[0;34m\u001b[0m\u001b[0;34m\u001b[0m\u001b[0m\n\u001b[0m\u001b[1;32m     70\u001b[0m \u001b[0;34m\u001b[0m\u001b[0m\n\u001b[1;32m     71\u001b[0m     \u001b[0;32mreturn\u001b[0m \u001b[0mnew_method\u001b[0m\u001b[0;34m\u001b[0m\u001b[0;34m\u001b[0m\u001b[0m\n",
            "\u001b[0;32m/usr/local/lib/python3.7/dist-packages/pandas/core/arraylike.py\u001b[0m in \u001b[0;36m__lt__\u001b[0;34m(self, other)\u001b[0m\n\u001b[1;32m     38\u001b[0m     \u001b[0;34m@\u001b[0m\u001b[0munpack_zerodim_and_defer\u001b[0m\u001b[0;34m(\u001b[0m\u001b[0;34m\"__lt__\"\u001b[0m\u001b[0;34m)\u001b[0m\u001b[0;34m\u001b[0m\u001b[0;34m\u001b[0m\u001b[0m\n\u001b[1;32m     39\u001b[0m     \u001b[0;32mdef\u001b[0m \u001b[0m__lt__\u001b[0m\u001b[0;34m(\u001b[0m\u001b[0mself\u001b[0m\u001b[0;34m,\u001b[0m \u001b[0mother\u001b[0m\u001b[0;34m)\u001b[0m\u001b[0;34m:\u001b[0m\u001b[0;34m\u001b[0m\u001b[0;34m\u001b[0m\u001b[0m\n\u001b[0;32m---> 40\u001b[0;31m         \u001b[0;32mreturn\u001b[0m \u001b[0mself\u001b[0m\u001b[0;34m.\u001b[0m\u001b[0m_cmp_method\u001b[0m\u001b[0;34m(\u001b[0m\u001b[0mother\u001b[0m\u001b[0;34m,\u001b[0m \u001b[0moperator\u001b[0m\u001b[0;34m.\u001b[0m\u001b[0mlt\u001b[0m\u001b[0;34m)\u001b[0m\u001b[0;34m\u001b[0m\u001b[0;34m\u001b[0m\u001b[0m\n\u001b[0m\u001b[1;32m     41\u001b[0m \u001b[0;34m\u001b[0m\u001b[0m\n\u001b[1;32m     42\u001b[0m     \u001b[0;34m@\u001b[0m\u001b[0munpack_zerodim_and_defer\u001b[0m\u001b[0;34m(\u001b[0m\u001b[0;34m\"__le__\"\u001b[0m\u001b[0;34m)\u001b[0m\u001b[0;34m\u001b[0m\u001b[0;34m\u001b[0m\u001b[0m\n",
            "\u001b[0;32m/usr/local/lib/python3.7/dist-packages/pandas/core/arrays/datetimelike.py\u001b[0m in \u001b[0;36m_cmp_method\u001b[0;34m(self, other, op)\u001b[0m\n\u001b[1;32m   1008\u001b[0m             \u001b[0mother\u001b[0m \u001b[0;34m=\u001b[0m \u001b[0mself\u001b[0m\u001b[0;34m.\u001b[0m\u001b[0m_validate_comparison_value\u001b[0m\u001b[0;34m(\u001b[0m\u001b[0mother\u001b[0m\u001b[0;34m)\u001b[0m\u001b[0;34m\u001b[0m\u001b[0;34m\u001b[0m\u001b[0m\n\u001b[1;32m   1009\u001b[0m         \u001b[0;32mexcept\u001b[0m \u001b[0mInvalidComparison\u001b[0m\u001b[0;34m:\u001b[0m\u001b[0;34m\u001b[0m\u001b[0;34m\u001b[0m\u001b[0m\n\u001b[0;32m-> 1010\u001b[0;31m             \u001b[0;32mreturn\u001b[0m \u001b[0minvalid_comparison\u001b[0m\u001b[0;34m(\u001b[0m\u001b[0mself\u001b[0m\u001b[0;34m,\u001b[0m \u001b[0mother\u001b[0m\u001b[0;34m,\u001b[0m \u001b[0mop\u001b[0m\u001b[0;34m)\u001b[0m\u001b[0;34m\u001b[0m\u001b[0;34m\u001b[0m\u001b[0m\n\u001b[0m\u001b[1;32m   1011\u001b[0m \u001b[0;34m\u001b[0m\u001b[0m\n\u001b[1;32m   1012\u001b[0m         \u001b[0mdtype\u001b[0m \u001b[0;34m=\u001b[0m \u001b[0mgetattr\u001b[0m\u001b[0;34m(\u001b[0m\u001b[0mother\u001b[0m\u001b[0;34m,\u001b[0m \u001b[0;34m\"dtype\"\u001b[0m\u001b[0;34m,\u001b[0m \u001b[0;32mNone\u001b[0m\u001b[0;34m)\u001b[0m\u001b[0;34m\u001b[0m\u001b[0;34m\u001b[0m\u001b[0m\n",
            "\u001b[0;32m/usr/local/lib/python3.7/dist-packages/pandas/core/ops/invalid.py\u001b[0m in \u001b[0;36minvalid_comparison\u001b[0;34m(left, right, op)\u001b[0m\n\u001b[1;32m     32\u001b[0m     \u001b[0;32melse\u001b[0m\u001b[0;34m:\u001b[0m\u001b[0;34m\u001b[0m\u001b[0;34m\u001b[0m\u001b[0m\n\u001b[1;32m     33\u001b[0m         \u001b[0mtyp\u001b[0m \u001b[0;34m=\u001b[0m \u001b[0mtype\u001b[0m\u001b[0;34m(\u001b[0m\u001b[0mright\u001b[0m\u001b[0;34m)\u001b[0m\u001b[0;34m.\u001b[0m\u001b[0m__name__\u001b[0m\u001b[0;34m\u001b[0m\u001b[0;34m\u001b[0m\u001b[0m\n\u001b[0;32m---> 34\u001b[0;31m         \u001b[0;32mraise\u001b[0m \u001b[0mTypeError\u001b[0m\u001b[0;34m(\u001b[0m\u001b[0;34mf\"Invalid comparison between dtype={left.dtype} and {typ}\"\u001b[0m\u001b[0;34m)\u001b[0m\u001b[0;34m\u001b[0m\u001b[0;34m\u001b[0m\u001b[0m\n\u001b[0m\u001b[1;32m     35\u001b[0m     \u001b[0;32mreturn\u001b[0m \u001b[0mres_values\u001b[0m\u001b[0;34m\u001b[0m\u001b[0;34m\u001b[0m\u001b[0m\n\u001b[1;32m     36\u001b[0m \u001b[0;34m\u001b[0m\u001b[0m\n",
            "\u001b[0;31mTypeError\u001b[0m: Invalid comparison between dtype=datetime64[ns] and Timestamp"
          ]
        }
      ]
    },
    {
      "cell_type": "code",
      "source": [
        "\n",
        "%matplotlib inline\n",
        "\n",
        "import zipline\n",
        "from zipline.api import future_symbol,  \\\n",
        "    set_commission, set_slippage, schedule_function, date_rules, \\\n",
        "    time_rules, continuous_future, order_target\n",
        "from datetime import datetime\n",
        "import pytz\n",
        "import matplotlib.pyplot as plt\n",
        "import pyfolio as pf\n",
        "import pandas as pd\n",
        "import numpy as np  \n",
        "from zipline.finance.commission import PerTrade, PerContract\n",
        "from zipline.finance.slippage import VolumeShareSlippage, \\\n",
        "    FixedSlippage, VolatilityVolumeShare\n",
        "\n",
        "# These lines are for the dynamic text reporting\n",
        "from IPython.display import display\n",
        "import ipywidgets as widgets\n",
        "out = widgets.HTML()\n",
        "display(out)\n",
        "\n",
        "\"\"\"\n",
        "Model Settings\n",
        "\"\"\"\n",
        "starting_portfolio = 50000000\n",
        "risk_factor = 0.0015\n",
        "stop_distance = 3\n",
        "breakout_window = 50\n",
        "vola_window = 40\n",
        "slow_ma = 80\n",
        "fast_ma = 40\n",
        "enable_commission = True\n",
        "enable_slippage = True  \n",
        "\n",
        "\n",
        "def report_result(context, data):\n",
        "    context.months += 1\n",
        "    today = zipline.api.get_datetime().date()\n",
        "    # Calculate annualized return so far\n",
        "    ann_ret = np.power(context.portfolio.portfolio_value / starting_portfolio, \n",
        "                   12 / context.months) - 1\n",
        "    \n",
        "    # Update the text\n",
        "    out.value = \"\"\"{} We have traded <b>{}</b> months \n",
        "    and the annualized return is <b>{:.2%}</b>\"\"\".format(today, context.months, ann_ret)\n",
        "\n",
        "def roll_futures(context, data):\n",
        "    open_orders = zipline.api.get_open_orders()\n",
        "    \n",
        "    for held_contract in context.portfolio.positions:\n",
        "        # don't roll positions that are set to change by core logic\n",
        "        if held_contract in open_orders: \n",
        "            continue\n",
        "        \n",
        "        # Save some time by only checking rolls for\n",
        "        # contracts stopping trading in the next days\n",
        "        days_to_auto_close = (\n",
        "            held_contract.auto_close_date.date() - data.current_session.date()\n",
        "        ).days\n",
        "        if days_to_auto_close > 5:\n",
        "            continue        \n",
        "        \n",
        "        # Make a continuation\n",
        "        continuation = continuous_future(\n",
        "                held_contract.root_symbol, \n",
        "                offset=0, \n",
        "                roll='volume', \n",
        "                adjustment='mul'\n",
        "                )\n",
        "        \n",
        "        # Get the current contract of the continuation\n",
        "        continuation_contract = data.current(continuation, 'contract')\n",
        "        \n",
        "        if continuation_contract != held_contract:\n",
        "            # Check how many contracts we hold\n",
        "            pos_size = context.portfolio.positions[held_contract].amount         \n",
        "            # Close current position\n",
        "            order_target(held_contract, 0)\n",
        "            # Open new position\n",
        "            order_target(continuation_contract, pos_size)     \n",
        "            \n",
        "def position_size(portfolio_value, std, point_value):\n",
        "    target_variation = portfolio_value * risk_factor\n",
        "    contract_variation = std * point_value\n",
        "    contracts = target_variation / contract_variation\n",
        "    return int(np.nan_to_num(contracts)) \n",
        "    \n",
        "def initialize(context):\n",
        "    \n",
        "    \"\"\"\n",
        "    Cost Settings\n",
        "    \"\"\"\n",
        "    if enable_commission:\n",
        "        comm_model = PerContract(cost=0.85, exchange_fee=1.5)\n",
        "    else:\n",
        "        comm_model = PerTrade(cost=0.0)\n",
        "        \n",
        "    set_commission(us_futures=comm_model)\n",
        "    \n",
        "    if enable_slippage:\n",
        "        slippage_model=VolatilityVolumeShare(volume_limit=0.2)\n",
        "    else:\n",
        "        slippage_model=FixedSlippage(spread=0.0)      \n",
        "        \n",
        "    set_slippage(us_futures=slippage_model)\n",
        "    \n",
        "    \"\"\"\n",
        "    Markets to trade\n",
        "    \"\"\" \n",
        "    currencies = [\n",
        "        'AD',\n",
        "        'BP',\n",
        "        'CD',\n",
        "        'CU',\n",
        "        'DX',\n",
        "        'JY',\n",
        "        'NE',\n",
        "        'SF',\n",
        "    ]\n",
        "    \n",
        "    agricultural = [\n",
        "        '_C',\n",
        "        'CT',\n",
        "        'FC',\n",
        "        'KC',\n",
        "        'LR',\n",
        "        'LS',\n",
        "        '_O',\n",
        "        '_S',\n",
        "        'SB',\n",
        "        'SM',\n",
        "        '_W',\n",
        "    ]\n",
        "    nonagricultural = [\n",
        "        'CL',\n",
        "        'GC',\n",
        "        'HG',\n",
        "        'HO',\n",
        "        'LG',\n",
        "        'NG',\n",
        "        'PA',\n",
        "        'PL',\n",
        "        'RB',\n",
        "        'SI',\n",
        "    ]\n",
        "    equities = [\n",
        "        'ES',\n",
        "        'NK',\n",
        "        'NQ',\n",
        "        'TW',\n",
        "        'VX',\n",
        "        'YM',\n",
        "    ]\n",
        "    rates = [\n",
        "        'ED',\n",
        "        'FV',\n",
        "        'TU',\n",
        "        'TY',\n",
        "        'US',\n",
        "    ]\n",
        "    \n",
        "    # Make a list of all the markets\n",
        "    markets = currencies + agricultural + nonagricultural + equities + rates\n",
        "    \n",
        "    # Make a list of all continuations\n",
        "    context.universe = [\n",
        "        continuous_future(market, offset=0, roll='volume', adjustment='mul')\n",
        "            for market in markets\n",
        "    ]\n",
        "    \n",
        "    # We'll use these to keep track of best position reading\n",
        "    # Used to calculate stop points.\n",
        "    context.highest_in_position = {market: 0 for market in markets} \n",
        "    context.lowest_in_position = {market: 0 for market in markets}    \n",
        "    \n",
        "    # Schedule the daily trading\n",
        "    schedule_function(daily_trade, date_rules.every_day(), time_rules.market_close())\n",
        "    \n",
        "    # We'll just use this for the progress output\n",
        "    # during the backtest. Doesn't impact anything.\n",
        "    context.months = 0    \n",
        "    \n",
        "    # Schedule monthly report output\n",
        "    schedule_function(\n",
        "        func=report_result,\n",
        "        date_rule=date_rules.month_start(),\n",
        "        time_rule=time_rules.market_open()\n",
        "    ) \n",
        "    \n",
        "def analyze(context, perf):\n",
        "    returns, positions, transactions = pf.utils.extract_rets_pos_txn_from_zipline(perf)\n",
        "    pf.create_returns_tear_sheet(returns, benchmark_rets=None)\n",
        "    \n",
        "def daily_trade(context, data):\n",
        "    # Get continuation data\n",
        "    hist = data.history(\n",
        "        context.universe, \n",
        "        fields=['close','volume'], \n",
        "        frequency='1d', \n",
        "        bar_count=250,\n",
        "    )\n",
        "    \n",
        "    # Calculate trend\n",
        "    hist['trend'] = hist['close'].ewm(span=fast_ma).mean() > hist['close'].ewm(span=slow_ma).mean()    \n",
        "    \n",
        "    # Make dictionary of open positions\n",
        "    open_pos = {\n",
        "        pos.root_symbol: pos \n",
        "        for pos in context.portfolio.positions\n",
        "    } \n",
        "    \n",
        "    # Iterate markets, check for trades\n",
        "    for continuation in context.universe:\n",
        "        \n",
        "        # Get root symbol of continuation\n",
        "        root = continuation.root_symbol\n",
        "        \n",
        "        # Slice off history for just this market\n",
        "        h = hist.xs(continuation, 2)\n",
        "        \n",
        "        # Get standard deviation\n",
        "        std = h.close.diff()[-vola_window:].std()\n",
        "\n",
        "        if root in open_pos: # Position is open\n",
        "\n",
        "            # Get position\n",
        "            p = context.portfolio.positions[open_pos[root]]\n",
        "            \n",
        "            if p.amount > 0: # Position is long\n",
        "                if context.highest_in_position[root] == 0: # First day holding the position\n",
        "                    context.highest_in_position[root] = p.cost_basis\n",
        "                else:\n",
        "                    context.highest_in_position[root] = max(\n",
        "                        h['close'].iloc[-1], context.highest_in_position[root]\n",
        "                    ) \n",
        "                    \n",
        "                # Calculate stop point\n",
        "                stop = context.highest_in_position[root] - (std  * stop_distance)\n",
        "                # Check if stop is hit\n",
        "                if h.iloc[-1]['close'] < stop:\n",
        "                    contract = open_pos[root]\n",
        "                    order_target(contract, 0)\n",
        "                    context.highest_in_position[root] = 0\n",
        "                # Check if trend has flipped\n",
        "                elif h['trend'].iloc[-1] == False:\n",
        "                    contract = open_pos[root]\n",
        "                    order_target(contract, 0)\n",
        "                    context.highest_in_position[root] = 0\n",
        "                    \n",
        "            else: # Position is short\n",
        "                if context.lowest_in_position[root] == 0: # First day holding the position\n",
        "                    context.lowest_in_position[root] = p.cost_basis\n",
        "                else:\n",
        "                    context.lowest_in_position[root] = min(\n",
        "                        h['close'].iloc[-1], context.lowest_in_position[root]\n",
        "                    )\n",
        "                \n",
        "                # Calculate stop point\n",
        "                stop = context.lowest_in_position[root] + (std  * stop_distance)\n",
        "                \n",
        "                # Check if stop is hit\n",
        "                if h.iloc[-1]['close'] > stop:\n",
        "                    contract = open_pos[root]\n",
        "                    order_target(contract, 0)\n",
        "                    context.lowest_in_position[root] = 0\n",
        "                # Check if trend has flipped\n",
        "                elif h['trend'].iloc[-1] == True:\n",
        "                    contract = open_pos[root]\n",
        "                    order_target(contract, 0)\n",
        "                    context.lowest_in_position[root] = 0                         \n",
        "        \n",
        "        else: # No position on\n",
        "            if h['trend'].iloc[-1]: # Bull trend\n",
        "                # Check if we just made a new high\n",
        "                if h['close'][-1] == h[-breakout_window:]['close'].max(): \n",
        "                    contract = data.current(continuation, 'contract')\n",
        "\n",
        "                    contracts_to_trade = position_size( \\\n",
        "                                                       context.portfolio.portfolio_value, \\\n",
        "                                                       std, \\\n",
        "                                                       contract.price_multiplier)\n",
        "                    \n",
        "                    # Limit size to 20% of avg. daily volume\n",
        "                    contracts_cap = int(h['volume'][-20:].mean() * 0.2)\n",
        "                    contracts_to_trade = min(contracts_to_trade, contracts_cap)\n",
        "                    \n",
        "                    # Place the order\n",
        "                    order_target(contract, contracts_to_trade)\n",
        "             \n",
        "            else: # Bear trend\n",
        "                # Check if we just made a new low\n",
        "                if h['close'][-1] == h[-breakout_window:]['close'].min(): \n",
        "                    contract = data.current(continuation, 'contract')\n",
        "\n",
        "                    contracts_to_trade = position_size( \\\n",
        "                                                       context.portfolio.portfolio_value, \\\n",
        "                                                       std, \\\n",
        "                                                       contract.price_multiplier)\n",
        "                    \n",
        "                    # Limit size to 20% of avg. daily volume\n",
        "                    contracts_cap = int(h['volume'][-20:].mean() * 0.2)\n",
        "                    contracts_to_trade = min(contracts_to_trade, contracts_cap)\n",
        "                    \n",
        "                    # Place the order\n",
        "                    order_target(contract, -1 * contracts_to_trade)\n",
        "    \n",
        "    # If we have open positions, check for rolls\n",
        "    if len(open_pos) > 0:   \n",
        "        roll_futures(context, data)                \n",
        "                        \n",
        "start = datetime(2001, 1, 1, 8, 15, 12, 0, pytz.UTC)\n",
        "end = datetime(2019, 1, 2, 8, 15, 12, 0, pytz.UTC)\n",
        "\n",
        "perf = zipline.run_algorithm(\n",
        "    start=start, end=end, \n",
        "    initialize=initialize, \n",
        "    analyze=analyze,\n",
        "    capital_base=starting_portfolio,  \n",
        "    data_frequency = 'daily', \n",
        "    bundle='random_futures_data' ) \n",
        "\n",
        "\n"
      ],
      "metadata": {
        "id": "sponWV8ZKDJv",
        "outputId": "3c16876a-02d1-4bd4-ae08-09dcfd14dde6",
        "colab": {
          "base_uri": "https://localhost:8080/",
          "height": 418,
          "referenced_widgets": [
            "da6848d2f3da4208a212a43122946efa",
            "e2369633e75647b185c56e32fb7fcd0a",
            "6fa9df63e7b2460eafc52bb91757854c"
          ]
        }
      },
      "execution_count": 6,
      "outputs": [
        {
          "output_type": "display_data",
          "data": {
            "text/plain": [
              "HTML(value='')"
            ],
            "application/vnd.jupyter.widget-view+json": {
              "version_major": 2,
              "version_minor": 0,
              "model_id": "da6848d2f3da4208a212a43122946efa"
            }
          },
          "metadata": {}
        },
        {
          "output_type": "error",
          "ename": "AssertionError",
          "evalue": "ignored",
          "traceback": [
            "\u001b[0;31m---------------------------------------------------------------------------\u001b[0m",
            "\u001b[0;31mAssertionError\u001b[0m                            Traceback (most recent call last)",
            "\u001b[0;32m<ipython-input-6-50a2c384133f>\u001b[0m in \u001b[0;36m<module>\u001b[0;34m()\u001b[0m\n\u001b[1;32m    311\u001b[0m     \u001b[0mcapital_base\u001b[0m\u001b[0;34m=\u001b[0m\u001b[0mstarting_portfolio\u001b[0m\u001b[0;34m,\u001b[0m\u001b[0;34m\u001b[0m\u001b[0;34m\u001b[0m\u001b[0m\n\u001b[1;32m    312\u001b[0m     \u001b[0mdata_frequency\u001b[0m \u001b[0;34m=\u001b[0m \u001b[0;34m'daily'\u001b[0m\u001b[0;34m,\u001b[0m\u001b[0;34m\u001b[0m\u001b[0;34m\u001b[0m\u001b[0m\n\u001b[0;32m--> 313\u001b[0;31m     bundle='random_futures_data' ) \n\u001b[0m\u001b[1;32m    314\u001b[0m \u001b[0;34m\u001b[0m\u001b[0m\n\u001b[1;32m    315\u001b[0m \u001b[0;34m\u001b[0m\u001b[0m\n",
            "\u001b[0;32m/usr/local/lib/python3.7/dist-packages/zipline/utils/run_algo.py\u001b[0m in \u001b[0;36mrun_algorithm\u001b[0;34m(start, end, initialize, capital_base, handle_data, before_trading_start, analyze, data_frequency, bundle, bundle_timestamp, trading_calendar, metrics_set, benchmark_returns, default_extension, extensions, strict_extensions, environ, custom_loader, blotter)\u001b[0m\n\u001b[1;32m    417\u001b[0m         \u001b[0mblotter\u001b[0m\u001b[0;34m=\u001b[0m\u001b[0mblotter\u001b[0m\u001b[0;34m,\u001b[0m\u001b[0;34m\u001b[0m\u001b[0;34m\u001b[0m\u001b[0m\n\u001b[1;32m    418\u001b[0m         \u001b[0mcustom_loader\u001b[0m\u001b[0;34m=\u001b[0m\u001b[0mcustom_loader\u001b[0m\u001b[0;34m,\u001b[0m\u001b[0;34m\u001b[0m\u001b[0;34m\u001b[0m\u001b[0m\n\u001b[0;32m--> 419\u001b[0;31m         \u001b[0mbenchmark_spec\u001b[0m\u001b[0;34m=\u001b[0m\u001b[0mbenchmark_spec\u001b[0m\u001b[0;34m,\u001b[0m\u001b[0;34m\u001b[0m\u001b[0;34m\u001b[0m\u001b[0m\n\u001b[0m\u001b[1;32m    420\u001b[0m     )\n\u001b[1;32m    421\u001b[0m \u001b[0;34m\u001b[0m\u001b[0m\n",
            "\u001b[0;32m/usr/local/lib/python3.7/dist-packages/zipline/utils/run_algo.py\u001b[0m in \u001b[0;36m_run\u001b[0;34m(handle_data, initialize, before_trading_start, analyze, algofile, algotext, defines, data_frequency, capital_base, bundle, bundle_timestamp, start, end, output, trading_calendar, print_algo, metrics_set, local_namespace, environ, blotter, custom_loader, benchmark_spec)\u001b[0m\n\u001b[1;32m    208\u001b[0m                 \u001b[0mtrading_calendar\u001b[0m\u001b[0;34m=\u001b[0m\u001b[0mtrading_calendar\u001b[0m\u001b[0;34m,\u001b[0m\u001b[0;34m\u001b[0m\u001b[0;34m\u001b[0m\u001b[0m\n\u001b[1;32m    209\u001b[0m                 \u001b[0mcapital_base\u001b[0m\u001b[0;34m=\u001b[0m\u001b[0mcapital_base\u001b[0m\u001b[0;34m,\u001b[0m\u001b[0;34m\u001b[0m\u001b[0;34m\u001b[0m\u001b[0m\n\u001b[0;32m--> 210\u001b[0;31m                 \u001b[0mdata_frequency\u001b[0m\u001b[0;34m=\u001b[0m\u001b[0mdata_frequency\u001b[0m\u001b[0;34m,\u001b[0m\u001b[0;34m\u001b[0m\u001b[0;34m\u001b[0m\u001b[0m\n\u001b[0m\u001b[1;32m    211\u001b[0m             ),\n\u001b[1;32m    212\u001b[0m             \u001b[0mmetrics_set\u001b[0m\u001b[0;34m=\u001b[0m\u001b[0mmetrics_set\u001b[0m\u001b[0;34m,\u001b[0m\u001b[0;34m\u001b[0m\u001b[0;34m\u001b[0m\u001b[0m\n",
            "\u001b[0;32m/usr/local/lib/python3.7/dist-packages/zipline/finance/trading.py\u001b[0m in \u001b[0;36m__init__\u001b[0;34m(self, start_session, end_session, trading_calendar, capital_base, emission_rate, data_frequency, arena)\u001b[0m\n\u001b[1;32m     38\u001b[0m     ):\n\u001b[1;32m     39\u001b[0m \u001b[0;34m\u001b[0m\u001b[0m\n\u001b[0;32m---> 40\u001b[0;31m         \u001b[0;32massert\u001b[0m \u001b[0mtype\u001b[0m\u001b[0;34m(\u001b[0m\u001b[0mstart_session\u001b[0m\u001b[0;34m)\u001b[0m \u001b[0;34m==\u001b[0m \u001b[0mpd\u001b[0m\u001b[0;34m.\u001b[0m\u001b[0mTimestamp\u001b[0m\u001b[0;34m\u001b[0m\u001b[0;34m\u001b[0m\u001b[0m\n\u001b[0m\u001b[1;32m     41\u001b[0m         \u001b[0;32massert\u001b[0m \u001b[0mtype\u001b[0m\u001b[0;34m(\u001b[0m\u001b[0mend_session\u001b[0m\u001b[0;34m)\u001b[0m \u001b[0;34m==\u001b[0m \u001b[0mpd\u001b[0m\u001b[0;34m.\u001b[0m\u001b[0mTimestamp\u001b[0m\u001b[0;34m\u001b[0m\u001b[0;34m\u001b[0m\u001b[0m\n\u001b[1;32m     42\u001b[0m \u001b[0;34m\u001b[0m\u001b[0m\n",
            "\u001b[0;31mAssertionError\u001b[0m: "
          ]
        }
      ]
    },
    {
      "cell_type": "markdown",
      "source": [
        "# 💻# **RUN BACKTEST CODE HERE**"
      ],
      "metadata": {
        "id": "8gWXJGjGBDbs"
      }
    },
    {
      "cell_type": "code",
      "source": [
        "#@title\n",
        "%matplotlib inline\n",
        "\n",
        "from zipline import run_algorithm\n",
        "from zipline.api import order_target_percent, symbol, record, set_benchmark, set_commission\n",
        "from zipline.finance.commission import PerTrade\n",
        "from datetime import datetime\n",
        "import pytz\n",
        "import pandas as pd\n",
        "import pyfolio as pf\n",
        "import numpy as np\n",
        "from stockstats import StockDataFrame as sdf\n",
        "import warnings\n",
        "warnings.filterwarnings('ignore')\n",
        "\n",
        "from IPython.display import display\n",
        "import ipywidgets as widgets\n",
        "out = widgets.HTML()\n",
        "display(out)\n",
        "\n",
        "def report_result(context, data):\n",
        "  context.months += 1\n",
        "  today = zipline.api.get_datetime().date()\n",
        "  # Calculate annualized return so far\n",
        "  ann_ret = np.power(context.portfolio.portfolio_value / starting_portfolio, 12 / context.months) - 1\n",
        "  # Update the text\n",
        "  out.value = \"\"\"{} We have traded <b>{}</b> months and the annualized return is <b>{:.2%}</b>\"\"\".format(today, context.months, ann_ret)\n",
        "\n",
        "def initialize(context):\n",
        "  context.stock = symbol('IBM')\n",
        "  context.rolling_window = 200\n",
        "  set_benchmark(symbol('IBM'))\n",
        "\n",
        "def handle_data(context, data):\n",
        "  \n",
        "  price_hist = data.history(context.stock, \"close\", context.rolling_window, \"1d\")\n",
        "  \n",
        "  order_target_percent(context.stock, 1.0 if price_hist[-1] > price_hist.mean() else 0.0)\n",
        "\n",
        "def analyze(context, perf):\n",
        "\n",
        "  # We need to be able to calulate the daily returns from the cumulative returns\n",
        "\n",
        "  daily_returns = pd.Series([0.5, -0.5, 0.5, -0.5])\n",
        "  cumulative_returns = pd.Series([0.5, -0.25, 0.125, 0.5625])\n",
        "\n",
        "  returns, positions, transactions = pf.utils.extract_rets_pos_txn_from_zipline(perf)\n",
        "  benchmark_period_return = perf['benchmark_period_return']\n",
        "\n",
        "  # Convert benchmark returns to daily returns\n",
        "  #daily_returns = (1 + benchmark_period_return) / (1 + benchmark_period_return.shift()) - 1\n",
        "  daily_benchmark_returns = np.exp(np.log(benchmark_period_return + 1.0).diff()) - 1\n",
        "\n",
        "  # Create tear sheet\n",
        "  pf.create_full_tear_sheet(returns, positions=positions, transactions=transactions, benchmark_rets=daily_benchmark_returns)\n",
        "\n",
        "start_date = pd.to_datetime('1993-1-1', utc=True)\n",
        "end_date = pd.to_datetime('2018-1-1', utc=True)\n",
        "\n",
        "results = run_algorithm(\n",
        "    start = start_date, \n",
        "    end = end_date,\n",
        "    initialize = initialize,\n",
        "    analyze = analyze,\n",
        "    handle_data = handle_data,\n",
        "    capital_base = 10000,\n",
        "    data_frequency = 'daily',\n",
        "    bundle ='quandl')"
      ],
      "metadata": {
        "id": "JEtmR8GjFANc",
        "collapsed": true,
        "colab": {
          "base_uri": "https://localhost:8080/",
          "height": 374
        },
        "outputId": "a0099d65-aa1b-459c-e636-9a7050c695db",
        "cellView": "form"
      },
      "execution_count": null,
      "outputs": [
        {
          "output_type": "error",
          "ename": "ModuleNotFoundError",
          "evalue": "ignored",
          "traceback": [
            "\u001b[0;31m---------------------------------------------------------------------------\u001b[0m",
            "\u001b[0;31mModuleNotFoundError\u001b[0m                       Traceback (most recent call last)",
            "\u001b[0;32m<ipython-input-2-911bb0f2f637>\u001b[0m in \u001b[0;36m<module>\u001b[0;34m()\u001b[0m\n\u001b[1;32m      2\u001b[0m \u001b[0mget_ipython\u001b[0m\u001b[0;34m(\u001b[0m\u001b[0;34m)\u001b[0m\u001b[0;34m.\u001b[0m\u001b[0mmagic\u001b[0m\u001b[0;34m(\u001b[0m\u001b[0;34m'matplotlib inline'\u001b[0m\u001b[0;34m)\u001b[0m\u001b[0;34m\u001b[0m\u001b[0;34m\u001b[0m\u001b[0m\n\u001b[1;32m      3\u001b[0m \u001b[0;34m\u001b[0m\u001b[0m\n\u001b[0;32m----> 4\u001b[0;31m \u001b[0;32mfrom\u001b[0m \u001b[0mzipline\u001b[0m \u001b[0;32mimport\u001b[0m \u001b[0mrun_algorithm\u001b[0m\u001b[0;34m\u001b[0m\u001b[0;34m\u001b[0m\u001b[0m\n\u001b[0m\u001b[1;32m      5\u001b[0m \u001b[0;32mfrom\u001b[0m \u001b[0mzipline\u001b[0m\u001b[0;34m.\u001b[0m\u001b[0mapi\u001b[0m \u001b[0;32mimport\u001b[0m \u001b[0morder_target_percent\u001b[0m\u001b[0;34m,\u001b[0m \u001b[0msymbol\u001b[0m\u001b[0;34m,\u001b[0m \u001b[0mrecord\u001b[0m\u001b[0;34m,\u001b[0m \u001b[0mset_benchmark\u001b[0m\u001b[0;34m,\u001b[0m \u001b[0mset_commission\u001b[0m\u001b[0;34m\u001b[0m\u001b[0;34m\u001b[0m\u001b[0m\n\u001b[1;32m      6\u001b[0m \u001b[0;32mfrom\u001b[0m \u001b[0mzipline\u001b[0m\u001b[0;34m.\u001b[0m\u001b[0mfinance\u001b[0m\u001b[0;34m.\u001b[0m\u001b[0mcommission\u001b[0m \u001b[0;32mimport\u001b[0m \u001b[0mPerTrade\u001b[0m\u001b[0;34m\u001b[0m\u001b[0;34m\u001b[0m\u001b[0m\n",
            "\u001b[0;31mModuleNotFoundError\u001b[0m: No module named 'zipline'",
            "",
            "\u001b[0;31m---------------------------------------------------------------------------\u001b[0;32m\nNOTE: If your import is failing due to a missing package, you can\nmanually install dependencies using either !pip or !apt.\n\nTo view examples of installing some common dependencies, click the\n\"Open Examples\" button below.\n\u001b[0;31m---------------------------------------------------------------------------\u001b[0m\n"
          ],
          "errorDetails": {
            "actions": [
              {
                "action": "open_url",
                "actionText": "Open Examples",
                "url": "/notebooks/snippets/importing_libraries.ipynb"
              }
            ]
          }
        }
      ]
    },
    {
      "cell_type": "code",
      "source": [
        "ND"
      ],
      "metadata": {
        "id": "uwT48WC7z-9I"
      },
      "execution_count": null,
      "outputs": []
    },
    {
      "cell_type": "markdown",
      "source": [
        "# 📈# **SAVE PERFORMANCE RESULTS TO CSV**"
      ],
      "metadata": {
        "id": "ZzBebYqeJO4H"
      }
    },
    {
      "cell_type": "code",
      "source": [
        "#@title\n",
        "# Store performance results (equity curve) as csv file on Drive\n",
        "perf.portfolio_value.to_csv('model_performance.csv')"
      ],
      "metadata": {
        "id": "1Sr44M0nPaU6",
        "cellView": "form"
      },
      "execution_count": null,
      "outputs": []
    },
    {
      "cell_type": "markdown",
      "source": [
        ""
      ],
      "metadata": {
        "id": "42caNKLmD7Wl"
      }
    }
  ]
}