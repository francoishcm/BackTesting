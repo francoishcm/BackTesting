{
  "nbformat": 4,
  "nbformat_minor": 0,
  "metadata": {
    "colab": {
      "name": "Zipline_Reloaded_BacktestEngine.ipynb",
      "provenance": [],
      "collapsed_sections": [],
      "include_colab_link": true
    },
    "kernelspec": {
      "display_name": "Python 3",
      "name": "python3"
    },
    "language_info": {
      "name": "python"
    }
  },
  "cells": [
    {
      "cell_type": "markdown",
      "metadata": {
        "id": "view-in-github",
        "colab_type": "text"
      },
      "source": [
        "<a href=\"https://colab.research.google.com/github/francoishcm/BackTesting/blob/master/Zipline_Reloaded_BacktestEngine_1_25082022.ipynb\" target=\"_parent\"><img src=\"https://colab.research.google.com/assets/colab-badge.svg\" alt=\"Open In Colab\"/></a>"
      ]
    },
    {
      "cell_type": "markdown",
      "source": [
        "# 🧰**INSTALL MODULES**"
      ],
      "metadata": {
        "id": "xRTs1_SK0Scj"
      }
    },
    {
      "cell_type": "code",
      "source": [
        "# Mount Google Drive \n",
        "from google.colab import drive\n",
        "drive.mount('/content/drive')"
      ],
      "metadata": {
        "id": "ABrWrt1q06gq",
        "collapsed": true
      },
      "execution_count": null,
      "outputs": []
    },
    {
      "cell_type": "code",
      "metadata": {
        "id": "1tlwk44QhErd"
      },
      "source": [
        "# Install ta-lib v0.4.0\n",
        "%%bash\n",
        "wget http://prdownloads.sourceforge.net/ta-lib/ta-lib-0.4.0-src.tar.gz\n",
        "tar -xzf ta-lib-0.4.0-src.tar.gz\n",
        "cd ta-lib/\n",
        "./configure\n",
        "make\n",
        "make install"
      ],
      "execution_count": null,
      "outputs": []
    },
    {
      "cell_type": "code",
      "metadata": {
        "id": "JSwN3Ywihz3r",
        "collapsed": true
      },
      "source": [
        "# Install zipline\n",
        "%pip install zipline-reloaded"
      ],
      "execution_count": null,
      "outputs": []
    },
    {
      "cell_type": "code",
      "source": [
        "!pip install iso3166==2.0.2"
      ],
      "metadata": {
        "id": "w2cgjqTU8TKt"
      },
      "execution_count": null,
      "outputs": []
    },
    {
      "cell_type": "code",
      "source": [
        "# Install Pyfolio\n",
        "!pip install pyfolio-reloaded"
      ],
      "metadata": {
        "id": "m-y07xfPTFVK",
        "collapsed": true
      },
      "execution_count": null,
      "outputs": []
    },
    {
      "cell_type": "code",
      "source": [
        "# Install matplot library\n",
        "!pip install matplotlib"
      ],
      "metadata": {
        "collapsed": true,
        "id": "zoV1_FSc_5MW"
      },
      "execution_count": null,
      "outputs": []
    },
    {
      "cell_type": "code",
      "source": [
        "# Install data bundle 'Quandl'\n",
        "!pip install quandl"
      ],
      "metadata": {
        "collapsed": true,
        "id": "8-pgTCGp2XzF"
      },
      "execution_count": null,
      "outputs": []
    },
    {
      "cell_type": "code",
      "source": [
        "import zipline\n",
        "zipline.__version__"
      ],
      "metadata": {
        "id": "C9erwAEdVunF"
      },
      "execution_count": null,
      "outputs": []
    },
    {
      "cell_type": "code",
      "source": [
        "!pip install nasdaq-data-link"
      ],
      "metadata": {
        "id": "jjqASrBOT4Rc"
      },
      "execution_count": null,
      "outputs": []
    },
    {
      "cell_type": "markdown",
      "source": [
        "# 💽**SET WORKING DIRECTORY**"
      ],
      "metadata": {
        "id": "4Ixua2eyz0Hr"
      }
    },
    {
      "cell_type": "code",
      "source": [
        "import os \n",
        "\n",
        "# Set your working directory to a folder in your Google Drive. This way, if your notebook times out,\n",
        "# your files will be saved in your Google Drive!\n",
        "\n",
        "# the base Google Drive directory\n",
        "root_dir = \"/content/drive/\"\n"
      ],
      "metadata": {
        "id": "eWtZZXQol34j"
      },
      "execution_count": null,
      "outputs": []
    },
    {
      "cell_type": "code",
      "source": [
        "import os \n",
        "\n",
        "# Set your working directory to a folder in your Google Drive. This way, if your notebook times out,\n",
        "# your files will be saved in your Google Drive!\n",
        "\n",
        "\n",
        "# choose where you want your project files to be saved\n",
        "project_folder = \"MyDrive/Colab Notebooks/My Project Folder\"\n"
      ],
      "metadata": {
        "id": "c4jxNssSmApK"
      },
      "execution_count": null,
      "outputs": []
    },
    {
      "cell_type": "code",
      "source": [
        "def create_and_set_working_directory(project_folder):\n",
        "  # check if your project folder exists. if not, it will be created.\n",
        "  if os.path.isdir(root_dir + project_folder) == False:\n",
        "    os.mkdir(root_dir + project_folder)\n",
        "    print(root_dir + project_folder + ' did not exist but was created.')\n",
        "\n",
        "  # change the OS to use your project folder as the working directory\n",
        "  os.chdir(root_dir + project_folder)\n",
        "\n",
        "  # create a test file to make sure it shows up in the right place\n",
        "  !touch 'new_file_in_working_directory.txt'\n",
        "  print('\\nYour working directory was changed to ' + root_dir + project_folder + \\\n",
        "        \"\\n\\nAn empty text file was created there. You can also run !pwd to confirm the current working directory.\" )\n",
        "\n",
        "create_and_set_working_directory(project_folder)"
      ],
      "metadata": {
        "id": "Y0PGKB_SmAR5"
      },
      "execution_count": null,
      "outputs": []
    },
    {
      "cell_type": "code",
      "source": [
        "# Confirm current working directory\n",
        "!pwd"
      ],
      "metadata": {
        "id": "Q4_HSs4HneUa"
      },
      "execution_count": null,
      "outputs": []
    },
    {
      "cell_type": "code",
      "source": [
        "import os\n",
        "for f in os.listdir(\"//content/drive/MyDrive/Colab Notebooks/My Project Folder\"):\n",
        "\tprint(f)"
      ],
      "metadata": {
        "id": "8HB8gDZGqsfB"
      },
      "execution_count": null,
      "outputs": []
    },
    {
      "cell_type": "markdown",
      "source": [
        "# ⏳**INGEST DATA**"
      ],
      "metadata": {
        "id": "z5Y1KYNHeqeu"
      }
    },
    {
      "cell_type": "code",
      "source": [
        "# Ingest custom bundle\n",
        "!zipline ingest --bundle 'crypto'"
      ],
      "metadata": {
        "id": "CvMaJ1U1eVhB"
      },
      "execution_count": null,
      "outputs": []
    },
    {
      "cell_type": "code",
      "source": [
        "# Ingest custom bundle\n",
        "!zipline ingest --bundle 'equities_csvdir'"
      ],
      "metadata": {
        "id": "okd6vU6j5iPt"
      },
      "execution_count": null,
      "outputs": []
    },
    {
      "cell_type": "code",
      "source": [
        "# Ingest custom bundle\n",
        "!zipline ingest --bundle 'random_futures_data'"
      ],
      "metadata": {
        "id": "1tKhQWGK5Z8T"
      },
      "execution_count": null,
      "outputs": []
    },
    {
      "cell_type": "code",
      "source": [
        "# Ingest custom bundle\n",
        "!zipline ingest --bundle 'random_stock_data'"
      ],
      "metadata": {
        "id": "lvSZVAHNJDW4"
      },
      "execution_count": null,
      "outputs": []
    },
    {
      "cell_type": "code",
      "source": [
        "'''\n",
        "INGEST QUANDL STOCK BUNDLE\n",
        "'''\n",
        "# Ingest bundle API\n",
        "!QUANDL_API_KEY=KUnssHvVERHb5XYu9C1- zipline ingest -b 'quandl'"
      ],
      "metadata": {
        "id": "KiUF_IBQCSlm",
        "collapsed": true
      },
      "execution_count": null,
      "outputs": []
    },
    {
      "cell_type": "code",
      "source": [
        "# Confirm existing bundles\n",
        "!zipline bundles"
      ],
      "metadata": {
        "id": "Ol2e01cH_O3z"
      },
      "execution_count": null,
      "outputs": []
    },
    {
      "cell_type": "code",
      "source": [
        "# clean everything older than <date>\n",
        "!zipline clean -b crypto --after 2022-04-13"
      ],
      "metadata": {
        "id": "mzYjOy4meAx3"
      },
      "execution_count": null,
      "outputs": []
    },
    {
      "cell_type": "markdown",
      "source": [
        "# 📊**ANDREAS CLENOW MODELS**"
      ],
      "metadata": {
        "id": "r6pHOCkwUJOo"
      }
    },
    {
      "cell_type": "markdown",
      "source": [
        "## **Clenow Momentum Model**\n",
        "\n",
        "---\n"
      ],
      "metadata": {
        "id": "EHQUpvbK0RNj"
      }
    },
    {
      "cell_type": "code",
      "source": [
        "#@title\n",
        "%matplotlib inline\n",
        "\n",
        "import zipline\n",
        "from zipline import run_algorithm\n",
        "from zipline.api import order_target_percent, symbol, set_commission, set_slippage, schedule_function, date_rules, time_rules\n",
        "from pandas import Timestamp\n",
        "from datetime import datetime\n",
        "import pytz\n",
        "import matplotlib.pyplot as plt \n",
        "import pyfolio as pf\n",
        "import pandas as pd \n",
        "import numpy as np \n",
        "from scipy import stats\n",
        "from zipline.finance.commission import PerDollar\n",
        "from zipline.finance.slippage import VolumeShareSlippage, FixedSlippage\n",
        "\n",
        "#Model Settings\n",
        "\n",
        "intial_portfolio = 100000\n",
        "momentum_window = 125\n",
        "minimum_momentum = 40\n",
        "portfolio_size = 30\n",
        "vola_window = 20\n",
        "\n",
        "#Commission and Slippage Settings\n",
        "\n",
        "enable_commission = True \n",
        "commission_pct = 0.001 \n",
        "enable_slippage = True \n",
        "slippage_volume_limit = 0.025\n",
        "slippage_impact = 0.05\n",
        "\n",
        "def momentum_score(ts):\n",
        "\n",
        "  #Input: Price time series.Output: Annualized exponential regression slope, multiplied by the R2\n",
        "\n",
        "  # Make a list of consecutive numbers \n",
        "  x = np.arange(len(ts))\n",
        "  # Get logs\n",
        "  log_ts = np.log(ts)\n",
        "  # Calculate regression values\n",
        "  slope, intercept, r_value, p_value, std_err = stats.linregress(x, log_ts) \n",
        "  # Annualize percent\n",
        "  annualized_slope = (np.power(np.exp(slope), 252) - 1) * 100 \n",
        "  #Adjust for fitness\n",
        "  score = annualized_slope * (r_value ** 2) \n",
        "  return score\n",
        "\n",
        "def volatility(ts):\n",
        "  return ts.pct_change().rolling(vola_window).std().iloc[-1]\n",
        "\n",
        "def output_progress(context):\n",
        "\n",
        "  #Output some performance numbers during backtest run \n",
        "  #This code just prints out the past month's performance,\n",
        "  # so that we have something to look at while the backtest runs.\n",
        "\n",
        "  # Get today's date\n",
        "  today = zipline.api.get_datetime().date()\n",
        "\n",
        "  # Calculate percent difference since last month\n",
        "  perf_pct = (context.portfolio.portfolio_value / context.last_month) - 1\n",
        "\n",
        "  # Print performance, format as percent with two decimals. \n",
        "  print(\"{} - Last Month Result: {:.2%}\".format(today, perf_pct))\n",
        "\n",
        "  # Remember today's portfolio value for next month's calculation \n",
        "  context.last_month = context.portfolio.portfolio_value\n",
        "\n",
        "#Initialization and trading logic\n",
        "\n",
        "\n",
        "def initialize(context):\n",
        "\n",
        "  # Set commission and slippage.\n",
        "  if enable_commission:\n",
        "    comm_model = PerDollar(cost=commission_pct) \n",
        "  else:\n",
        "    comm_model = PerDollar(cost=0.0) \n",
        "  set_commission(comm_model)\n",
        "  if enable_slippage: slippage_model=VolumeShareSlippage(volume_limit=slippage_volume_limit,\n",
        "price_impact=slippage_impact) \n",
        "  else:\n",
        "    slippage_model=FixedSlippage(spread=0.0) \n",
        "  set_slippage(slippage_model)\n",
        "\n",
        "  # Used only for progress output. \n",
        "  context.last_month = intial_portfolio\n",
        "\n",
        "  # Store index membership\n",
        "  context.index_members = pd.read_csv('/content/drive/MyDrive/Colab Notebooks/My Project Folder/index members/sp500.csv', engine='python', error_bad_lines=False)\n",
        "\n",
        "\n",
        "  #Schedule rebalance monthly. \n",
        "  schedule_function(\n",
        "    func=rebalance, \n",
        "    date_rule=date_rules.month_start(), \n",
        "    time_rule=time_rules.market_open()\n",
        "  )\n",
        "\n",
        "def rebalance(context, data):\n",
        "  # Write some progress output during the backtest \n",
        "  output_progress(context)\n",
        "\n",
        "  # First, get today's date\n",
        "  today = zipline.api.get_datetime().date()\n",
        "\n",
        "  # Second, get the index makeup for all days prior to today.\n",
        "  all_prior = context.index_members.loc[context.index_members.index < today]\n",
        "\n",
        "  todays_universe = [ \n",
        "    symbol(ticker) for ticker in\n",
        "    context.index_members.loc[context.index_members.index < today].iloc[-1,0].split(',')\n",
        "  ]\n",
        "\n",
        "  # Get historical data\n",
        "  hist = data.history(todays_universe, \"close\", momentum_window, \"1d\")\n",
        "\n",
        "  # Make momentum ranking table\n",
        "  ranking_table = hist.apply(momentum_score).sort_values(ascending=False)\n",
        "\n",
        "  #Sell Logic\n",
        "  #First we check if any existing position should be sold.\n",
        "    #Sell if stock is no longer part of index.\n",
        "    #Sell if stock has too low momentum value.\n",
        "\n",
        "  kept_positions = list(context.portfolio.positions.keys()) \n",
        "  for security in context.portfolio.positions:\n",
        "    if (security not in todays_universe): \n",
        "      order_target_percent(security, 0.0) \n",
        "      kept_positions.remove(security)\n",
        "    elif ranking_table[security] < minimum_momentum: \n",
        "      order_target_percent(security, 0.0) \n",
        "      kept_positions.remove(security)\n",
        "\n",
        "  #Stock Selection Logic\n",
        "  #Check how many stocks we are keeping from last month.\n",
        "  #Fill from top of ranking list, until we reach the desired total number of portfolio holdings.\n",
        "\n",
        "  replacement_stocks = portfolio_size - len(kept_positions) \n",
        "  buy_list = ranking_table.loc[\n",
        "    ~ranking_table.index.isin(kept_positions)][:replacement_stocks]\n",
        "  new_portfolio = pd.concat(\n",
        "    (buy_list,\n",
        "    ranking_table.loc[ranking_table.index.isin(kept_positions)])\n",
        "  )\n",
        "  buy_list = ranking_table.loc[\n",
        "    ~ranking_table.index.isin(kept_positions)][:replacement_stocks]\n",
        "\n",
        "  #Calculate inverse volatility for stocks, and make target position weights.\n",
        "\n",
        "  vola_table = hist[new_portfolio.index].apply(volatility) \n",
        "  inv_vola_table = 1 / vola_table\n",
        "  sum_inv_vola = np.sum(inv_vola_table) \n",
        "  vola_target_weights = inv_vola_table / sum_inv_vola\n",
        "  for security, rank in new_portfolio.iteritems(): \n",
        "    weight = vola_target_weights[security]\n",
        "    if security in kept_positions:\n",
        "      order_target_percent(security, weight)\n",
        "    else:\n",
        "      if ranking_table[security] > minimum_momentum: \n",
        "        order_target_percent(security, weight)\n",
        "\n",
        "def analyze(context, perf):\n",
        "  perf['max'] = perf.portfolio_value.cummax() \n",
        "  perf['dd'] = (perf.portfolio_value / perf['max']) - 1 \n",
        "  maxdd = perf['dd'].min()\n",
        "\n",
        "  ann_ret = (np.power((perf.portfolio_value.iloc[-1] / perf.portfolio_value.iloc[0]),(252 / len(perf)))) - 1\n",
        "\n",
        "  print(\"Annualized Return: {:.2%} Max Drawdown: {:.2%}\".format(ann_ret, maxdd))\n",
        "\n",
        "  return\n",
        "'''\n",
        "start = datetime(1997, 1, 1, 8, 15, 12, 0, pytz.UTC)\n",
        "end = datetime(2018, 12, 31, 8, 15, 12, 0, pytz.UTC)\n",
        "'''\n",
        "\n",
        "start = pd.Timestamp('1997-1-1', tz='utc')\n",
        "end = pd.Timestamp('2018-12-31', tz='utc')\n",
        "\n",
        "perf = zipline.run_algorithm(start=start, end=end, \n",
        "                             initialize=initialize, \n",
        "                             analyze=analyze, \n",
        "                             capital_base=intial_portfolio, \n",
        "                             data_frequency = 'daily', \n",
        "                             bundle='quandl' )"
      ],
      "metadata": {
        "id": "6aRGAkzKLH88",
        "collapsed": true,
        "cellView": "code"
      },
      "execution_count": null,
      "outputs": []
    },
    {
      "cell_type": "markdown",
      "source": [
        "## **Clenow Trend Model**"
      ],
      "metadata": {
        "id": "x83jcz1QUFDe"
      }
    },
    {
      "cell_type": "code",
      "source": [
        "\n",
        "%matplotlib inline\n",
        "\n",
        "import zipline\n",
        "from zipline.api import future_symbol,  \\\n",
        "    set_commission, set_slippage, schedule_function, date_rules, \\\n",
        "    time_rules, continuous_future, order_target\n",
        "from pandas import Timestamp\n",
        "import pytz\n",
        "import datetime as datetime\n",
        "import matplotlib.pyplot as plt\n",
        "import pyfolio as pf\n",
        "import pandas as pd\n",
        "import numpy as np  \n",
        "from zipline.finance.commission import PerTrade, PerContract\n",
        "from zipline.finance.slippage import VolumeShareSlippage, \\\n",
        "    FixedSlippage, VolatilityVolumeShare\n",
        "\n",
        "# These lines are for the dynamic text reporting\n",
        "from IPython.display import display\n",
        "import ipywidgets as widgets\n",
        "out = widgets.HTML()\n",
        "display(out)\n",
        "\n",
        "\"\"\"\n",
        "Model Settings\n",
        "\"\"\"\n",
        "starting_portfolio = 50000000\n",
        "risk_factor = 0.0015\n",
        "stop_distance = 3\n",
        "breakout_window = 50\n",
        "vola_window = 40\n",
        "slow_ma = 80\n",
        "fast_ma = 40\n",
        "enable_commission = True\n",
        "enable_slippage = True  \n",
        "\n",
        "\n",
        "def report_result(context, data):\n",
        "    context.months += 1\n",
        "    today = zipline.api.get_datetime().date()\n",
        "    # Calculate annualized return so far\n",
        "    ann_ret = np.power(context.portfolio.portfolio_value / starting_portfolio, \n",
        "                   12 / context.months) - 1\n",
        "    \n",
        "    # Update the text\n",
        "    out.value = \"\"\"{} We have traded <b>{}</b> months \n",
        "    and the annualized return is <b>{:.2%}</b>\"\"\".format(today, context.months, ann_ret)\n",
        "\n",
        "def roll_futures(context, data):\n",
        "    open_orders = zipline.api.get_open_orders()\n",
        "    \n",
        "    for held_contract in context.portfolio.positions:\n",
        "        # don't roll positions that are set to change by core logic\n",
        "        if held_contract in open_orders: \n",
        "            continue\n",
        "        \n",
        "        # Save some time by only checking rolls for\n",
        "        # contracts stopping trading in the next days\n",
        "        days_to_auto_close = (\n",
        "            held_contract.auto_close_date.date() - data.current_session.date()\n",
        "        ).days\n",
        "        if days_to_auto_close > 5:\n",
        "            continue        \n",
        "        \n",
        "        # Make a continuation\n",
        "        continuation = continuous_future(\n",
        "                held_contract.root_symbol, \n",
        "                offset=0, \n",
        "                roll='volume', \n",
        "                adjustment='mul'\n",
        "                )\n",
        "        \n",
        "        # Get the current contract of the continuation\n",
        "        continuation_contract = data.current(continuation, 'contract')\n",
        "        \n",
        "        if continuation_contract != held_contract:\n",
        "            # Check how many contracts we hold\n",
        "            pos_size = context.portfolio.positions[held_contract].amount         \n",
        "            # Close current position\n",
        "            order_target(held_contract, 0)\n",
        "            # Open new position\n",
        "            order_target(continuation_contract, pos_size)     \n",
        "            \n",
        "def position_size(portfolio_value, std, point_value):\n",
        "    target_variation = portfolio_value * risk_factor\n",
        "    contract_variation = std * point_value\n",
        "    contracts = target_variation / contract_variation\n",
        "    return int(np.nan_to_num(contracts)) \n",
        "    \n",
        "def initialize(context):\n",
        "    \n",
        "    \"\"\"\n",
        "    Cost Settings\n",
        "    \"\"\"\n",
        "    if enable_commission:\n",
        "        comm_model = PerContract(cost=0.85, exchange_fee=1.5)\n",
        "    else:\n",
        "        comm_model = PerTrade(cost=0.0)\n",
        "        \n",
        "    set_commission(us_futures=comm_model)\n",
        "    \n",
        "    if enable_slippage:\n",
        "        slippage_model=VolatilityVolumeShare(volume_limit=0.2)\n",
        "    else:\n",
        "        slippage_model=FixedSlippage(spread=0.0)      \n",
        "        \n",
        "    set_slippage(us_futures=slippage_model)\n",
        "    \n",
        "    \"\"\"\n",
        "    Markets to trade\n",
        "    \"\"\" \n",
        "    currencies = [\n",
        "        'AD',\n",
        "        'BP',\n",
        "        'CD',\n",
        "        'CU',\n",
        "        'DX',\n",
        "        'JY',\n",
        "        'NE',\n",
        "        'SF',\n",
        "    ]\n",
        "    \n",
        "    agricultural = [\n",
        "        '_C',\n",
        "        'CT',\n",
        "        'FC',\n",
        "        'KC',\n",
        "        'LR',\n",
        "        'LS',\n",
        "        '_O',\n",
        "        '_S',\n",
        "        'SB',\n",
        "        'SM',\n",
        "        '_W',\n",
        "    ]\n",
        "    nonagricultural = [\n",
        "        'CL',\n",
        "        'GC',\n",
        "        'HG',\n",
        "        'HO',\n",
        "        'LG',\n",
        "        'NG',\n",
        "        'PA',\n",
        "        'PL',\n",
        "        'RB',\n",
        "        'SI',\n",
        "    ]\n",
        "    equities = [\n",
        "        'ES',\n",
        "        'NK',\n",
        "        'NQ',\n",
        "        'TW',\n",
        "        'VX',\n",
        "        'YM',\n",
        "    ]\n",
        "    rates = [\n",
        "        'ED',\n",
        "        'FV',\n",
        "        'TU',\n",
        "        'TY',\n",
        "        'US',\n",
        "    ]\n",
        "    \n",
        "    # Make a list of all the markets\n",
        "    markets = currencies + agricultural + nonagricultural + equities + rates\n",
        "    \n",
        "    # Make a list of all continuations\n",
        "    context.universe = [\n",
        "        continuous_future(market, offset=0, roll='volume', adjustment='mul')\n",
        "            for market in markets\n",
        "    ]\n",
        "    \n",
        "    # We'll use these to keep track of best position reading\n",
        "    # Used to calculate stop points.\n",
        "    context.highest_in_position = {market: 0 for market in markets} \n",
        "    context.lowest_in_position = {market: 0 for market in markets}    \n",
        "    \n",
        "    # Schedule the daily trading\n",
        "    schedule_function(daily_trade, date_rules.every_day(), time_rules.market_close())\n",
        "    \n",
        "    # We'll just use this for the progress output\n",
        "    # during the backtest. Doesn't impact anything.\n",
        "    context.months = 0    \n",
        "    \n",
        "    # Schedule monthly report output\n",
        "    schedule_function(\n",
        "        func=report_result,\n",
        "        date_rule=date_rules.month_start(),\n",
        "        time_rule=time_rules.market_open()\n",
        "    ) \n",
        "    \n",
        "def analyze(context, perf):\n",
        "    returns, positions, transactions = pf.utils.extract_rets_pos_txn_from_zipline(perf)\n",
        "    pf.create_returns_tear_sheet(returns, benchmark_rets=None)\n",
        "    \n",
        "def daily_trade(context, data):\n",
        "    # Get continuation data\n",
        "    hist = data.history(\n",
        "        context.universe, \n",
        "        fields=['close','volume'], \n",
        "        frequency='1d', \n",
        "        bar_count=250,\n",
        "    )\n",
        "    \n",
        "    # Calculate trend\n",
        "    hist['trend'] = hist['close'].ewm(span=fast_ma).mean() > hist['close'].ewm(span=slow_ma).mean()    \n",
        "    \n",
        "    # Make dictionary of open positions\n",
        "    open_pos = {\n",
        "        pos.root_symbol: pos \n",
        "        for pos in context.portfolio.positions\n",
        "    } \n",
        "    \n",
        "    # Iterate markets, check for trades\n",
        "    for continuation in context.universe:\n",
        "        \n",
        "        # Get root symbol of continuation\n",
        "        root = continuation.root_symbol\n",
        "        \n",
        "        # Slice off history for just this market\n",
        "        h = hist.xs(continuation, 2)\n",
        "        \n",
        "        # Get standard deviation\n",
        "        std = h.close.diff()[-vola_window:].std()\n",
        "\n",
        "        if root in open_pos: # Position is open\n",
        "\n",
        "            # Get position\n",
        "            p = context.portfolio.positions[open_pos[root]]\n",
        "            \n",
        "            if p.amount > 0: # Position is long\n",
        "                if context.highest_in_position[root] == 0: # First day holding the position\n",
        "                    context.highest_in_position[root] = p.cost_basis\n",
        "                else:\n",
        "                    context.highest_in_position[root] = max(\n",
        "                        h['close'].iloc[-1], context.highest_in_position[root]\n",
        "                    ) \n",
        "                    \n",
        "                # Calculate stop point\n",
        "                stop = context.highest_in_position[root] - (std  * stop_distance)\n",
        "                # Check if stop is hit\n",
        "                if h.iloc[-1]['close'] < stop:\n",
        "                    contract = open_pos[root]\n",
        "                    order_target(contract, 0)\n",
        "                    context.highest_in_position[root] = 0\n",
        "                # Check if trend has flipped\n",
        "                elif h['trend'].iloc[-1] == False:\n",
        "                    contract = open_pos[root]\n",
        "                    order_target(contract, 0)\n",
        "                    context.highest_in_position[root] = 0\n",
        "                    \n",
        "            else: # Position is short\n",
        "                if context.lowest_in_position[root] == 0: # First day holding the position\n",
        "                    context.lowest_in_position[root] = p.cost_basis\n",
        "                else:\n",
        "                    context.lowest_in_position[root] = min(\n",
        "                        h['close'].iloc[-1], context.lowest_in_position[root]\n",
        "                    )\n",
        "                \n",
        "                # Calculate stop point\n",
        "                stop = context.lowest_in_position[root] + (std  * stop_distance)\n",
        "                \n",
        "                # Check if stop is hit\n",
        "                if h.iloc[-1]['close'] > stop:\n",
        "                    contract = open_pos[root]\n",
        "                    order_target(contract, 0)\n",
        "                    context.lowest_in_position[root] = 0\n",
        "                # Check if trend has flipped\n",
        "                elif h['trend'].iloc[-1] == True:\n",
        "                    contract = open_pos[root]\n",
        "                    order_target(contract, 0)\n",
        "                    context.lowest_in_position[root] = 0                         \n",
        "        \n",
        "        else: # No position on\n",
        "            if h['trend'].iloc[-1]: # Bull trend\n",
        "                # Check if we just made a new high\n",
        "                if h['close'][-1] == h[-breakout_window:]['close'].max(): \n",
        "                    contract = data.current(continuation, 'contract')\n",
        "\n",
        "                    contracts_to_trade = position_size( \\\n",
        "                                                       context.portfolio.portfolio_value, \\\n",
        "                                                       std, \\\n",
        "                                                       contract.price_multiplier)\n",
        "                    \n",
        "                    # Limit size to 20% of avg. daily volume\n",
        "                    contracts_cap = int(h['volume'][-20:].mean() * 0.2)\n",
        "                    contracts_to_trade = min(contracts_to_trade, contracts_cap)\n",
        "                    \n",
        "                    # Place the order\n",
        "                    order_target(contract, contracts_to_trade)\n",
        "             \n",
        "            else: # Bear trend\n",
        "                # Check if we just made a new low\n",
        "                if h['close'][-1] == h[-breakout_window:]['close'].min(): \n",
        "                    contract = data.current(continuation, 'contract')\n",
        "\n",
        "                    contracts_to_trade = position_size( \\\n",
        "                                                       context.portfolio.portfolio_value, \\\n",
        "                                                       std, \\\n",
        "                                                       contract.price_multiplier)\n",
        "                    \n",
        "                    # Limit size to 20% of avg. daily volume\n",
        "                    contracts_cap = int(h['volume'][-20:].mean() * 0.2)\n",
        "                    contracts_to_trade = min(contracts_to_trade, contracts_cap)\n",
        "                    \n",
        "                    # Place the order\n",
        "                    order_target(contract, -1 * contracts_to_trade)\n",
        "    \n",
        "    # If we have open positions, check for rolls\n",
        "    if len(open_pos) > 0:   \n",
        "        roll_futures(context, data)                \n",
        "                        \n",
        "\n",
        "start = pd.Timestamp('2003-01-01', tz='utc')\n",
        "end = pd.Timestamp('2017-12-31', tz='utc')\n",
        "\n",
        "perf = zipline.run_algorithm(\n",
        "    start=start, end=end, \n",
        "    initialize=initialize, \n",
        "    analyze=analyze,\n",
        "    capital_base=starting_portfolio,  \n",
        "    data_frequency = 'daily', \n",
        "    bundle='random_futures_data' ) \n",
        "\n",
        "\n"
      ],
      "metadata": {
        "id": "sponWV8ZKDJv"
      },
      "execution_count": null,
      "outputs": []
    },
    {
      "cell_type": "markdown",
      "source": [
        "### 💻**MODEL TESTING**"
      ],
      "metadata": {
        "id": "8gWXJGjGBDbs"
      }
    },
    {
      "cell_type": "markdown",
      "source": [
        "#**DIGITAL ASSETS PROGRAMME**\n",
        "\n"
      ],
      "metadata": {
        "id": "tIM7wTXOAarM"
      }
    },
    {
      "cell_type": "markdown",
      "source": [
        "## **Systems**\n",
        "\n",
        "---\n",
        "\n"
      ],
      "metadata": {
        "id": "TycKaYmxuCVl"
      }
    },
    {
      "cell_type": "markdown",
      "source": [
        "### Single Asset Backtest"
      ],
      "metadata": {
        "id": "ySxEKidEU606"
      }
    },
    {
      "cell_type": "code",
      "source": [
        "# This ensures that our graphs will be shown properly in the notebook.\n",
        "%matplotlib inline\n",
        "\n",
        "# Import libraries\n",
        "import zipline\n",
        "from zipline import run_algorithm\n",
        "from zipline.api import order_target_percent, symbol\n",
        "from datetime import datetime\n",
        "import pytz\n",
        "import matplotlib.pyplot as plt\n",
        "import pandas as pd\n",
        "\n",
        "def initialize(context):\n",
        "  # Which asset to trade\n",
        "  context.asset = symbol('btc')\n",
        "  \n",
        "  # Moving average window\n",
        "  context.index_average_window = 100\n",
        "\n",
        "def handle_data(context, data):\n",
        "  # Request history for the stock\n",
        "  btc_hist = data.history(context.asset, \"close\",\n",
        "                               context.index_average_window, \"1d\")\n",
        "  \n",
        "  # Check if price is above moving average\n",
        "  if btc_hist[-1] > btc_hist.mean():\n",
        "    asset_weight = 1.0\n",
        "  else:\n",
        "    asset_weight = 0.0\n",
        "    # Place order\n",
        "    order_target_percent(context.asset, asset_weight)\n",
        "\n",
        "def analyze(context, perf):\n",
        "  \n",
        "  fig = plt.figure(figsize=(12, 8))\n",
        "  \n",
        "    # First char\n",
        "  ax = fig.add_subplot(311)\n",
        "  ax.set_title('Strategy Results')\n",
        "  ax.semilogy(perf['portfolio_value'], linestyle='-',\n",
        "              label='Equity Curve', linewidth=3.0)\n",
        "  ax.legend()\n",
        "  ax.grid(False)\n",
        "\n",
        "  # Second chart\n",
        "  ax = fig.add_subplot(312)\n",
        "  ax.plot(perf['gross_leverage'],\n",
        "  label='Exposure', linestyle='-', linewidth=1.0)\n",
        "  ax.legend()\n",
        "  ax.grid(True)\n",
        "\n",
        "  # Third chart\n",
        "  ax = fig.add_subplot(313)\n",
        "  ax.plot(perf['returns'], label='Returns', linestyle='-.',\n",
        "          linewidth=1.0)"
      ],
      "metadata": {
        "id": "kcHu_Gsb7cll"
      },
      "execution_count": null,
      "outputs": []
    },
    {
      "cell_type": "markdown",
      "source": [
        "### Equal Weight Model"
      ],
      "metadata": {
        "id": "_tfGWw1gYDlo"
      }
    },
    {
      "cell_type": "code",
      "source": [
        "# This ensures that our graphs will be shown properly in the notebook.\n",
        "%matplotlib inline\n",
        "\n",
        "# Import a few libraries we need\n",
        "from zipline import run_algorithm\n",
        "from zipline.api import order_target_percent, record, symbol, set_benchmark\n",
        "import pyfolio as pf\n",
        "import matplotlib.pyplot as plt\n",
        "import pandas as pd\n",
        "import numpy as np\n",
        "import warnings\n",
        "warnings.filterwarnings('ignore')\n",
        "\n",
        "def initialize(context):\n",
        "\n",
        "  # Which stock to trade\n",
        "\n",
        "  \"\"\"\n",
        "  dji = [\"JEC\",\"BBY\",\"MSFT\",\"MCHP\",\"PEP\",\n",
        "         \"RAD\",\"PTC\",\"GCO\",\"FAST\",\"CTL\",\n",
        "         \"APA\",\"EL\",\"TMK\",\"VVI\",\"HPQ\",\n",
        "         \"CMCSA\",\"JCI\",\"T\"]\n",
        "\n",
        "  dji = [\"aave\",\"ada\",\"algo\",\"alpha\",\"ant\",\n",
        "         \"bal\",\"bat\",\"bch\",\"bnb\",\"bsv\",\n",
        "         \"btc\"]\n",
        "  \"\"\"\n",
        "\n",
        "  dji = [\"btc\"]\n",
        "\n",
        "\n",
        "  # Make a list of symbols from the list of tickers\n",
        "  context.dji_symbols = [symbol(s) for s in dji]\n",
        "\n",
        "  # Moving average window\n",
        "  context.index_average_window = 52\n",
        "  \n",
        "def handle_data(context, data):\n",
        "  \n",
        "  # Get history for all the stocks\n",
        "  stock_hist = data.history(context.dji_symbols, \"close\", context.index_average_window, \"1d\")\n",
        "\n",
        "  # Make an empty DataFrame to start with\n",
        "  stock_analytics = pd.DataFrame()\n",
        "\n",
        "  # Add column for above or below average\n",
        "  stock_analytics['above_mean'] = stock_hist.iloc[-1] > stock_hist.mean()\n",
        "\n",
        "  # Set weight for stocks to buy\n",
        "  stock_analytics.loc[stock_analytics['above_mean'] == True, 'weight'] = 1/len(context.dji_symbols)\n",
        "\n",
        "  # Set weight to zero for the rest\n",
        "  stock_analytics.loc[stock_analytics['above_mean'] == False, 'weight'] = 0.0\n",
        "\n",
        "  # Iterate each row and place trades\n",
        "  for stock, analytics in stock_analytics.iterrows():\n",
        "\n",
        "    # Check if the stock can be traded\n",
        "    if data.can_trade(stock):\n",
        "\n",
        "      # Place the trade\n",
        "      order_target_percent(stock, analytics['weight'])\n",
        "\n",
        "def analyze(context, perf):\n",
        "\n",
        "  # Use PyFolio to generate a performance report\n",
        "  returns, positions, transactions = pf.utils.extract_rets_pos_txn_from_zipline(perf)\n",
        "\n",
        "  benchmark_period_return = perf['benchmark_period_return']\n",
        "\n",
        "  daily_benchmark_returns = np.exp(np.log(benchmark_period_return + 1.0).diff()) - 1\n",
        "\n",
        "  # Create tear sheet\n",
        "  pf.create_full_tear_sheet(returns, positions=positions, transactions=transactions, benchmark_rets=None)\n",
        "\n",
        "\"\"\"\n",
        "\n",
        "def analyze(context, perf):\n",
        "\n",
        "  fig = plt.figure(figsize=(12, 8))\n",
        "\n",
        "  # First chart\n",
        "  ax = fig.add_subplot(311)\n",
        "  ax.set_title('Strategy Results')\n",
        "  ax.plot(perf['portfolio_value'], linestyle='-',\n",
        "          label='Equity Curve', linewidth=3.0)\n",
        "  ax.legend()\n",
        "  ax.grid(False)\n",
        "\n",
        "  # Second chart\n",
        "  ax = fig.add_subplot(312)\n",
        "  ax.plot(perf['gross_leverage'],label='Exposure',\n",
        "          linestyle='-', linewidth=1.0)\n",
        "  ax.legend()\n",
        "  ax.grid(True)\n",
        "  \n",
        "  # Third chart\n",
        "  ax = fig.add_subplot(313)\n",
        "  ax.plot(perf['returns'], label='Returns', linestyle='-.',\n",
        "          linewidth=1.0)\n",
        "  ax.legend()\n",
        "  ax.grid(True)\n",
        "\n",
        "  \"\"\"\n",
        "\n",
        "# Set start and end date\n",
        "start_date = pd.Timestamp('2016-05-02', tz='utc')\n",
        "end_date = pd.Timestamp('2020-05-02', tz='utc')\n",
        "\n",
        "# Fire off the backtest\n",
        "perf = run_algorithm(\n",
        "start=start_date,\n",
        "end=end_date,\n",
        "initialize=initialize,\n",
        "analyze=analyze,\n",
        "handle_data=handle_data,\n",
        "capital_base=10000,\n",
        "data_frequency = 'daily', \n",
        "bundle= 'crypto',)"
      ],
      "metadata": {
        "id": "JEtmR8GjFANc",
        "collapsed": true
      },
      "execution_count": null,
      "outputs": []
    },
    {
      "cell_type": "code",
      "source": [
        "#Export performance results to disk in csv file\n",
        "\n",
        "perf.portfolio_value.to_csv('ewm_momentum_model.csv')"
      ],
      "metadata": {
        "id": "BU2OOl30YXe1"
      },
      "execution_count": null,
      "outputs": []
    },
    {
      "cell_type": "markdown",
      "source": [
        "### Momentum Model"
      ],
      "metadata": {
        "id": "1V0GCt2_92BD"
      }
    },
    {
      "cell_type": "code",
      "source": [
        "#@title\n",
        "\n",
        "%matplotlib inline\n",
        "\n",
        "import zipline\n",
        "from zipline import run_algorithm\n",
        "from zipline.api import order_target_percent, symbol, set_commission, set_slippage, schedule_function, date_rules, time_rules\n",
        "import matplotlib.pyplot as plt \n",
        "import pyfolio as pf\n",
        "import pandas as pd \n",
        "import numpy as np\n",
        "from scipy import stats\n",
        "import warnings\n",
        "warnings.filterwarnings('ignore')\n",
        "from zipline.finance.commission import PerDollar\n",
        "from zipline.finance.slippage import VolumeShareSlippage, FixedSlippage\n",
        "\n",
        "\n",
        "initial_portfolio = 10000\n",
        "minimum_momentum = 10\n",
        "portfolio_size = 1\n",
        "vola_window = 30\n",
        "\n",
        "def momentum_score(ts):\n",
        "\n",
        "  #Input: Price time series.Output: Annualized exponential regression slope, multiplied by the R2\n",
        "\n",
        "  # Make a list of consecutive numbers \n",
        "  x = np.arange(len(ts))\n",
        "  # Get logs\n",
        "  log_ts = np.log(ts)\n",
        "  # Calculate regression values\n",
        "  slope, intercept, r_value, p_value, std_err = stats.linregress(x, log_ts) \n",
        "  # Annualize percent\n",
        "  annualized_slope = (np.power(np.exp(slope), 252) - 1) * 100 \n",
        "  #Adjust for fitness\n",
        "  score = annualized_slope * (r_value ** 2) \n",
        "  return score\n",
        "\n",
        "def volatility(ts):\n",
        "  return ts.pct_change().rolling(vola_window).std().iloc[-1]\n",
        "\n",
        "\n",
        "#Initialization and trading logic\n",
        "\n",
        "\n",
        "def initialize(context):\n",
        "\n",
        "  context.rolling_window = 100\n",
        "\n",
        "  #Commission and Slippage Settings\n",
        "\n",
        "  enable_commission = True \n",
        "  commission_pct = 0.001 \n",
        "  enable_slippage = True \n",
        "  slippage_volume_limit = 0.025\n",
        "  slippage_impact = 0.05\n",
        "\n",
        "  \"\"\"\n",
        "  dji = [\"AAVE\",\"ADA\",\"ALPHA\",\"BCH\",\"BTC\",\n",
        "          \"DOGE\",\"DOT\",\"ETH\",\"LTC\",\"USDT\",\n",
        "          \"XLM\",\"XMR\",\"XRP\"]\n",
        "  \"\"\"\n",
        "  dji = [\"btc\",\"ltc\",\"eth\"]\n",
        "\n",
        "  \n",
        "  # Make a list of symbols from the list of tickers\n",
        "  context.dji_symbols = [symbol(s) for s in dji]\n",
        "\n",
        "  # Set commission and slippage.\n",
        "  if enable_commission:\n",
        "    comm_model = PerDollar(cost=commission_pct) \n",
        "  else:\n",
        "    comm_model = PerDollar(cost=0.0) \n",
        "  set_commission(comm_model)\n",
        "  if enable_slippage: slippage_model=VolumeShareSlippage(volume_limit=slippage_volume_limit,\n",
        "price_impact=slippage_impact) \n",
        "  else:\n",
        "    slippage_model=FixedSlippage(spread=0.0) \n",
        "  set_slippage(slippage_model)\n",
        "\n",
        "\n",
        "  #Schedule rebalance monthly. \n",
        "  schedule_function(\n",
        "    func=rebalance, \n",
        "    date_rule=date_rules.month_start(), \n",
        "    time_rule=time_rules.market_open()\n",
        "  )\n",
        "\n",
        "def rebalance(context, data):\n",
        "\n",
        "  # Get historical data\n",
        "  hist = data.history(context.dji_symbols, \"close\", context.rolling_window, \"1d\")\n",
        "\n",
        "  # Make momentum ranking table\n",
        "  ranking_table = hist.apply(momentum_score).sort_values(ascending=False)\n",
        "\n",
        "  #Sell Logic\n",
        "  #First we check if any existing position should be sold.\n",
        "    #Sell if stock is no longer part of index.\n",
        "    #Sell if stock has too low momentum value.\n",
        "\n",
        "  kept_positions = list(context.portfolio.positions.keys()) \n",
        "  for security in context.portfolio.positions:\n",
        "    if ranking_table[security] < minimum_momentum: \n",
        "      order_target_percent(security, 0.0)\n",
        "      kept_positions.remove(security)\n",
        " \n",
        "  #Stock Selection Logic\n",
        "  #Check how many stocks we are keeping from last month.\n",
        "  #Fill from top of ranking list, until we reach the desired total number of portfolio holdings.\n",
        "\n",
        "  replacement_stocks = portfolio_size - len(kept_positions) \n",
        "  buy_list = ranking_table.loc[\n",
        "    ~ranking_table.index.isin(kept_positions)][:replacement_stocks]\n",
        "  new_portfolio = pd.concat(\n",
        "    (buy_list,\n",
        "    ranking_table.loc[ranking_table.index.isin(kept_positions)])\n",
        "  )\n",
        "  buy_list = ranking_table.loc[\n",
        "    ~ranking_table.index.isin(kept_positions)][:replacement_stocks]\n",
        "\n",
        "  #Calculate inverse volatility for stocks, and make target position weights.\n",
        "\n",
        "  vola_table = hist[new_portfolio.index].apply(volatility) \n",
        "  inv_vola_table = 1 / vola_table\n",
        "  sum_inv_vola = np.sum(inv_vola_table) \n",
        "  vola_target_weights = inv_vola_table / sum_inv_vola\n",
        "  for security, rank in new_portfolio.iteritems(): \n",
        "    weight = vola_target_weights[security]\n",
        "    if security in kept_positions:\n",
        "      order_target_percent(security, weight)\n",
        "    else:\n",
        "      if ranking_table[security] > minimum_momentum: \n",
        "        order_target_percent(security, weight)\n",
        "\n",
        "\n",
        "def analyze(context, perf):\n",
        "    \n",
        "  # Use PyFolio to generate a performance report\n",
        "  returns, positions, transactions = pf.utils.extract_rets_pos_txn_from_zipline(perf)\n",
        "\n",
        "  benchmark_period_return = perf['benchmark_period_return']\n",
        "\n",
        "  daily_benchmark_returns = np.exp(np.log(benchmark_period_return + 1.0).diff()) - 1\n",
        "\n",
        "  # Create tear sheet\n",
        "  pf.create_full_tear_sheet(returns, positions=positions, transactions=transactions, benchmark_rets=None)\n",
        "\n",
        "start= pd.Timestamp('2015-5-1', tz='utc')\n",
        "end = pd.Timestamp('2022-5-2', tz='utc')\n",
        "\n",
        "perf = zipline.run_algorithm(start=start, \n",
        "                             end=end, \n",
        "                             initialize=initialize, \n",
        "                             analyze=analyze, \n",
        "                             capital_base=initial_portfolio, \n",
        "                             data_frequency='daily',\n",
        "                             bundle='crypto')"
      ],
      "metadata": {
        "id": "OfmZYBZ4p4nv"
      },
      "execution_count": null,
      "outputs": []
    },
    {
      "cell_type": "code",
      "source": [
        "#Export Performance Result to disk in csv file\n",
        "\n",
        "perf.portfolio_value.to_csv('crypto_momentum.csv')"
      ],
      "metadata": {
        "id": "M18L5KZe3rQr"
      },
      "execution_count": null,
      "outputs": []
    },
    {
      "cell_type": "markdown",
      "source": [
        "### **Model Performance**"
      ],
      "metadata": {
        "id": "kPK0-JU_Y1Ke"
      }
    },
    {
      "cell_type": "code",
      "source": [
        "#@title\n",
        "%matplotlib inline\n",
        "\n",
        "import matplotlib\n",
        "import matplotlib.pyplot as plt\n",
        "import empyrical as em\n",
        "from IPython.core.display import display, HTML\n",
        "import pandas as pd\n",
        "import numpy\n",
        "from datetime import datetime\n",
        "\"\"\"\n",
        "import mpld3\n",
        "mpld3.enable_notebook()\n",
        "\"\"\"\n",
        "\n",
        "base_path = '/content/drive/MyDrive/Colab Notebooks/My Project Folder/Backtests/'\n",
        "\n",
        "bm = 'SPCBDM_test3'\n",
        "bm_name = 'S&P Cryptocurrency Broad Digital Market Index'\n",
        "\n",
        "\n",
        "strat_names = {\n",
        "    \"core_trend\" : \"Core Trend Strategy\",    \n",
        "    \"time_return\" : \"Time Return Strategy\",\n",
        "    \"counter_trend\" : \"Counter Trend Strategy\",\n",
        "    \"curve_trading\" : \"Curve Trading Strategy\",\n",
        "    \"equity_momentum\" : \"Equity Momentum Strategy\",\n",
        "    \"crypto_equal_weight_model_2\" : \"crypto_Equal Weight Strategy\",\n",
        "    \"crypto_momentum_2\" : \"Crypto Momentum Strategy\"\n",
        "    \n",
        "}\n",
        "\n",
        "strat = 'crypto_momentum_2'\n",
        "strat_name = strat_names[strat]\n",
        "\n",
        "df = pd.read_csv(base_path + strat + '.csv', index_col=0, parse_dates=True, names=[strat] )\n",
        "df[bm_name] = pd.read_csv(base_path + bm + '.csv', index_col=0, parse_dates=[0] )\n",
        "\n",
        "df = df.loc[:'2022/05/02'].dropna()\n",
        "\n",
        "print(\"Fetched: {}\".format(strat_name))\n",
        "\n",
        "yr_periods = 252\n",
        "\n",
        "# Format for book display\n",
        "font = {'family' : 'eurostile',\n",
        "        'weight' : 'normal',\n",
        "        'size'   : 12}\n",
        "matplotlib.rc('font', **font)\n",
        "\"\"\"\n",
        "# Format for book display\n",
        "font = {'family' : 'DejaVu Sans',\n",
        "        'weight' : 'normal',\n",
        "        'size'   : 8}\n",
        "matplotlib.rc('font', **font)\n",
        "\"\"\"\n",
        "def equity_graph(df):\n",
        "    df = df / df.iloc[0]\n",
        "    df['Correlation'] = df[strat].pct_change().rolling(window=int(yr_periods / 1)).corr(df[bm_name].pct_change())\n",
        "    \n",
        "    df['Drawdown'] = (df[strat] / df[strat].cummax()) - 1\n",
        "    \n",
        "    df.fillna(0, inplace=True) # make sure no NA values are in there\n",
        "\n",
        "    fig = plt.figure(figsize=(18, 20))\n",
        "\n",
        "    # First chart\n",
        "    ax = fig.add_subplot(311)\n",
        "    ax.set_title('Strategy Comparisons')\n",
        "    ax.semilogy(df[strat], '-',label=strat_name, color='navy', linewidth=2.0)\n",
        "    ax.semilogy(df[bm_name], '-',label=bm_name, color='grey', linewidth=1)\n",
        "    spacing = 500\n",
        "    visible = ax.xaxis.get_ticklabels()[::spacing]\n",
        "    for label in ax.xaxis.get_ticklabels():\n",
        "        if label not in visible:\n",
        "            label.set_visible(True)\n",
        "    ax.set_ylabel('Returns')\n",
        "    ax.set_xlabel('Duration')\n",
        "    plt.xticks(rotation=None)\n",
        "    ax.legend()\n",
        "    \n",
        "    # Second chart\n",
        "    ax = fig.add_subplot(312)\n",
        "    ax.fill_between(df.index, df['Drawdown'], label='Drawdown', color='navy', linewidth=1.0)\n",
        "    spacing = 500\n",
        "    visible = ax.xaxis.get_ticklabels()[::spacing]\n",
        "    for label in ax.xaxis.get_ticklabels():\n",
        "        if label not in visible:\n",
        "            label.set_visible(True)\n",
        "    plt.xticks(rotation=None)\n",
        "    ax.legend()\n",
        "\n",
        "    # Third chart\n",
        "    ax = fig.add_subplot(313)\n",
        "    ax.fill_between(df.index,df['Correlation'], label='12M Rolling Correlation', color='navy')\n",
        "    spacing = 500\n",
        "    visible = ax.xaxis.get_ticklabels()[::spacing]\n",
        "    for label in ax.xaxis.get_ticklabels():\n",
        "        if label not in visible:\n",
        "            label.set_visible(True)\n",
        "    plt.xticks(rotation=None)\n",
        "    ax.legend()\n",
        "    \n",
        "equity_graph(df)\n",
        "\n",
        "monthly_data = em.aggregate_returns(df[strat].pct_change(),'monthly')\n",
        "yearly_data = em.aggregate_returns(df[strat].pct_change(),'yearly')\n",
        "\n",
        "table = \"\"\"\n",
        "<table class='table table-hover table-condensed table-striped'>\n",
        "<thead>\n",
        "<tr>\n",
        "<th style=\"text-align:right\">Year</th>\n",
        "<th style=\"text-align:right\">Jan</th>\n",
        "<th style=\"text-align:right\">Feb</th>\n",
        "<th style=\"text-align:right\">Mar</th>\n",
        "<th style=\"text-align:right\">Apr</th>\n",
        "<th style=\"text-align:right\">May</th>\n",
        "<th style=\"text-align:right\">Jun</th>\n",
        "<th style=\"text-align:right\">Jul</th>\n",
        "<th style=\"text-align:right\">Aug</th>\n",
        "<th style=\"text-align:right\">Sep</th>\n",
        "<th style=\"text-align:right\">Oct</th>\n",
        "<th style=\"text-align:right\">Nov</th>\n",
        "<th style=\"text-align:right\">Dec</th>\n",
        "<th style=\"text-align:right\">Year</th>\n",
        "</tr>\n",
        "</thead>\n",
        "<tbody>\n",
        "<tr>\"\"\"\n",
        "\n",
        "first_year = True\n",
        "first_month = True\n",
        "yr = 0\n",
        "mnth = 0\n",
        "for m, val in monthly_data.iteritems():\n",
        "    yr = m[0]\n",
        "    mnth = m[1]\n",
        "\n",
        "    if(first_month):\n",
        "        table += \"<td align='right'><b>{}</b></td>\\n\".format(yr)\n",
        "        first_month = False\n",
        "\n",
        "    if(first_year): # pad empty months for first year if sim doesn't start in January\n",
        "        first_year = False\n",
        "        if(mnth > 1):\n",
        "            for i in range(1, mnth):\n",
        "                table += \"<td align='right'>-</td>\\n\"\n",
        "\n",
        "    table += \"<td align='right'>{:+.1f}</td>\\n\".format(val * 100)\n",
        "\n",
        "    if(mnth==12): # check for dec, add yearly\n",
        "        table += \"<td align='right'><b>{:+.1f}</b></td>\\n\".format(yearly_data[yr] * 100)     \n",
        "        table += '</tr>\\n <tr> \\n'    \n",
        "        first_month = True\n",
        "\n",
        "# add padding for empty months and last year's value\n",
        "if(mnth != 12):\n",
        "    for i in range(mnth+1, 13):\n",
        "        table += \"<td align='right'>-</td>\\n\"\n",
        "        if(i==12):\n",
        "            table += \"<td align='right'><b>{:+.1f}</b></td>\\n\".format(\n",
        "                yearly_data[yr] * 100\n",
        "            ) \n",
        "            table += '</tr>\\n <tr> \\n'\n",
        "table += '</tr>\\n </tbody> \\n </table>'\n",
        "\n",
        "display(HTML(table))\n",
        "\n",
        "\n",
        "def holding_period_map(df):\n",
        "    yr = em.aggregate_returns(df[strat].pct_change(), 'yearly')\n",
        "    df = pd.DataFrame(columns=range(1,len(yr)+1), index=yr.index)\n",
        "\n",
        "    yr_start = 0\n",
        "    \n",
        "    table = \"<table class='table table-hover table-condensed table-striped'>\"\n",
        "    table += \"<tr><th>Years</th>\"\n",
        "    \n",
        "    for i in range(len(yr)):\n",
        "        table += \"<th>{}</th>\".format(i+1)\n",
        "    table += \"</tr>\"\n",
        "\n",
        "    for the_year, value in yr.iteritems(): # Iterates years\n",
        "        table += \"<tr><th>{}</th>\".format(the_year) # New table row\n",
        "        \n",
        "        for yrs_held in (range(1, len(yr)+1)): # Iterates yrs held \n",
        "            if yrs_held   <= len(yr[yr_start:yr_start + yrs_held]):\n",
        "                ret = em.annual_return(yr[yr_start:yr_start + yrs_held], 'yearly' )\n",
        "                table += \"<td>{:+.0f}</td>\".format(ret * 100)\n",
        "        table += \"</tr>\"    \n",
        "        yr_start+=1\n",
        "    return table\n",
        "\n",
        "table = holding_period_map(df)\n",
        "display(HTML(table))\n",
        "\n"
      ],
      "metadata": {
        "id": "gyaPFiaykaNm",
        "cellView": "form"
      },
      "execution_count": null,
      "outputs": []
    },
    {
      "cell_type": "markdown",
      "source": [
        "# **DATA CLEANING**\n",
        "\n"
      ],
      "metadata": {
        "id": "wOl0psqAtAal"
      }
    },
    {
      "cell_type": "markdown",
      "source": [
        "## Futures"
      ],
      "metadata": {
        "id": "leJ4xVj0cUmi"
      }
    },
    {
      "cell_type": "code",
      "source": [
        "# Import modules\n",
        "import nasdaqdatalink\n",
        "import quandl\n",
        "# Get the data for Futures, Continuous Contract #6.\n",
        "import matplotlib.pyplot as plt\n",
        "data = quandl.get(\"CHRIS/CME_YM1\",start_date=\"2017-12-03\", end_date=\"2018-12-03\", api_key='WDDHaLh3eG6vrEgiCCqy')"
      ],
      "metadata": {
        "id": "RC5tgJ5vmc7a"
      },
      "execution_count": null,
      "outputs": []
    },
    {
      "cell_type": "code",
      "source": [
        "# Plot the prices\n",
        "data.Settle.plot()\n",
        "plt.show()"
      ],
      "metadata": {
        "id": "84lZG881mitG"
      },
      "execution_count": null,
      "outputs": []
    },
    {
      "cell_type": "code",
      "source": [
        "#import required libraries\n",
        "import pandas as pd\n",
        "from datetime import datetime\n",
        "import numpy as np\n",
        "\n",
        "data = data.rename(columns={'Open': 'open','High':'high',\n",
        "                                'Low':'low','Last':'close',\n",
        "                                'Volume':'volume','Previous Day Open Interest': 'openinterest'}, index=None)\n",
        "\n",
        "data['expiration_date'] = '2018-12-21'\n",
        "data['root_symbol'] = 'YM'\n",
        "data['symbol'] = 'YMZ18'\n",
        "\n",
        "new_data = data.drop(['Change', 'Settle',], axis=1)\n",
        "\n",
        "print(new_data.head())\n",
        "\n"
      ],
      "metadata": {
        "id": "6aDFt_ctctAx"
      },
      "execution_count": null,
      "outputs": []
    },
    {
      "cell_type": "code",
      "source": [
        "new_data.to_csv('/content/drive/MyDrive/Colab Notebooks/My Project Folder/Futures/YMZ18.csv')"
      ],
      "metadata": {
        "id": "U-luxklmprlL"
      },
      "execution_count": null,
      "outputs": []
    },
    {
      "cell_type": "markdown",
      "source": [
        "## Digital assets"
      ],
      "metadata": {
        "id": "j9Isr0HFaAKD"
      }
    },
    {
      "cell_type": "markdown",
      "source": [
        "### Adjusting model performace csv data for comparison"
      ],
      "metadata": {
        "id": "xkG3Yi2EHM4P"
      }
    },
    {
      "cell_type": "code",
      "source": [
        "import pandas as pd\n",
        "import numpy as np\n",
        "\n",
        "A = pd.read_csv('/content/drive/MyDrive/Colab Notebooks/My Project Folder/Backtests/Raw Model Performance Data/Digital Assets/crypto_momentum.csv', parse_dates=True, index_col=0)\n",
        "\n",
        "A.index = A.index.strftime('%Y/%m/%d')\n",
        "\n",
        "header_row = 1\n",
        "\n",
        "A.columns = A.iloc[header_row]\n",
        "\n",
        "A"
      ],
      "metadata": {
        "id": "HkR-LQr5HUfA"
      },
      "execution_count": null,
      "outputs": []
    },
    {
      "cell_type": "code",
      "source": [
        "A.info()"
      ],
      "metadata": {
        "id": "dwSpgXWbjPHq"
      },
      "execution_count": null,
      "outputs": []
    },
    {
      "cell_type": "code",
      "source": [
        "\n",
        "A.to_csv('/content/drive/MyDrive/Colab Notebooks/My Project Folder/Backtests/crypto_momentum_2.csv')\n"
      ],
      "metadata": {
        "id": "zpol9KKPOz0m"
      },
      "execution_count": null,
      "outputs": []
    },
    {
      "cell_type": "markdown",
      "source": [
        "### Adjusting crypto indices csv data for comparison"
      ],
      "metadata": {
        "id": "xcAQevGKs8jc"
      }
    },
    {
      "cell_type": "code",
      "source": [
        "#import required libraries\n",
        "import pandas as pd\n",
        "from datetime import datetime\n",
        "import exchange_calendars as xcals\n",
        "from zipline import get_calendar\n",
        "import numpy as np\n",
        "\n",
        "df = pd.read_csv('/content/drive/MyDrive/Colab Notebooks/My Project Folder/crypto/indices/SPCBDM.csv', encoding='cp1252')\n",
        "df.info()\n",
        "print(df)"
      ],
      "metadata": {
        "id": "Ui2xKWSwvQsK"
      },
      "execution_count": null,
      "outputs": []
    },
    {
      "cell_type": "code",
      "source": [
        "\n",
        "df.drop([1355],axis=0, inplace = True )\n",
        "\n",
        "#Convert 'date' Column to datetime\n",
        "df['2/28/2017'] = pd.to_datetime(df['2/28/2017'], utc=True)\n",
        "\n",
        "#Set 'date' column as index\n",
        "df.set_index('2/28/2017', inplace=True)\n",
        "\n",
        "# Get all expected trading sessions in new dataframe.\n",
        "sessions = get_calendar('NYSE').sessions_in_range('2017-02-28', '2022-05-05')\n",
        "\n",
        "df.index = df.index.strftime('%Y/%m/%d')\n",
        "\n",
        "header_row = 1\n",
        "\n",
        "df.columns = df.iloc[header_row]\n",
        "\n",
        "df.tail(5)\n",
        "df.info()\n",
        "df"
      ],
      "metadata": {
        "id": "ccCas1-YyplH"
      },
      "execution_count": null,
      "outputs": []
    },
    {
      "cell_type": "code",
      "source": [
        "df = df[~df.index.duplicated()]\n",
        "df"
      ],
      "metadata": {
        "id": "6_L-MWp3pbMV"
      },
      "execution_count": null,
      "outputs": []
    },
    {
      "cell_type": "code",
      "source": [
        "df.to_csv('/content/drive/MyDrive/Colab Notebooks/My Project Folder/Backtests/SPCBDM_test3.csv')"
      ],
      "metadata": {
        "id": "YxGN_p0ckuRC"
      },
      "execution_count": null,
      "outputs": []
    },
    {
      "cell_type": "markdown",
      "source": [
        "### Removing weekends from timeseries"
      ],
      "metadata": {
        "id": "wyel-4htJj0U"
      }
    },
    {
      "cell_type": "code",
      "source": [
        "#@title\n",
        "#Import statements\n",
        "%matplotlib inline\n",
        "import pandas as pd\n",
        "import datetime as dt\n",
        "import numpy as np\n",
        "\n",
        "#Load csv file from disc\n",
        "df = pd.read_csv('/content/drive/MyDrive/Colab Notebooks/My Project Folder/crypto/crypto_data/DOGE.csv')\n",
        "\n",
        "#Set date column to datetime\n",
        "df['time'] = pd.to_datetime(df['time'], errors='coerce')\n",
        "\n",
        "#Remove weekends from data\n",
        "df = df[df.time.dt.weekday < 5]\n",
        "\n",
        "#Set 'date' columns as Index\n",
        "df.set_index(\"time\", inplace = True)\n",
        "\n",
        "#display weekday dataframe\n",
        "df\n"
      ],
      "metadata": {
        "id": "LcR4uk8SJ3mT"
      },
      "execution_count": null,
      "outputs": []
    },
    {
      "cell_type": "code",
      "source": [
        "#inspect dataframe\n",
        "df.info()"
      ],
      "metadata": {
        "id": "b2HfyHCXUYBR"
      },
      "execution_count": null,
      "outputs": []
    },
    {
      "cell_type": "code",
      "source": [
        "#Save dataframe to csv\n",
        "\n",
        "df.to_csv('/content/drive/MyDrive/Colab Notebooks/My Project Folder/crypto/crypto weekday data/DODGE_weekday.csv')"
      ],
      "metadata": {
        "id": "t91Kk-vQRL8Q"
      },
      "execution_count": null,
      "outputs": []
    },
    {
      "cell_type": "code",
      "source": [
        "#Load final data to file to dataframe\n",
        "dodge = pd.read_csv('/content/drive/MyDrive/Colab Notebooks/My Project Folder/crypto/crypto weekday data/DODGE_weekday.csv')\n",
        "\n",
        "print(dodge)\n",
        "\n"
      ],
      "metadata": {
        "id": "biKqcgmYUzrI"
      },
      "execution_count": null,
      "outputs": []
    },
    {
      "cell_type": "code",
      "source": [
        "#Remove weekends from dataframe\n",
        "btc = usholidays[usholidays.date.dt.weekday < 5]\n",
        "\n",
        "#Set 'date' column as index\n",
        "btc.set_index('date', inplace = True)\n",
        "\n",
        "btc"
      ],
      "metadata": {
        "id": "z2i2hsa_DPOz"
      },
      "execution_count": null,
      "outputs": []
    },
    {
      "cell_type": "code",
      "source": [
        "#import US holiday calender\n",
        "from pandas.tseries.holiday import USFederalHolidayCalendar as calendar\n",
        "\n",
        "#Set period between start and end date in dataframe to identify and remove holidays\n",
        "holidays = calendar().holidays(start='2009-01-05', end='2022-05-24') \n",
        "m = raw_data['date'].isin(holidays)\n",
        "usholidays = raw_data[~m].copy()\n",
        "\n",
        "#print new dataframe with holidays removed\n",
        "usholidays"
      ],
      "metadata": {
        "id": "CBI8-xSAAoRb"
      },
      "execution_count": null,
      "outputs": []
    },
    {
      "cell_type": "markdown",
      "source": [
        "### Adjusting crypto data from **Yahoo Finance** for testing with NYSE trading calender."
      ],
      "metadata": {
        "id": "apiTpYe_fJXQ"
      }
    },
    {
      "cell_type": "code",
      "source": [
        "#import required libraries\n",
        "import pandas as pd\n",
        "from datetime import datetime\n",
        "import exchange_calendars as xcals\n",
        "from zipline import get_calendar\n",
        "import numpy as np"
      ],
      "metadata": {
        "id": "62ohBdKTfmjU"
      },
      "execution_count": null,
      "outputs": []
    },
    {
      "cell_type": "code",
      "source": [
        "df = pd.read_csv('/content/drive/MyDrive/Colab Notebooks/My Project Folder/crypto/yahoo_data/yahoo raw data/BTC-USD.csv', parse_dates=True, index_col=0)\n",
        "\n",
        "# Remove Adj Close Column\n",
        "new_df = df.drop(['Adj Close'], axis=1)\n",
        "\n",
        "new_df[\"Volume\"] = new_df[\"Volume\"].astype(float)\n",
        "\n",
        "#Reset index\n",
        "new_df.reset_index(inplace = True)\n",
        "\n",
        "#Convert 'date' Column to datetime\n",
        "new_df['Date'] = pd.to_datetime(new_df['Date'], utc=True)\n",
        "\n",
        "#Set 'date' column as index\n",
        "new_df.set_index('Date', inplace=True)\n",
        "\n",
        "# Get all expected trading sessions in new dataframe.\n",
        "sessions = get_calendar('NYSE').sessions_in_range('2009-01-05', '2022-07-07')\n",
        "\n",
        "# To set the trading session in  new dataframe to the NYSE Calender\n",
        "btc = new_df.reindex(sessions)\n",
        "\n",
        "#Reset index again to change the index name\n",
        "btc.reset_index(inplace = True)\n",
        "\n",
        "#Rename index column to 'date'\n",
        "btc = btc.rename(columns={'index': 'trading_date'}, index=None)\n",
        "\n",
        "#Change date format to Year-Month-Day\n",
        "btc['trading_date'] =  pd.to_datetime(btc['trading_date']).dt.strftime('%Y-%m-%d')\n",
        "\n",
        "crypto = btc.dropna()\n",
        "\n",
        "#Change 'PriceUSD' columns to 'close'\n",
        "crypto.rename(columns = {'Open':'open',\n",
        "                      'High':'high',\n",
        "                      'Low':'low',\n",
        "                      'Close':'close',\n",
        "                      'Volume':'volume'}, inplace = True)\n",
        "\n",
        "crypto.set_index('trading_date', inplace=True)\n",
        "\n",
        "crypto.info()\n",
        "\n",
        "crypto.to_csv('/content/drive/MyDrive/Colab Notebooks/My Project Folder/crypto/yahoo_data/yahoo cleaned data/btc.csv')\n",
        "\n",
        "crypto"
      ],
      "metadata": {
        "id": "9Zw_h3y8fQBV"
      },
      "execution_count": null,
      "outputs": []
    },
    {
      "cell_type": "markdown",
      "source": [
        "### Adjusting crypto data from **Coinmetrics** for testing with NYSE trading calender."
      ],
      "metadata": {
        "id": "ZoZBFEZFb1JM"
      }
    },
    {
      "cell_type": "code",
      "source": [
        "#import required libraries\n",
        "import pandas as pd\n",
        "from datetime import datetime\n",
        "import exchange_calendars as xcals\n",
        "from zipline import get_calendar\n",
        "import numpy as np\n",
        "\n",
        "#load raw data from file\n",
        "raw_data = pd.read_csv('/content/drive/MyDrive/Colab Notebooks/My Project Folder/crypto/coinmetrics_data/btc.csv', parse_dates=True, index_col=0)\n",
        "\n",
        "new = raw_data.drop(raw_data.loc[:, :'PriceBTC'].columns, axis=1)\n",
        "\n",
        "\n",
        "#drop columns not needed. Only closing prices required\n",
        "new.drop(new.iloc[:, 1:76], inplace = True, axis = 1)\n",
        "\n",
        "#Add new columns\n",
        "new['high'] =0\n",
        "new['low'] =0\n",
        "new['open'] =0\n",
        "new['volume'] =0\n",
        "\n",
        "# Rearrange columns to set timestamp as first column\n",
        "new = new[['high','open','low','PriceUSD','volume']]\n",
        "\n",
        "#Change 'PriceUSD' columns to 'close'\n",
        "new.rename(columns = {'PriceUSD':'close'}, inplace = True)\n",
        "\n",
        "\"\"\"\n",
        "#Drop row (date) not needed\n",
        "new=new.drop(['2022-05-25'])\n",
        "\"\"\"\n",
        "\n",
        "#Fill 'close' column with integer values '0'\n",
        "new[\"close\"].fillna(0, inplace=True)\n",
        "\n",
        "#Reset index\n",
        "new.reset_index(inplace = True)\n",
        "\n",
        "#Rename time columns to date\n",
        "new = new.rename(columns={'time': 'date'}, index=None)\n",
        "\n",
        "#Drop all NaN values from dataframe\n",
        "new.dropna()\n",
        "\n",
        "#Convert columns datatype from integer to float\n",
        "new[\"high\"] = new[\"high\"].astype(float)\n",
        "new[\"open\"] = new[\"open\"].astype(float)\n",
        "new[\"low\"] = new[\"low\"].astype(float)\n",
        "new[\"volume\"] = new[\"volume\"].astype(float)\n",
        "\n",
        "#Convert 'date' Column to datetime\n",
        "new['date'] = pd.to_datetime(new['date'], utc=True)\n",
        "\n",
        "#Set 'date' column as index\n",
        "new.set_index('date', inplace=True)\n",
        "\n",
        "# Get all expected trading sessions in new dataframe.\n",
        "sessions = get_calendar('NYSE').sessions_in_range('2009-01-05', '2022-05-24')\n",
        "\n",
        "# To set the trading session in  new dataframe to the NYSE Calender\n",
        "btc = new.reindex(sessions)\n",
        "\n",
        "#Reset index again to change the index name\n",
        "btc.reset_index(inplace = True)\n",
        "\n",
        "#Rename index column to 'date'\n",
        "btc = btc.rename(columns={'index': 'date'}, index=None)\n",
        "\n",
        "#Change date format to Year-Month-Day\n",
        "btc['date'] =  pd.to_datetime(btc['date']).dt.strftime('%Y-%m-%d')\n",
        "\n",
        "\"\"\"\n",
        "btc.set_index('date', inplace=True)\n",
        "\"\"\"\n",
        "\n",
        "# Remove two columns name is 'C' and 'D'\n",
        "df = btc.drop(['high', 'open','low'], axis=1)\n",
        "\n",
        "df['open'] = df['close'] - (0 * df ['close'])\n",
        "df['high'] = df['open'] - (0 * df ['open'])\n",
        "df['low'] = df['high'] - (0 * df ['high'])\n",
        "\n",
        "# Rearrange columns\n",
        "df = df[['date','open','high','low','close','volume']]\n",
        "\n",
        "df.set_index('date', inplace=True)\n",
        "\n",
        "crypto = df.dropna()\n",
        "\n",
        "crypto.to_csv('/content/drive/MyDrive/Colab Notebooks/My Project Folder/crypto/final crypto bundle/btc.csv')\n",
        "\n"
      ],
      "metadata": {
        "id": "UQOZCRgetfon"
      },
      "execution_count": null,
      "outputs": []
    },
    {
      "cell_type": "code",
      "source": [
        "#@title\n",
        "# Count total null values in dataframe\n",
        "print(\"Total Number of null values in the DataFrame : \" +\n",
        "\tstr(raw_data.isnull().sum().sum()))\n"
      ],
      "metadata": {
        "id": "DvPNoDDTBsT9",
        "cellView": "form"
      },
      "execution_count": null,
      "outputs": []
    },
    {
      "cell_type": "code",
      "source": [
        "#@title\n",
        "#@ show number of null for each column\n",
        "display(raw_data.isnull().sum())\n"
      ],
      "metadata": {
        "id": "_yiqje4xB4Be",
        "cellView": "form"
      },
      "execution_count": null,
      "outputs": []
    },
    {
      "cell_type": "code",
      "source": [
        "#@title\n",
        "#display null values\n",
        "raw_data[raw_data['close'].isnull()]"
      ],
      "metadata": {
        "id": "B2kpdW3bC2Ph",
        "cellView": "form"
      },
      "execution_count": null,
      "outputs": []
    },
    {
      "cell_type": "markdown",
      "source": [],
      "metadata": {
        "id": "gDZuhdt9s2dd"
      }
    },
    {
      "cell_type": "markdown",
      "source": [
        "## Exploratory Data Analyses (EDA)\n",
        "\n",
        "\n",
        "\n"
      ],
      "metadata": {
        "id": "OlM6TGBPVSmL"
      }
    },
    {
      "cell_type": "code",
      "source": [
        "!pip install mpld3"
      ],
      "metadata": {
        "id": "s14iuKoDf7rk"
      },
      "execution_count": null,
      "outputs": []
    },
    {
      "cell_type": "code",
      "source": [
        "%matplotlib inline\n",
        "import numpy as np\n",
        "import pandas as pd\n",
        "from scipy import stats\n",
        "import seaborn as sn\n",
        "import matplotlib.pyplot as plt\n",
        "\"\"\"\n",
        "import mpld3\n",
        "mpld3.enable_notebook()\n",
        "\"\"\"\n",
        "import warnings\n",
        "warnings.filterwarnings('ignore')\n",
        "pd.set_option('display.max_rows', 2)"
      ],
      "metadata": {
        "id": "i5waJ-BLVR5U"
      },
      "execution_count": null,
      "outputs": []
    },
    {
      "cell_type": "code",
      "source": [
        "B = pd.read_csv('/content/drive/MyDrive/Colab Notebooks/My Project Folder/random_futures/YMZ18.csv', parse_dates=True, index_col=0)\n",
        "\n",
        "B.info()\n",
        "\n",
        "print(B.head(5))"
      ],
      "metadata": {
        "id": "7TIUEc7qhsCf"
      },
      "execution_count": null,
      "outputs": []
    },
    {
      "cell_type": "code",
      "source": [
        "new_data.info()\n",
        "\n",
        "print(new_data.head(5))"
      ],
      "metadata": {
        "id": "oUbM6EXUVORX"
      },
      "execution_count": null,
      "outputs": []
    },
    {
      "cell_type": "code",
      "source": [
        "pd.set_option('display.max_rows', None)\n",
        "\n",
        "B.describe()"
      ],
      "metadata": {
        "id": "-ACTvJDKWq-y"
      },
      "execution_count": null,
      "outputs": []
    },
    {
      "cell_type": "code",
      "source": [
        "pd.set_option('display.max_rows', None)\n",
        "\n",
        "new_data.describe()"
      ],
      "metadata": {
        "id": "FmQpnRucXA1t"
      },
      "execution_count": null,
      "outputs": []
    },
    {
      "cell_type": "code",
      "source": [
        "print(B)\n",
        "print(new_data)"
      ],
      "metadata": {
        "id": "sCkdD2lanjzn"
      },
      "execution_count": null,
      "outputs": []
    },
    {
      "cell_type": "code",
      "source": [
        "\"\"\"\n",
        "B['Open'].plot(figsize=(12,6), \n",
        "                  linestyle='--',color='black',\n",
        "                  legend='Open')\n",
        "\n",
        "B['High'].plot(figsize=(12,6),\n",
        "                   linestyle='-',color='grey',\n",
        "                   legend='High')\n",
        "\"\"\"\n",
        "B['close'].plot(figsize=(12,6),\n",
        "                 linestyle=':',color='black',\n",
        "                 legend='Low')\n",
        "\n",
        "new_data['close'].plot(figsize=(12,6),\n",
        "                  linestyle='-',color='black',\n",
        "                  legend='Close')\n"
      ],
      "metadata": {
        "id": "aPN9i9h3Ydbd"
      },
      "execution_count": null,
      "outputs": []
    },
    {
      "cell_type": "code",
      "source": [
        "no_outlier_prices = B[(np.abs(stats.zscore(B)) <\n",
        "6).all(axis=1)]"
      ],
      "metadata": {
        "id": "yGFt1GskpsGJ"
      },
      "execution_count": null,
      "outputs": []
    },
    {
      "cell_type": "code",
      "source": [
        "no_outlier_prices['100'].plot(figsize=(12,6), linestyle='--',\n",
        "color='black', legend='Close')"
      ],
      "metadata": {
        "id": "kSie4BpYqa8R"
      },
      "execution_count": null,
      "outputs": []
    },
    {
      "cell_type": "code",
      "source": [
        "pd.set_option('display.max_rows', None)\n",
        "\n",
        "no_outlier_prices[['533.95']].describe()"
      ],
      "metadata": {
        "id": "_7kJ7-_Mw1pa"
      },
      "execution_count": null,
      "outputs": []
    },
    {
      "cell_type": "markdown",
      "source": [
        "# **MARKETSTACK**"
      ],
      "metadata": {
        "id": "pkft-F-8W1im"
      }
    },
    {
      "cell_type": "code",
      "source": [
        "import pandas as pd\n",
        "import json\n",
        "import requests\n",
        "params = {'access_key': 'e52cf3b93696352e880916f8c8adbf0c'}\n",
        "api_result = requests.get('http://api.marketstack.com/v1/exchanges/XJSE/tickers', params)\n",
        "api_response = api_result.json()\n",
        "print(f\"Exchange Name = {api_response['data']['name']}\")\n",
        "for ticker in api_response['data']['tickers']:\n",
        "  print(f\"{ticker['name']}: {ticker['symbol']}\")"
      ],
      "metadata": {
        "id": "DCM0ZmyKXD-p",
        "outputId": "0e04e3d3-9a05-4a07-e9a0-8a4938542c64",
        "colab": {
          "base_uri": "https://localhost:8080/"
        }
      },
      "execution_count": 35,
      "outputs": [
        {
          "output_type": "stream",
          "name": "stdout",
          "text": [
            "Exchange Name = Johannesburg Stock Exchange\n",
            "PROSUS N.V.: PRX.XJSE\n",
            "ANHEUSER-BUSCH INBEV SA NV: ANH.XJSE\n",
            "BHP GROUP PLC: BHP.XJSE\n",
            "BRITISH AMERICAN TOB PLC: BTI.XJSE\n",
            "NASPERS LTD -N-: NPN.XJSE\n",
            "COMPAGNIE FIN RICHEMONT: CFR.XJSE\n",
            "GLENCORE PLC: GLN.XJSE\n",
            "ANGLO AMERICAN PLC: AGL.XJSE\n",
            "FIRSTRAND LTD: FSR.XJSE\n",
            "ANGLO AMERICAN PLAT LTD: AMS.XJSE\n",
            "STANDARD BANK GROUP LTD: SBK.XJSE\n",
            "VODACOM GROUP LTD: VOD.XJSE\n",
            "MONDI PLC: MNP.XJSE\n",
            "CAPITEC BANK HLDGS LTD: CPI.XJSE\n",
            "BEE - SASOL LIMITED: SOLBE1.XJSE\n",
            "SANLAM LIMITED: SLM.XJSE\n",
            "MTN GROUP LTD: MTN.XJSE\n",
            "ANGLOGOLD ASHANTI LTD: ANG.XJSE\n",
            "SASOL LIMITED: SOL.XJSE\n",
            "ABSA GROUP LIMITED: ABG.XJSE\n",
            "SOUTH32 LIMITED: S32.XJSE\n",
            "RMB HOLDINGS LTD: RMH.XJSE\n",
            "IMPALA PLATINUM HLGS LTD: IMP.XJSE\n",
            "BID CORPORATION LTD: BID.XJSE\n",
            "REMGRO LTD: REM.XJSE\n",
            "KUMBA IRON ORE LTD: KIO.XJSE\n",
            "NEDBANK GROUP LTD: NED.XJSE\n",
            "SIBANYE STILLWATER LTD: SSW.XJSE\n",
            "GOLD FIELDS LTD: GFI.XJSE\n",
            "INVESTEC LTD: INL.XJSE\n",
            "INVESTEC PLC: INP.XJSE\n",
            "OLD MUTUAL LIMITED: OMU.XJSE\n",
            "NEPI ROCKCASTLE PLC: NRP.XJSE\n",
            "DISCOVERY LTD: DSY.XJSE\n",
            "SHOPRITE HOLDINGS LTD: SHP.XJSE\n",
            "BIDVEST LTD: BVT.XJSE\n",
            "REINET INVESTMENTS S.C.A: RNI.XJSE\n",
            "CLICKS GROUP LTD: CLS.XJSE\n",
            "PEPKOR HOLDINGS LTD: PPH.XJSE\n",
            "QUILTER PLC: QLT.XJSE\n",
            "GROWTHPOINT PROP LTD: GRT.XJSE\n",
            "MEDICLINIC INT PLC: MEI.XJSE\n",
            "ASPEN PHARMACARE HLDGS LTD: APN.XJSE\n",
            "PSG GROUP LTD: PSG.XJSE\n",
            "MULTICHOICE GROUP LTD: MCG.XJSE\n",
            "MR PRICE GROUP LTD: MRP.XJSE\n",
            "NORTHAM PLATINUM LTD: NHM.XJSE\n",
            "RAND MERCHANT INV HLDGS LTD: RMI.XJSE\n",
            "FORTRESS REIT LTD A: FFA.XJSE\n",
            "WOOLWORTHS HOLDINGS LTD: WHL.XJSE\n",
            "CAPITAL&COUNTIES PROP PLC: CCO.XJSE\n",
            "LIFE HEALTHC GRP HLDGS LTD: LHC.XJSE\n",
            "HAMMERSON PLC: HMN.XJSE\n",
            "THE SPAR GROUP LTD: SPP.XJSE\n",
            "HARMONY GM CO LTD: HAR.XJSE\n",
            "REDEFINE PROPERTIES LTD: RDF.XJSE\n",
            "THE FOSCHINI GROUP LIMITED: TFG.XJSE\n",
            "EXXARO RESOURCES LTD: EXX.XJSE\n",
            "SANTAM LIMITED: SNT.XJSE\n",
            "AFRICAN RAINBOW MIN LTD: ARI.XJSE\n",
            "PICK N PAY STORES LTD: PIK.XJSE\n",
            "MOMENTUM MET HLDGS LTD: MTM.XJSE\n",
            "LIBERTY HOLDINGS LTD: LBH.XJSE\n",
            "VIVO ENERGY PLC: VVO.XJSE\n",
            "TIGER BRANDS LTD: TBS.XJSE\n",
            "NETCARE LIMITED: NTC.XJSE\n",
            "AVI LTD: AVI.XJSE\n",
            "DISTELL GROUP HLDGS LTD: DGH.XJSE\n",
            "PIONEER FOODS GROUP LTD: PFG.XJSE\n",
            "RESILIENT REIT LIMITED: RES.XJSE\n",
            "TRUWORTHS INT LTD: TRU.XJSE\n",
            "DIS-CHEM PHARMACIES LTD: DCP.XJSE\n",
            "ASSORE LTD: ASR.XJSE\n",
            "GLOBE TRADE CENTRE S.A.: GTC.XJSE\n",
            "BARLOWORLD LTD: BAW.XJSE\n",
            "SIRIUS REAL ESTATE LTD: SRE.XJSE\n",
            "SAPPI LTD: SAP.XJSE\n",
            "ITALTILE LTD: ITE.XJSE\n",
            "EPP N.V.: EPP.XJSE\n",
            "VUKILE PROPERTY FUND LTD: VKE.XJSE\n",
            "MOTUS HOLDINGS LTD: MTH.XJSE\n",
            "CORONATION FUND MNGRS LD: CML.XJSE\n",
            "TELKOM SA SOC LTD: TKG.XJSE\n",
            "ROYAL BAFOKENG PLATINUM LTD: RBP.XJSE\n",
            "MAS REAL ESTATE INC.: MSP.XJSE\n",
            "HYPROP INV LTD: HYP.XJSE\n",
            "TRANSACTION CAPITAL LTD: TCP.XJSE\n",
            "FORTRESS REIT LTD B: FFB.XJSE\n",
            "ARROWHEAD PROP LTD A: AHA.XJSE\n",
            "PSG KONSULT LIMITED: KST.XJSE\n",
            "AECI LIMITED: AFE.XJSE\n",
            "RCL FOODS LIMITED: RCL.XJSE\n",
            "MASSMART HOLDINGS LTD: MSM.XJSE\n",
            "EQUITES PROP FUND LTD: EQU.XJSE\n",
            "INVESTEC PROPERTY FUND LTD: IPF.XJSE\n",
            "REUNERT LTD: RLO.XJSE\n",
            "TSOGO SUN GAMING LTD: TSG.XJSE\n",
            "IMPERIAL LOGISTICS LTD: IPL.XJSE\n",
            "JSE LTD: JSE.XJSE\n",
            "DRD GOLD LTD: DRD.XJSE\n"
          ]
        }
      ]
    },
    {
      "cell_type": "code",
      "source": [
        "# Serializing json\n",
        "json_object = json.dumps(api_response, indent=4)\n",
        " \n",
        "# Writing to sample.json\n",
        "with open(\"sample.json\", \"w\") as outfile:\n",
        "    outfile.write(json_object)"
      ],
      "metadata": {
        "id": "NNIvHqI6Fgvm"
      },
      "execution_count": 36,
      "outputs": []
    },
    {
      "cell_type": "code",
      "source": [
        "# Opening JSON file\n",
        "with open('sample.json', 'r') as openfile:\n",
        " \n",
        "    # Reading from json file\n",
        "    json_object = json.load(openfile)\n",
        " \n",
        "print(json_object)\n",
        "print(type(json_object))"
      ],
      "metadata": {
        "colab": {
          "base_uri": "https://localhost:8080/"
        },
        "id": "ZM4Jq4tcGFWU",
        "outputId": "690b9aae-8f66-481b-b78a-e6bc76c15ade"
      },
      "execution_count": 60,
      "outputs": [
        {
          "output_type": "stream",
          "name": "stdout",
          "text": [
            "{'pagination': {'limit': 100, 'offset': 0, 'count': 100, 'total': 528}, 'data': {'name': 'Johannesburg Stock Exchange', 'acronym': 'JSE', 'mic': 'XJSE', 'country': 'South Africa', 'city': 'Johannesburg', 'website': 'WWW.JSE.CO.ZA', 'tickers': [{'name': 'PROSUS N.V.', 'symbol': 'PRX.XJSE', 'has_intraday': False, 'has_eod': True}, {'name': 'ANHEUSER-BUSCH INBEV SA NV', 'symbol': 'ANH.XJSE', 'has_intraday': False, 'has_eod': True}, {'name': 'BHP GROUP PLC', 'symbol': 'BHP.XJSE', 'has_intraday': False, 'has_eod': True}, {'name': 'BRITISH AMERICAN TOB PLC', 'symbol': 'BTI.XJSE', 'has_intraday': False, 'has_eod': True}, {'name': 'NASPERS LTD -N-', 'symbol': 'NPN.XJSE', 'has_intraday': False, 'has_eod': True}, {'name': 'COMPAGNIE FIN RICHEMONT', 'symbol': 'CFR.XJSE', 'has_intraday': False, 'has_eod': True}, {'name': 'GLENCORE PLC', 'symbol': 'GLN.XJSE', 'has_intraday': False, 'has_eod': True}, {'name': 'ANGLO AMERICAN PLC', 'symbol': 'AGL.XJSE', 'has_intraday': False, 'has_eod': True}, {'name': 'FIRSTRAND LTD', 'symbol': 'FSR.XJSE', 'has_intraday': False, 'has_eod': True}, {'name': 'ANGLO AMERICAN PLAT LTD', 'symbol': 'AMS.XJSE', 'has_intraday': False, 'has_eod': True}, {'name': 'STANDARD BANK GROUP LTD', 'symbol': 'SBK.XJSE', 'has_intraday': False, 'has_eod': True}, {'name': 'VODACOM GROUP LTD', 'symbol': 'VOD.XJSE', 'has_intraday': False, 'has_eod': True}, {'name': 'MONDI PLC', 'symbol': 'MNP.XJSE', 'has_intraday': False, 'has_eod': True}, {'name': 'CAPITEC BANK HLDGS LTD', 'symbol': 'CPI.XJSE', 'has_intraday': False, 'has_eod': True}, {'name': 'BEE - SASOL LIMITED', 'symbol': 'SOLBE1.XJSE', 'has_intraday': False, 'has_eod': True}, {'name': 'SANLAM LIMITED', 'symbol': 'SLM.XJSE', 'has_intraday': False, 'has_eod': True}, {'name': 'MTN GROUP LTD', 'symbol': 'MTN.XJSE', 'has_intraday': False, 'has_eod': True}, {'name': 'ANGLOGOLD ASHANTI LTD', 'symbol': 'ANG.XJSE', 'has_intraday': False, 'has_eod': True}, {'name': 'SASOL LIMITED', 'symbol': 'SOL.XJSE', 'has_intraday': False, 'has_eod': True}, {'name': 'ABSA GROUP LIMITED', 'symbol': 'ABG.XJSE', 'has_intraday': False, 'has_eod': True}, {'name': 'SOUTH32 LIMITED', 'symbol': 'S32.XJSE', 'has_intraday': False, 'has_eod': True}, {'name': 'RMB HOLDINGS LTD', 'symbol': 'RMH.XJSE', 'has_intraday': False, 'has_eod': True}, {'name': 'IMPALA PLATINUM HLGS LTD', 'symbol': 'IMP.XJSE', 'has_intraday': False, 'has_eod': True}, {'name': 'BID CORPORATION LTD', 'symbol': 'BID.XJSE', 'has_intraday': False, 'has_eod': True}, {'name': 'REMGRO LTD', 'symbol': 'REM.XJSE', 'has_intraday': False, 'has_eod': True}, {'name': 'KUMBA IRON ORE LTD', 'symbol': 'KIO.XJSE', 'has_intraday': False, 'has_eod': True}, {'name': 'NEDBANK GROUP LTD', 'symbol': 'NED.XJSE', 'has_intraday': False, 'has_eod': True}, {'name': 'SIBANYE STILLWATER LTD', 'symbol': 'SSW.XJSE', 'has_intraday': False, 'has_eod': True}, {'name': 'GOLD FIELDS LTD', 'symbol': 'GFI.XJSE', 'has_intraday': False, 'has_eod': True}, {'name': 'INVESTEC LTD', 'symbol': 'INL.XJSE', 'has_intraday': False, 'has_eod': True}, {'name': 'INVESTEC PLC', 'symbol': 'INP.XJSE', 'has_intraday': False, 'has_eod': True}, {'name': 'OLD MUTUAL LIMITED', 'symbol': 'OMU.XJSE', 'has_intraday': False, 'has_eod': True}, {'name': 'NEPI ROCKCASTLE PLC', 'symbol': 'NRP.XJSE', 'has_intraday': False, 'has_eod': True}, {'name': 'DISCOVERY LTD', 'symbol': 'DSY.XJSE', 'has_intraday': False, 'has_eod': True}, {'name': 'SHOPRITE HOLDINGS LTD', 'symbol': 'SHP.XJSE', 'has_intraday': False, 'has_eod': True}, {'name': 'BIDVEST LTD', 'symbol': 'BVT.XJSE', 'has_intraday': False, 'has_eod': True}, {'name': 'REINET INVESTMENTS S.C.A', 'symbol': 'RNI.XJSE', 'has_intraday': False, 'has_eod': True}, {'name': 'CLICKS GROUP LTD', 'symbol': 'CLS.XJSE', 'has_intraday': False, 'has_eod': True}, {'name': 'PEPKOR HOLDINGS LTD', 'symbol': 'PPH.XJSE', 'has_intraday': False, 'has_eod': True}, {'name': 'QUILTER PLC', 'symbol': 'QLT.XJSE', 'has_intraday': False, 'has_eod': True}, {'name': 'GROWTHPOINT PROP LTD', 'symbol': 'GRT.XJSE', 'has_intraday': False, 'has_eod': True}, {'name': 'MEDICLINIC INT PLC', 'symbol': 'MEI.XJSE', 'has_intraday': False, 'has_eod': True}, {'name': 'ASPEN PHARMACARE HLDGS LTD', 'symbol': 'APN.XJSE', 'has_intraday': False, 'has_eod': True}, {'name': 'PSG GROUP LTD', 'symbol': 'PSG.XJSE', 'has_intraday': False, 'has_eod': True}, {'name': 'MULTICHOICE GROUP LTD', 'symbol': 'MCG.XJSE', 'has_intraday': False, 'has_eod': True}, {'name': 'MR PRICE GROUP LTD', 'symbol': 'MRP.XJSE', 'has_intraday': False, 'has_eod': True}, {'name': 'NORTHAM PLATINUM LTD', 'symbol': 'NHM.XJSE', 'has_intraday': False, 'has_eod': True}, {'name': 'RAND MERCHANT INV HLDGS LTD', 'symbol': 'RMI.XJSE', 'has_intraday': False, 'has_eod': True}, {'name': 'FORTRESS REIT LTD A', 'symbol': 'FFA.XJSE', 'has_intraday': False, 'has_eod': True}, {'name': 'WOOLWORTHS HOLDINGS LTD', 'symbol': 'WHL.XJSE', 'has_intraday': False, 'has_eod': True}, {'name': 'CAPITAL&COUNTIES PROP PLC', 'symbol': 'CCO.XJSE', 'has_intraday': False, 'has_eod': True}, {'name': 'LIFE HEALTHC GRP HLDGS LTD', 'symbol': 'LHC.XJSE', 'has_intraday': False, 'has_eod': True}, {'name': 'HAMMERSON PLC', 'symbol': 'HMN.XJSE', 'has_intraday': False, 'has_eod': True}, {'name': 'THE SPAR GROUP LTD', 'symbol': 'SPP.XJSE', 'has_intraday': False, 'has_eod': True}, {'name': 'HARMONY GM CO LTD', 'symbol': 'HAR.XJSE', 'has_intraday': False, 'has_eod': True}, {'name': 'REDEFINE PROPERTIES LTD', 'symbol': 'RDF.XJSE', 'has_intraday': False, 'has_eod': True}, {'name': 'THE FOSCHINI GROUP LIMITED', 'symbol': 'TFG.XJSE', 'has_intraday': False, 'has_eod': True}, {'name': 'EXXARO RESOURCES LTD', 'symbol': 'EXX.XJSE', 'has_intraday': False, 'has_eod': True}, {'name': 'SANTAM LIMITED', 'symbol': 'SNT.XJSE', 'has_intraday': False, 'has_eod': True}, {'name': 'AFRICAN RAINBOW MIN LTD', 'symbol': 'ARI.XJSE', 'has_intraday': False, 'has_eod': True}, {'name': 'PICK N PAY STORES LTD', 'symbol': 'PIK.XJSE', 'has_intraday': False, 'has_eod': True}, {'name': 'MOMENTUM MET HLDGS LTD', 'symbol': 'MTM.XJSE', 'has_intraday': False, 'has_eod': True}, {'name': 'LIBERTY HOLDINGS LTD', 'symbol': 'LBH.XJSE', 'has_intraday': False, 'has_eod': True}, {'name': 'VIVO ENERGY PLC', 'symbol': 'VVO.XJSE', 'has_intraday': False, 'has_eod': True}, {'name': 'TIGER BRANDS LTD', 'symbol': 'TBS.XJSE', 'has_intraday': False, 'has_eod': True}, {'name': 'NETCARE LIMITED', 'symbol': 'NTC.XJSE', 'has_intraday': False, 'has_eod': True}, {'name': 'AVI LTD', 'symbol': 'AVI.XJSE', 'has_intraday': False, 'has_eod': True}, {'name': 'DISTELL GROUP HLDGS LTD', 'symbol': 'DGH.XJSE', 'has_intraday': False, 'has_eod': True}, {'name': 'PIONEER FOODS GROUP LTD', 'symbol': 'PFG.XJSE', 'has_intraday': False, 'has_eod': True}, {'name': 'RESILIENT REIT LIMITED', 'symbol': 'RES.XJSE', 'has_intraday': False, 'has_eod': True}, {'name': 'TRUWORTHS INT LTD', 'symbol': 'TRU.XJSE', 'has_intraday': False, 'has_eod': True}, {'name': 'DIS-CHEM PHARMACIES LTD', 'symbol': 'DCP.XJSE', 'has_intraday': False, 'has_eod': True}, {'name': 'ASSORE LTD', 'symbol': 'ASR.XJSE', 'has_intraday': False, 'has_eod': True}, {'name': 'GLOBE TRADE CENTRE S.A.', 'symbol': 'GTC.XJSE', 'has_intraday': False, 'has_eod': True}, {'name': 'BARLOWORLD LTD', 'symbol': 'BAW.XJSE', 'has_intraday': False, 'has_eod': True}, {'name': 'SIRIUS REAL ESTATE LTD', 'symbol': 'SRE.XJSE', 'has_intraday': False, 'has_eod': True}, {'name': 'SAPPI LTD', 'symbol': 'SAP.XJSE', 'has_intraday': False, 'has_eod': True}, {'name': 'ITALTILE LTD', 'symbol': 'ITE.XJSE', 'has_intraday': False, 'has_eod': True}, {'name': 'EPP N.V.', 'symbol': 'EPP.XJSE', 'has_intraday': False, 'has_eod': True}, {'name': 'VUKILE PROPERTY FUND LTD', 'symbol': 'VKE.XJSE', 'has_intraday': False, 'has_eod': True}, {'name': 'MOTUS HOLDINGS LTD', 'symbol': 'MTH.XJSE', 'has_intraday': False, 'has_eod': True}, {'name': 'CORONATION FUND MNGRS LD', 'symbol': 'CML.XJSE', 'has_intraday': False, 'has_eod': True}, {'name': 'TELKOM SA SOC LTD', 'symbol': 'TKG.XJSE', 'has_intraday': False, 'has_eod': True}, {'name': 'ROYAL BAFOKENG PLATINUM LTD', 'symbol': 'RBP.XJSE', 'has_intraday': False, 'has_eod': True}, {'name': 'MAS REAL ESTATE INC.', 'symbol': 'MSP.XJSE', 'has_intraday': False, 'has_eod': True}, {'name': 'HYPROP INV LTD', 'symbol': 'HYP.XJSE', 'has_intraday': False, 'has_eod': True}, {'name': 'TRANSACTION CAPITAL LTD', 'symbol': 'TCP.XJSE', 'has_intraday': False, 'has_eod': True}, {'name': 'FORTRESS REIT LTD B', 'symbol': 'FFB.XJSE', 'has_intraday': False, 'has_eod': True}, {'name': 'ARROWHEAD PROP LTD A', 'symbol': 'AHA.XJSE', 'has_intraday': False, 'has_eod': True}, {'name': 'PSG KONSULT LIMITED', 'symbol': 'KST.XJSE', 'has_intraday': False, 'has_eod': True}, {'name': 'AECI LIMITED', 'symbol': 'AFE.XJSE', 'has_intraday': False, 'has_eod': True}, {'name': 'RCL FOODS LIMITED', 'symbol': 'RCL.XJSE', 'has_intraday': False, 'has_eod': True}, {'name': 'MASSMART HOLDINGS LTD', 'symbol': 'MSM.XJSE', 'has_intraday': False, 'has_eod': True}, {'name': 'EQUITES PROP FUND LTD', 'symbol': 'EQU.XJSE', 'has_intraday': False, 'has_eod': True}, {'name': 'INVESTEC PROPERTY FUND LTD', 'symbol': 'IPF.XJSE', 'has_intraday': False, 'has_eod': True}, {'name': 'REUNERT LTD', 'symbol': 'RLO.XJSE', 'has_intraday': False, 'has_eod': True}, {'name': 'TSOGO SUN GAMING LTD', 'symbol': 'TSG.XJSE', 'has_intraday': False, 'has_eod': True}, {'name': 'IMPERIAL LOGISTICS LTD', 'symbol': 'IPL.XJSE', 'has_intraday': False, 'has_eod': True}, {'name': 'JSE LTD', 'symbol': 'JSE.XJSE', 'has_intraday': False, 'has_eod': True}, {'name': 'DRD GOLD LTD', 'symbol': 'DRD.XJSE', 'has_intraday': False, 'has_eod': True}]}}\n",
            "<class 'dict'>\n"
          ]
        }
      ]
    },
    {
      "cell_type": "code",
      "source": [
        "print(json_object.keys())"
      ],
      "metadata": {
        "id": "bBKNnel-XtZ4",
        "outputId": "2a91ff27-e36d-4d45-ce36-890be0852a1e",
        "colab": {
          "base_uri": "https://localhost:8080/"
        }
      },
      "execution_count": null,
      "outputs": [
        {
          "output_type": "stream",
          "name": "stdout",
          "text": [
            "dict_keys(['pagination', 'data'])\n"
          ]
        }
      ]
    },
    {
      "cell_type": "code",
      "source": [
        "print(json_object[\"data\"].keys())"
      ],
      "metadata": {
        "id": "2cbVBR5wX33m",
        "outputId": "12923fbf-c7c3-4f1e-d119-57cb6d490e23",
        "colab": {
          "base_uri": "https://localhost:8080/"
        }
      },
      "execution_count": null,
      "outputs": [
        {
          "output_type": "stream",
          "name": "stdout",
          "text": [
            "dict_keys(['name', 'acronym', 'mic', 'country', 'city', 'website', 'tickers'])\n"
          ]
        }
      ]
    },
    {
      "cell_type": "code",
      "source": [
        "data = pd.json_normalize(json_object[\"data\"][\"tickers\"])\n",
        "\n",
        "print(data)"
      ],
      "metadata": {
        "id": "rNyidwq-Yc8W",
        "outputId": "0dd8187e-8d4f-4f2a-d1de-312aac58a846",
        "colab": {
          "base_uri": "https://localhost:8080/"
        }
      },
      "execution_count": 61,
      "outputs": [
        {
          "output_type": "stream",
          "name": "stdout",
          "text": [
            "                          name    symbol  has_intraday  has_eod\n",
            "0                  PROSUS N.V.  PRX.XJSE         False     True\n",
            "1   ANHEUSER-BUSCH INBEV SA NV  ANH.XJSE         False     True\n",
            "2                BHP GROUP PLC  BHP.XJSE         False     True\n",
            "3     BRITISH AMERICAN TOB PLC  BTI.XJSE         False     True\n",
            "4              NASPERS LTD -N-  NPN.XJSE         False     True\n",
            "..                         ...       ...           ...      ...\n",
            "95                 REUNERT LTD  RLO.XJSE         False     True\n",
            "96        TSOGO SUN GAMING LTD  TSG.XJSE         False     True\n",
            "97      IMPERIAL LOGISTICS LTD  IPL.XJSE         False     True\n",
            "98                     JSE LTD  JSE.XJSE         False     True\n",
            "99                DRD GOLD LTD  DRD.XJSE         False     True\n",
            "\n",
            "[100 rows x 4 columns]\n"
          ]
        }
      ]
    },
    {
      "cell_type": "code",
      "source": [
        "'''\n",
        "# use the pandas module\n",
        "with open('sample.json') as json_file:\n",
        "    jse = pd.read_json(json_file, orient='index')\n",
        "\n",
        "print(jse)\n",
        "'''"
      ],
      "metadata": {
        "id": "oLjOn3eUPgPm"
      },
      "execution_count": null,
      "outputs": []
    },
    {
      "cell_type": "code",
      "source": [
        "# dropping null value columns to avoid errors\n",
        "data.dropna(inplace = True)\n",
        " \n",
        "# new data frame with split value columns\n",
        "new = data[\"symbol\"].str.split(\".\", n = 1, expand = True)\n",
        " \n",
        "# making separate first name column from new data frame\n",
        "data[\"ticker\"]= new[0]\n",
        " \n",
        "# Dropping old Name columns\n",
        "data.drop(columns =[\"has_intraday\",\"has_eod\",\"symbol\"], inplace = True)\n",
        " \n",
        "# df display\n",
        "data"
      ],
      "metadata": {
        "id": "1DYWq9diWPT5",
        "outputId": "f5d7ad99-76e2-4850-b45f-f8db1e2c3dc8",
        "colab": {
          "base_uri": "https://localhost:8080/",
          "height": 424
        }
      },
      "execution_count": 62,
      "outputs": [
        {
          "output_type": "execute_result",
          "data": {
            "text/plain": [
              "                          name ticker\n",
              "0                  PROSUS N.V.    PRX\n",
              "1   ANHEUSER-BUSCH INBEV SA NV    ANH\n",
              "2                BHP GROUP PLC    BHP\n",
              "3     BRITISH AMERICAN TOB PLC    BTI\n",
              "4              NASPERS LTD -N-    NPN\n",
              "..                         ...    ...\n",
              "95                 REUNERT LTD    RLO\n",
              "96        TSOGO SUN GAMING LTD    TSG\n",
              "97      IMPERIAL LOGISTICS LTD    IPL\n",
              "98                     JSE LTD    JSE\n",
              "99                DRD GOLD LTD    DRD\n",
              "\n",
              "[100 rows x 2 columns]"
            ],
            "text/html": [
              "\n",
              "  <div id=\"df-bf17097f-9a8b-4ba2-95a4-9ab4aa0659ec\">\n",
              "    <div class=\"colab-df-container\">\n",
              "      <div>\n",
              "<style scoped>\n",
              "    .dataframe tbody tr th:only-of-type {\n",
              "        vertical-align: middle;\n",
              "    }\n",
              "\n",
              "    .dataframe tbody tr th {\n",
              "        vertical-align: top;\n",
              "    }\n",
              "\n",
              "    .dataframe thead th {\n",
              "        text-align: right;\n",
              "    }\n",
              "</style>\n",
              "<table border=\"1\" class=\"dataframe\">\n",
              "  <thead>\n",
              "    <tr style=\"text-align: right;\">\n",
              "      <th></th>\n",
              "      <th>name</th>\n",
              "      <th>ticker</th>\n",
              "    </tr>\n",
              "  </thead>\n",
              "  <tbody>\n",
              "    <tr>\n",
              "      <th>0</th>\n",
              "      <td>PROSUS N.V.</td>\n",
              "      <td>PRX</td>\n",
              "    </tr>\n",
              "    <tr>\n",
              "      <th>1</th>\n",
              "      <td>ANHEUSER-BUSCH INBEV SA NV</td>\n",
              "      <td>ANH</td>\n",
              "    </tr>\n",
              "    <tr>\n",
              "      <th>2</th>\n",
              "      <td>BHP GROUP PLC</td>\n",
              "      <td>BHP</td>\n",
              "    </tr>\n",
              "    <tr>\n",
              "      <th>3</th>\n",
              "      <td>BRITISH AMERICAN TOB PLC</td>\n",
              "      <td>BTI</td>\n",
              "    </tr>\n",
              "    <tr>\n",
              "      <th>4</th>\n",
              "      <td>NASPERS LTD -N-</td>\n",
              "      <td>NPN</td>\n",
              "    </tr>\n",
              "    <tr>\n",
              "      <th>...</th>\n",
              "      <td>...</td>\n",
              "      <td>...</td>\n",
              "    </tr>\n",
              "    <tr>\n",
              "      <th>95</th>\n",
              "      <td>REUNERT LTD</td>\n",
              "      <td>RLO</td>\n",
              "    </tr>\n",
              "    <tr>\n",
              "      <th>96</th>\n",
              "      <td>TSOGO SUN GAMING LTD</td>\n",
              "      <td>TSG</td>\n",
              "    </tr>\n",
              "    <tr>\n",
              "      <th>97</th>\n",
              "      <td>IMPERIAL LOGISTICS LTD</td>\n",
              "      <td>IPL</td>\n",
              "    </tr>\n",
              "    <tr>\n",
              "      <th>98</th>\n",
              "      <td>JSE LTD</td>\n",
              "      <td>JSE</td>\n",
              "    </tr>\n",
              "    <tr>\n",
              "      <th>99</th>\n",
              "      <td>DRD GOLD LTD</td>\n",
              "      <td>DRD</td>\n",
              "    </tr>\n",
              "  </tbody>\n",
              "</table>\n",
              "<p>100 rows × 2 columns</p>\n",
              "</div>\n",
              "      <button class=\"colab-df-convert\" onclick=\"convertToInteractive('df-bf17097f-9a8b-4ba2-95a4-9ab4aa0659ec')\"\n",
              "              title=\"Convert this dataframe to an interactive table.\"\n",
              "              style=\"display:none;\">\n",
              "        \n",
              "  <svg xmlns=\"http://www.w3.org/2000/svg\" height=\"24px\"viewBox=\"0 0 24 24\"\n",
              "       width=\"24px\">\n",
              "    <path d=\"M0 0h24v24H0V0z\" fill=\"none\"/>\n",
              "    <path d=\"M18.56 5.44l.94 2.06.94-2.06 2.06-.94-2.06-.94-.94-2.06-.94 2.06-2.06.94zm-11 1L8.5 8.5l.94-2.06 2.06-.94-2.06-.94L8.5 2.5l-.94 2.06-2.06.94zm10 10l.94 2.06.94-2.06 2.06-.94-2.06-.94-.94-2.06-.94 2.06-2.06.94z\"/><path d=\"M17.41 7.96l-1.37-1.37c-.4-.4-.92-.59-1.43-.59-.52 0-1.04.2-1.43.59L10.3 9.45l-7.72 7.72c-.78.78-.78 2.05 0 2.83L4 21.41c.39.39.9.59 1.41.59.51 0 1.02-.2 1.41-.59l7.78-7.78 2.81-2.81c.8-.78.8-2.07 0-2.86zM5.41 20L4 18.59l7.72-7.72 1.47 1.35L5.41 20z\"/>\n",
              "  </svg>\n",
              "      </button>\n",
              "      \n",
              "  <style>\n",
              "    .colab-df-container {\n",
              "      display:flex;\n",
              "      flex-wrap:wrap;\n",
              "      gap: 12px;\n",
              "    }\n",
              "\n",
              "    .colab-df-convert {\n",
              "      background-color: #E8F0FE;\n",
              "      border: none;\n",
              "      border-radius: 50%;\n",
              "      cursor: pointer;\n",
              "      display: none;\n",
              "      fill: #1967D2;\n",
              "      height: 32px;\n",
              "      padding: 0 0 0 0;\n",
              "      width: 32px;\n",
              "    }\n",
              "\n",
              "    .colab-df-convert:hover {\n",
              "      background-color: #E2EBFA;\n",
              "      box-shadow: 0px 1px 2px rgba(60, 64, 67, 0.3), 0px 1px 3px 1px rgba(60, 64, 67, 0.15);\n",
              "      fill: #174EA6;\n",
              "    }\n",
              "\n",
              "    [theme=dark] .colab-df-convert {\n",
              "      background-color: #3B4455;\n",
              "      fill: #D2E3FC;\n",
              "    }\n",
              "\n",
              "    [theme=dark] .colab-df-convert:hover {\n",
              "      background-color: #434B5C;\n",
              "      box-shadow: 0px 1px 3px 1px rgba(0, 0, 0, 0.15);\n",
              "      filter: drop-shadow(0px 1px 2px rgba(0, 0, 0, 0.3));\n",
              "      fill: #FFFFFF;\n",
              "    }\n",
              "  </style>\n",
              "\n",
              "      <script>\n",
              "        const buttonEl =\n",
              "          document.querySelector('#df-bf17097f-9a8b-4ba2-95a4-9ab4aa0659ec button.colab-df-convert');\n",
              "        buttonEl.style.display =\n",
              "          google.colab.kernel.accessAllowed ? 'block' : 'none';\n",
              "\n",
              "        async function convertToInteractive(key) {\n",
              "          const element = document.querySelector('#df-bf17097f-9a8b-4ba2-95a4-9ab4aa0659ec');\n",
              "          const dataTable =\n",
              "            await google.colab.kernel.invokeFunction('convertToInteractive',\n",
              "                                                     [key], {});\n",
              "          if (!dataTable) return;\n",
              "\n",
              "          const docLinkHtml = 'Like what you see? Visit the ' +\n",
              "            '<a target=\"_blank\" href=https://colab.research.google.com/notebooks/data_table.ipynb>data table notebook</a>'\n",
              "            + ' to learn more about interactive tables.';\n",
              "          element.innerHTML = '';\n",
              "          dataTable['output_type'] = 'display_data';\n",
              "          await google.colab.output.renderOutput(dataTable, element);\n",
              "          const docLink = document.createElement('div');\n",
              "          docLink.innerHTML = docLinkHtml;\n",
              "          element.appendChild(docLink);\n",
              "        }\n",
              "      </script>\n",
              "    </div>\n",
              "  </div>\n",
              "  "
            ]
          },
          "metadata": {},
          "execution_count": 62
        }
      ]
    },
    {
      "cell_type": "code",
      "source": [
        "# Converting a specific Dataframe \n",
        "# column to list using Series.tolist()\n",
        "Stocks = data[\"ticker\"].tolist()\n",
        "  \n",
        "print(\"Converting ticker to list:\")\n",
        "  \n",
        "# displaying list\n",
        "Stocks"
      ],
      "metadata": {
        "colab": {
          "base_uri": "https://localhost:8080/"
        },
        "id": "ZSFUKzY9qsjk",
        "outputId": "37a4bb64-af6d-443c-c8bf-f68a80f8ee5a"
      },
      "execution_count": 63,
      "outputs": [
        {
          "output_type": "stream",
          "name": "stdout",
          "text": [
            "Converting ticker to list:\n"
          ]
        },
        {
          "output_type": "execute_result",
          "data": {
            "text/plain": [
              "['PRX',\n",
              " 'ANH',\n",
              " 'BHP',\n",
              " 'BTI',\n",
              " 'NPN',\n",
              " 'CFR',\n",
              " 'GLN',\n",
              " 'AGL',\n",
              " 'FSR',\n",
              " 'AMS',\n",
              " 'SBK',\n",
              " 'VOD',\n",
              " 'MNP',\n",
              " 'CPI',\n",
              " 'SOLBE1',\n",
              " 'SLM',\n",
              " 'MTN',\n",
              " 'ANG',\n",
              " 'SOL',\n",
              " 'ABG',\n",
              " 'S32',\n",
              " 'RMH',\n",
              " 'IMP',\n",
              " 'BID',\n",
              " 'REM',\n",
              " 'KIO',\n",
              " 'NED',\n",
              " 'SSW',\n",
              " 'GFI',\n",
              " 'INL',\n",
              " 'INP',\n",
              " 'OMU',\n",
              " 'NRP',\n",
              " 'DSY',\n",
              " 'SHP',\n",
              " 'BVT',\n",
              " 'RNI',\n",
              " 'CLS',\n",
              " 'PPH',\n",
              " 'QLT',\n",
              " 'GRT',\n",
              " 'MEI',\n",
              " 'APN',\n",
              " 'PSG',\n",
              " 'MCG',\n",
              " 'MRP',\n",
              " 'NHM',\n",
              " 'RMI',\n",
              " 'FFA',\n",
              " 'WHL',\n",
              " 'CCO',\n",
              " 'LHC',\n",
              " 'HMN',\n",
              " 'SPP',\n",
              " 'HAR',\n",
              " 'RDF',\n",
              " 'TFG',\n",
              " 'EXX',\n",
              " 'SNT',\n",
              " 'ARI',\n",
              " 'PIK',\n",
              " 'MTM',\n",
              " 'LBH',\n",
              " 'VVO',\n",
              " 'TBS',\n",
              " 'NTC',\n",
              " 'AVI',\n",
              " 'DGH',\n",
              " 'PFG',\n",
              " 'RES',\n",
              " 'TRU',\n",
              " 'DCP',\n",
              " 'ASR',\n",
              " 'GTC',\n",
              " 'BAW',\n",
              " 'SRE',\n",
              " 'SAP',\n",
              " 'ITE',\n",
              " 'EPP',\n",
              " 'VKE',\n",
              " 'MTH',\n",
              " 'CML',\n",
              " 'TKG',\n",
              " 'RBP',\n",
              " 'MSP',\n",
              " 'HYP',\n",
              " 'TCP',\n",
              " 'FFB',\n",
              " 'AHA',\n",
              " 'KST',\n",
              " 'AFE',\n",
              " 'RCL',\n",
              " 'MSM',\n",
              " 'EQU',\n",
              " 'IPF',\n",
              " 'RLO',\n",
              " 'TSG',\n",
              " 'IPL',\n",
              " 'JSE',\n",
              " 'DRD']"
            ]
          },
          "metadata": {},
          "execution_count": 63
        }
      ]
    },
    {
      "cell_type": "code",
      "source": [
        "from urllib.request import urlopen\n",
        "import json\n",
        "html = urlopen('https://api.stockdio.com/data/financial/prices/v1/GetHistoricalPrices?app-key=55E6EB9A851947438E97EB72DE3F02B3&stockExchange=JSE&symbol=NPN&from=2020-08-24&to=2022-08-25&useAdjusted=false').read()\n",
        "print(html)\n"
      ],
      "metadata": {
        "id": "diSuIjIQs20m",
        "outputId": "f4fe72bb-1c4a-4a7e-9eba-cb1257579ec0",
        "colab": {
          "base_uri": "https://localhost:8080/"
        }
      },
      "execution_count": 82,
      "outputs": [
        {
          "output_type": "stream",
          "name": "stdout",
          "text": [
            "b'{\"status\":{\"code\":0,\"message\":\"\"},\"data\":{\"symbol\":\"NPN\",\"company\":\"Naspers Ltd.\",\"exchange\":\"SOUTH_AFRICA\",\"prices\":{\"columns\":[\"date\",\"open\",\"high\",\"low\",\"close\",\"volume\"],\"values\":[[\"2020-08-24T15:00:00Z\",3109.01,3118.68,3068.84,3068.84,847311],[\"2020-08-25T15:00:00Z\",3056.0,3119.6,3055.11,3113.54,1008031],[\"2020-08-26T15:00:00Z\",3108.0,3195.23,3098.47,3181.62,1019443],[\"2020-08-27T15:00:00Z\",3199.32,3266.35,3181.62,3235.96,1418644],[\"2020-08-28T15:00:00Z\",3189.0,3220.82,3118.39,3139.72,985615],[\"2020-08-31T15:00:00Z\",3135.73,3167.98,3075.61,3092.75,2796738],[\"2020-09-01T15:00:00Z\",3169.97,3180.3,3143.79,3156.41,1280199],[\"2020-09-02T15:00:00Z\",3206.2,3215.0,3153.57,3174.64,845980],[\"2020-09-03T15:00:00Z\",3122.0,3144.99,3028.92,3050.0,1281140],[\"2020-09-04T15:00:00Z\",3000.0,3017.03,2913.29,2933.42,1170324],[\"2020-09-07T15:00:00Z\",2905.0,2950.0,2882.1,2899.82,707389],[\"2020-09-08T15:00:00Z\",2888.0,2905.01,2821.17,2854.0,1464035],[\"2020-09-09T15:00:00Z\",2845.23,2890.54,2845.23,2882.49,1222946],[\"2020-09-10T15:00:00Z\",2902.45,2972.76,2891.76,2940.02,1117159],[\"2020-09-11T15:00:00Z\",2954.92,2992.76,2946.9,2949.85,958371],[\"2020-09-14T15:00:00Z\",3020.0,3034.74,2944.45,2958.0,1288600],[\"2020-09-15T15:00:00Z\",2970.0,2999.0,2932.14,2967.11,858069],[\"2020-09-16T15:00:00Z\",2983.05,2992.23,2934.0,2955.0,991837],[\"2020-09-17T15:00:00Z\",2900.0,2908.59,2862.39,2908.59,1861418],[\"2020-09-18T15:00:00Z\",2900.0,2952.23,2882.04,2895.0,2264107],[\"2020-09-21T15:00:00Z\",2879.0,2895.6,2799.68,2827.88,1073759],[\"2020-09-22T15:00:00Z\",2871.99,2932.82,2855.33,2896.5,1023256],[\"2020-09-23T15:00:00Z\",2889.99,3074.0,2886.48,3044.82,1473891],[\"2020-09-25T15:00:00Z\",3016.98,3030.0,2910.9,2979.0,1165135],[\"2020-09-28T15:00:00Z\",2980.03,3000.0,2961.0,2995.97,640966],[\"2020-09-29T15:00:00Z\",3000.6,3001.44,2952.25,2960.47,1186987],[\"2020-09-30T15:00:00Z\",2966.19,3021.86,2919.38,2960.0,1798924],[\"2020-10-01T15:00:00Z\",2989.66,3014.54,2956.89,3011.54,566628],[\"2020-10-02T15:00:00Z\",2989.0,3024.68,2976.62,3000.0,895399],[\"2020-10-05T15:00:00Z\",3018.83,3025.49,2951.22,2994.51,1072674],[\"2020-10-06T15:00:00Z\",3025.49,3030.13,2980.28,3018.5,662177],[\"2020-10-07T15:00:00Z\",3027.0,3067.93,3007.49,3065.9,935061],[\"2020-10-08T15:00:00Z\",3057.0,3066.59,2972.8,2987.43,1192318],[\"2020-10-09T15:00:00Z\",3004.0,3059.98,2972.76,3055.22,1550981],[\"2020-10-12T15:00:00Z\",3108.39,3109.51,3058.0,3085.06,1222562],[\"2020-10-13T15:00:00Z\",3080.0,3141.96,3065.34,3122.25,910640],[\"2020-10-14T15:00:00Z\",3166.1,3181.76,3127.26,3142.97,730121],[\"2020-10-15T15:00:00Z\",3042.15,3114.61,3026.05,3094.75,1213442],[\"2020-10-16T15:00:00Z\",3115.0,3147.68,3091.73,3135.82,759411],[\"2020-10-19T15:00:00Z\",3150.0,3159.48,3100.41,3109.99,736492],[\"2020-10-20T15:00:00Z\",3099.68,3139.88,3099.0,3125.0,554365],[\"2020-10-21T15:00:00Z\",3125.05,3135.32,3077.77,3078.78,787134],[\"2020-10-22T15:00:00Z\",3078.77,3079.46,3031.34,3038.0,670281],[\"2020-10-23T15:00:00Z\",3052.17,3064.49,2981.46,3012.93,1180384],[\"2020-10-26T15:00:00Z\",3000.0,3026.83,2982.89,3018.0,686572],[\"2020-10-27T15:00:00Z\",3105.15,3116.76,3053.81,3065.95,874303],[\"2020-10-28T15:00:00Z\",3127.0,3139.0,3023.54,3038.34,1030145],[\"2020-10-29T15:00:00Z\",3095.0,3131.72,3011.59,3040.46,1250209],[\"2020-10-30T15:00:00Z\",3120.0,3197.37,3040.46,3161.32,3002586],[\"2020-11-02T15:00:00Z\",3255.84,3255.84,3130.0,3197.25,1259245],[\"2020-11-03T15:00:00Z\",3197.25,3197.24,3032.26,3064.32,1680407],[\"2020-11-04T15:00:00Z\",3085.0,3207.28,3087.36,3168.77,1287801],[\"2020-11-05T15:00:00Z\",3325.0,3375.0,3200.0,3365.96,1723576],[\"2020-11-06T15:00:00Z\",3315.72,3460.36,3288.52,3443.08,1570550],[\"2020-11-09T15:00:00Z\",3490.01,3499.45,3340.02,3367.08,1669347],[\"2020-11-10T15:00:00Z\",3240.43,3303.88,3155.75,3175.0,1984780],[\"2020-11-11T15:00:00Z\",3090.0,3100.0,2963.14,3024.55,2148853],[\"2020-11-12T15:00:00Z\",3100.0,3190.0,3085.01,3146.34,1766423],[\"2020-11-13T15:00:00Z\",3161.0,3215.57,3152.51,3178.0,794448],[\"2020-11-16T15:00:00Z\",3184.0,3189.19,3115.15,3141.52,1129234],[\"2020-11-17T15:00:00Z\",3100.0,3114.62,3063.37,3078.04,1052901],[\"2020-11-18T15:00:00Z\",3062.51,3140.0,3052.3,3096.69,1212324],[\"2020-11-19T15:00:00Z\",3078.0,3096.87,3033.4,3041.25,1112134],[\"2020-11-20T15:00:00Z\",3106.21,3150.36,3083.1,3121.36,1186517],[\"2020-11-23T15:00:00Z\",3135.0,3235.17,3117.46,3196.2,1151757],[\"2020-11-24T15:00:00Z\",3200.25,3401.82,3164.31,3181.0,1273912],[\"2020-11-25T15:00:00Z\",3160.0,3189.31,3149.6,3157.4,1359163],[\"2020-11-26T15:00:00Z\",3195.0,3206.68,3150.0,3184.01,631891],[\"2020-11-27T15:00:00Z\",3190.0,3213.12,3145.47,3164.11,807821],[\"2020-11-30T15:00:00Z\",3149.99,3153.4,3098.02,3128.95,2582770],[\"2020-12-01T15:00:00Z\",3157.72,3194.26,3123.11,3160.99,1241400],[\"2020-12-02T15:00:00Z\",3165.0,3178.47,3140.9,3149.28,1216266],[\"2020-12-03T15:00:00Z\",3181.0,3249.62,3178.06,3201.0,1246712],[\"2020-12-04T15:00:00Z\",3219.99,3227.86,3165.07,3187.04,868607],[\"2020-12-07T15:00:00Z\",3162.0,3206.96,3157.51,3177.0,638851],[\"2020-12-08T15:00:00Z\",3177.0,3190.05,3128.14,3135.57,922722],[\"2020-12-09T15:00:00Z\",3135.0,3168.87,3130.08,3141.63,739561],[\"2020-12-10T15:00:00Z\",3124.57,3149.47,3074.27,3111.83,1201647],[\"2020-12-11T15:00:00Z\",3129.77,3185.69,3114.5,3176.82,1152836],[\"2020-12-14T15:00:00Z\",3139.95,3138.33,3080.06,3091.39,727527],[\"2020-12-15T15:00:00Z\",3076.0,3087.52,3039.56,3058.06,1118454],[\"2020-12-17T15:00:00Z\",3096.16,3157.07,3077.05,3157.07,3127575],[\"2020-12-18T15:00:00Z\",3116.0,3134.43,3007.08,3008.78,2258946],[\"2020-12-21T15:00:00Z\",3049.0,3088.36,3006.0,3074.33,960857],[\"2020-12-22T15:00:00Z\",3095.0,3089.99,3011.28,3040.0,651651],[\"2020-12-23T15:00:00Z\",3022.01,3066.21,3012.0,3047.24,414668],[\"2020-12-24T15:00:00Z\",3006.0,3006.01,2969.12,2991.72,271596],[\"2020-12-28T15:00:00Z\",2900.0,2930.0,2812.19,2878.72,1001503],[\"2020-12-29T15:00:00Z\",2929.99,2954.63,2878.0,2930.0,847829],[\"2020-12-30T15:00:00Z\",3022.0,3060.06,3004.01,3005.14,543832],[\"2020-12-31T15:00:00Z\",3013.67,3029.96,2964.64,3019.35,275081],[\"2021-01-04T15:00:00Z\",3057.0,3078.7,3013.45,3036.95,483036],[\"2021-01-05T15:00:00Z\",3049.9,3131.63,3042.04,3116.67,626086],[\"2021-01-06T15:00:00Z\",3152.0,3173.92,3091.85,3101.0,580931],[\"2021-01-07T15:00:00Z\",3030.0,3067.21,3007.96,3013.75,1209392],[\"2021-01-08T15:00:00Z\",3070.0,3127.21,3046.44,3070.27,1258714],[\"2021-01-11T15:00:00Z\",3124.0,3223.87,3110.01,3202.58,1232913],[\"2021-01-12T15:00:00Z\",3225.0,3229.53,3185.13,3194.41,1358507],[\"2021-01-13T15:00:00Z\",3220.0,3255.85,3189.12,3198.78,1256331],[\"2021-01-14T15:00:00Z\",3270.0,3360.99,3251.01,3332.67,1474194],[\"2021-01-15T15:00:00Z\",3395.0,3400.1,3364.92,3364.92,1344127],[\"2021-01-18T15:00:00Z\",3410.01,3447.47,3388.97,3408.6,821729],[\"2021-01-19T15:00:00Z\",3329.02,3521.75,3329.02,3450.0,1525149],[\"2021-01-20T15:00:00Z\",3510.0,3568.0,3484.53,3500.0,1620743],[\"2021-01-21T15:00:00Z\",3500.01,3534.47,3487.4,3500.0,1523422],[\"2021-01-22T15:00:00Z\",3540.0,3610.0,3539.99,3564.0,1334638],[\"2021-01-25T15:00:00Z\",3814.0,3888.0,3781.1,3787.68,2321889],[\"2021-01-26T15:00:00Z\",3665.0,3691.84,3594.46,3600.0,1498483],[\"2021-01-27T15:00:00Z\",3588.79,3620.15,3524.97,3535.0,1398239],[\"2021-01-28T15:00:00Z\",3470.0,3522.7,3473.0,3512.0,938129],[\"2021-01-29T15:00:00Z\",3549.5,3584.96,3465.42,3478.0,1929888],[\"2021-02-01T15:00:00Z\",3610.05,3635.26,3532.5,3532.5,1195966],[\"2021-02-02T15:00:00Z\",3623.0,3620.02,3549.49,3565.0,927106],[\"2021-02-03T15:00:00Z\",3590.0,3631.49,3571.79,3592.0,1046819],[\"2021-02-04T15:00:00Z\",3611.16,3626.75,3562.83,3596.83,964153],[\"2021-02-05T15:00:00Z\",3629.0,3628.99,3540.78,3568.35,921654],[\"2021-02-08T15:00:00Z\",3583.0,3628.82,3590.0,3590.0,735302],[\"2021-02-09T15:00:00Z\",3580.02,3618.3,3565.0,3591.98,1142617],[\"2021-02-10T15:00:00Z\",3650.0,3670.42,3634.63,3662.31,1086735],[\"2021-02-11T15:00:00Z\",3669.95,3715.09,3633.62,3709.84,981673],[\"2021-02-12T15:00:00Z\",3680.02,3726.01,3677.01,3711.0,668688],[\"2021-02-15T15:00:00Z\",3745.27,3785.0,3691.58,3735.56,725257],[\"2021-02-16T15:00:00Z\",3710.0,3729.51,3664.57,3699.24,758785],[\"2021-02-17T15:00:00Z\",3736.0,3844.25,3724.29,3811.96,1428034],[\"2021-02-18T15:00:00Z\",3781.0,3815.43,3764.8,3780.75,1192652],[\"2021-02-19T15:00:00Z\",3751.0,3835.39,3750.51,3834.86,1063440],[\"2021-02-22T15:00:00Z\",3750.0,3798.03,3700.08,3741.5,943313],[\"2021-02-23T15:00:00Z\",3720.0,3734.89,3592.09,3595.19,1015753],[\"2021-02-24T15:00:00Z\",3580.0,3648.67,3565.33,3565.33,1399315],[\"2021-02-25T15:00:00Z\",3622.99,3623.06,3527.3,3561.88,1049033],[\"2021-02-26T15:00:00Z\",3450.0,3545.34,3450.01,3517.98,1790595],[\"2021-03-01T15:00:00Z\",3624.0,3677.68,3616.18,3648.99,1184849],[\"2021-03-02T15:00:00Z\",3652.05,3728.12,3650.0,3714.03,1341673],[\"2021-03-03T15:00:00Z\",3752.12,3790.21,3748.66,3756.45,954642],[\"2021-03-04T15:00:00Z\",3660.0,3686.28,3609.69,3609.69,1195536],[\"2021-03-05T15:00:00Z\",3645.0,3673.4,3590.87,3595.63,765831],[\"2021-03-08T15:00:00Z\",3519.52,3527.55,3487.8,3503.0,1387211],[\"2021-03-09T15:00:00Z\",3455.0,3576.5,3432.6,3558.86,1030219],[\"2021-03-10T15:00:00Z\",3575.0,3577.54,3519.85,3560.0,890490],[\"2021-03-11T15:00:00Z\",3598.88,3663.23,3578.09,3632.5,1459879],[\"2021-03-12T15:00:00Z\",3598.0,3608.35,3413.66,3449.93,2397611],[\"2021-03-15T15:00:00Z\",3387.0,3426.48,3362.75,3399.93,1493728],[\"2021-03-16T15:00:00Z\",3433.59,3447.27,3393.17,3420.0,1030956],[\"2021-03-17T15:00:00Z\",3400.0,3421.0,3337.19,3383.52,1348992],[\"2021-03-18T15:00:00Z\",3460.05,3473.52,3372.66,3396.14,2466483],[\"2021-03-19T15:00:00Z\",3370.0,3453.56,3350.05,3453.56,1814570],[\"2021-03-23T15:00:00Z\",3405.0,3545.95,3405.0,3497.8,1565855],[\"2021-03-24T15:00:00Z\",3435.0,3550.0,3424.36,3471.43,1786271],[\"2021-03-25T15:00:00Z\",3410.0,3457.44,3403.43,3443.89,1532984],[\"2021-03-26T15:00:00Z\",3501.0,3540.0,3492.65,3527.0,1239010],[\"2021-03-29T15:00:00Z\",3469.36,3565.71,3470.77,3546.49,892213],[\"2021-03-30T15:00:00Z\",3545.0,3556.83,3527.29,3540.5,1104154],[\"2021-03-31T15:00:00Z\",3530.0,3562.55,3505.0,3531.71,1230483],[\"2021-04-01T15:00:00Z\",3637.3,3756.53,3630.5,3719.0,859363],[\"2021-04-06T15:00:00Z\",3707.5,3713.0,3637.24,3669.53,658023],[\"2021-04-07T15:00:00Z\",3625.0,3739.99,3470.0,3485.0,2243095],[\"2021-04-08T15:00:00Z\",3589.2,3589.52,3455.6,3503.36,1274217],[\"2021-04-09T15:00:00Z\",3477.7,3502.62,3450.68,3486.0,662735],[\"2021-04-12T15:00:00Z\",3450.0,3466.08,3411.91,3413.35,613743],[\"2021-04-13T15:00:00Z\",34.24,35.16,33.99,35.04,996259],[\"2021-04-14T15:00:00Z\",3521.0,3575.01,3480.06,3546.15,1937419],[\"2021-04-15T15:00:00Z\",3519.96,3548.54,3500.0,3543.0,958145],[\"2021-04-16T15:00:00Z\",3560.0,3579.65,3542.32,3550.0,838667],[\"2021-04-19T15:00:00Z\",3532.25,3563.34,3468.79,3477.41,605595],[\"2021-04-20T15:00:00Z\",3460.02,3492.06,3401.76,3413.97,1003401],[\"2021-04-21T15:00:00Z\",3400.0,3409.24,3341.12,3388.64,937415],[\"2021-04-22T15:00:00Z\",3400.0,3403.99,3370.1,3397.74,527169],[\"2021-04-23T15:00:00Z\",3384.15,3422.17,3367.47,3422.17,523865],[\"2021-04-26T15:00:00Z\",3423.0,3423.0,3343.43,3363.42,683067],[\"2021-04-28T15:00:00Z\",3413.75,3423.05,3371.5,3371.5,1292783],[\"2021-04-29T15:00:00Z\",3391.44,3418.99,3320.76,3326.35,927785],[\"2021-04-30T15:00:00Z\",3320.0,3369.0,3277.8,3310.41,1126495],[\"2021-05-03T15:00:00Z\",3329.5,3344.79,3278.46,3311.0,657401],[\"2021-05-04T15:00:00Z\",3297.0,3320.88,3224.02,3246.83,792834],[\"2021-05-05T15:00:00Z\",3291.63,3286.03,3233.19,3240.0,766945],[\"2021-05-06T15:00:00Z\",3225.0,3288.4,3211.88,3288.4,1131773],[\"2021-05-07T15:00:00Z\",3253.99,3360.47,3250.41,3337.65,865621],[\"2021-05-10T15:00:00Z\",3299.51,3322.92,3225.94,3233.62,1386646],[\"2021-05-11T15:00:00Z\",3233.0,3247.11,3148.68,3174.59,1197244],[\"2021-05-12T15:00:00Z\",3300.0,3348.37,3123.88,3123.88,2250137],[\"2021-05-13T15:00:00Z\",3100.0,3104.85,3008.07,3020.55,2544018],[\"2021-05-14T15:00:00Z\",3045.58,3042.97,2980.29,3016.38,1339625],[\"2021-05-17T15:00:00Z\",3083.0,3101.41,3055.0,3066.5,1262335],[\"2021-05-18T15:00:00Z\",3105.0,3104.99,3010.0,3014.26,855005],[\"2021-05-19T15:00:00Z\",2984.11,3019.07,2965.03,2983.75,1018076],[\"2021-05-20T15:00:00Z\",2988.9,3110.39,2983.0,3041.52,1482052],[\"2021-05-21T15:00:00Z\",2995.0,3046.98,2977.93,3016.4,971803],[\"2021-05-24T15:00:00Z\",3014.0,3046.43,3000.44,3007.5,764432],[\"2021-05-25T15:00:00Z\",3095.0,3119.0,3038.4,3052.35,1403203],[\"2021-05-26T15:00:00Z\",3079.38,3079.95,3029.2,3029.2,1120787],[\"2021-05-27T15:00:00Z\",3011.0,3051.0,2960.83,2980.0,2514944],[\"2021-05-28T15:00:00Z\",2973.37,3043.12,2961.1,3035.77,999461],[\"2021-05-31T15:00:00Z\",3060.0,3071.0,3035.96,3049.94,677935],[\"2021-06-01T15:00:00Z\",3080.05,3127.98,3061.81,3077.23,693013],[\"2021-06-02T15:00:00Z\",3093.0,3123.22,3060.82,3098.45,794566],[\"2021-06-03T15:00:00Z\",3052.0,3064.45,3001.11,3019.71,790504],[\"2021-06-04T15:00:00Z\",2995.5,3048.0,2993.91,3029.55,873930],[\"2021-06-07T15:00:00Z\",2995.0,3004.82,2967.12,2992.74,618816],[\"2021-06-08T15:00:00Z\",2992.5,3025.0,2979.97,2979.97,1103524],[\"2021-06-09T15:00:00Z\",2980.0,2995.48,2920.01,2939.5,1411541],[\"2021-06-10T15:00:00Z\",2937.0,2963.38,2931.84,2931.84,1188154],[\"2021-06-11T15:00:00Z\",2943.0,2981.68,2905.08,2965.38,614789],[\"2021-06-14T15:00:00Z\",2988.64,3038.29,2980.0,2990.0,801250],[\"2021-06-15T15:00:00Z\",2997.0,3010.0,2968.45,2984.13,1009977],[\"2021-06-17T15:00:00Z\",2949.0,3083.09,2947.5,3067.32,3914914],[\"2021-06-18T15:00:00Z\",3075.0,3088.94,3034.84,3050.17,3689071],[\"2021-06-21T15:00:00Z\",2976.0,3088.43,2976.01,3040.0,1444643],[\"2021-06-22T15:00:00Z\",2992.0,3008.18,2895.01,2960.0,1550074],[\"2021-06-23T15:00:00Z\",2983.02,2994.98,2942.82,2944.9,1305150],[\"2021-06-24T15:00:00Z\",2959.0,2958.93,2918.07,2940.14,959519],[\"2021-06-25T15:00:00Z\",2985.5,2985.5,2901.68,2915.83,1079161],[\"2021-06-28T15:00:00Z\",2920.0,2975.0,2910.0,2966.61,992333],[\"2021-06-29T15:00:00Z\",2968.5,3036.32,2961.05,3036.32,886947],[\"2021-06-30T15:00:00Z\",3002.84,3055.22,2986.8,2998.19,1296270],[\"2021-07-01T15:00:00Z\",2999.27,3012.11,2928.11,2961.0,1184580],[\"2021-07-02T15:00:00Z\",2929.02,2995.26,2926.0,2959.58,733651],[\"2021-07-05T15:00:00Z\",2888.0,2959.58,2750.0,2780.0,1384114],[\"2021-07-06T15:00:00Z\",2797.99,2827.27,2765.82,2810.45,2167101],[\"2021-07-07T15:00:00Z\",2781.0,2876.62,2781.0,2863.58,1234046],[\"2021-07-08T15:00:00Z\",2790.19,2804.54,2727.0,2750.0,1455718],[\"2021-07-09T15:00:00Z\",2791.01,2794.0,2685.0,2735.45,1830940],[\"2021-07-12T15:00:00Z\",2705.0,2784.48,2705.0,2779.98,2358545],[\"2021-07-13T15:00:00Z\",2838.6,2858.0,2779.47,2819.37,2679008],[\"2021-07-14T15:00:00Z\",2832.0,2914.28,2808.71,2885.47,2313496],[\"2021-07-15T15:00:00Z\",2923.0,2939.99,2819.37,2937.0,1832105],[\"2021-07-16T15:00:00Z\",2931.5,2951.46,2886.32,2951.46,1407815],[\"2021-07-19T15:00:00Z\",2881.49,2941.06,2888.58,2913.04,1200181],[\"2021-07-20T15:00:00Z\",2940.0,2934.78,2896.03,2905.0,1099921],[\"2021-07-21T15:00:00Z\",2872.0,2968.66,2883.21,2955.8,1258215],[\"2021-07-22T15:00:00Z\",2971.05,3012.97,2941.21,3011.33,1006353],[\"2021-07-23T15:00:00Z\",3000.22,3012.49,2950.0,2960.53,839324],[\"2021-07-26T15:00:00Z\",2812.51,2960.53,2703.01,2748.01,2281157],[\"2021-07-27T15:00:00Z\",2525.0,2567.0,2478.68,2546.62,2546774],[\"2021-07-28T15:00:00Z\",2598.0,2764.85,2525.0,2747.44,2287017],[\"2021-07-29T15:00:00Z\",2810.0,2893.0,2774.3,2859.53,1641593],[\"2021-07-30T15:00:00Z\",2800.05,2839.84,2800.06,2822.0,2028596],[\"2021-08-02T15:00:00Z\",2829.0,2866.47,2790.0,2797.0,1822453],[\"2021-08-03T15:00:00Z\",2681.0,2717.65,2591.77,2601.92,2514953],[\"2021-08-04T15:00:00Z\",2669.28,2709.98,2649.97,2675.01,1875382],[\"2021-08-05T15:00:00Z\",2592.78,2661.26,2592.01,2637.44,1958477],[\"2021-08-06T15:00:00Z\",2700.01,2727.88,2632.72,2675.17,3253295],[\"2021-08-10T15:00:00Z\",2822.0,2999.88,2822.0,2960.0,3209268],[\"2021-08-11T15:00:00Z\",2911.0,2928.6,2842.56,2846.5,949821],[\"2021-08-12T15:00:00Z\",2785.22,2836.14,2770.59,2836.14,1066359],[\"2021-08-13T15:00:00Z\",2784.75,2864.04,2734.65,2807.18,3057617],[\"2021-08-16T15:00:00Z\",2721.0,2767.42,2590.0,2600.0,8744093],[\"2021-08-17T15:00:00Z\",2555.0,2554.98,1262.66,2389.84,35283635],[\"2021-08-18T15:00:00Z\",2472.0,2505.0,2389.84,2488.17,12413051],[\"2021-08-19T15:00:00Z\",2387.05,2488.17,2349.68,2379.71,3646064],[\"2021-08-20T15:00:00Z\",2419.0,2436.53,2372.69,2400.58,2168769],[\"2021-08-23T15:00:00Z\",2449.0,2448.46,2290.87,2290.87,2649003],[\"2021-08-24T15:00:00Z\",2400.0,2404.72,2361.12,2373.0,2946503],[\"2021-08-25T15:00:00Z\",2364.99,2480.4,2355.25,2441.98,2580019],[\"2021-08-26T15:00:00Z\",2433.33,2444.96,2394.16,2406.48,1283228],[\"2021-08-27T15:00:00Z\",2388.06,2425.0,2373.77,2402.28,952330],[\"2021-08-30T15:00:00Z\",2397.5,2418.37,2325.96,2330.01,898191],[\"2021-08-31T15:00:00Z\",2380.0,2489.39,2330.01,2480.0,2157473],[\"2021-09-01T15:00:00Z\",2502.12,2594.99,2502.12,2590.0,1027756],[\"2021-09-02T15:00:00Z\",2581.24,2601.73,2540.59,2595.0,985368],[\"2021-09-03T15:00:00Z\",2580.0,2586.89,2539.92,2570.0,611787],[\"2021-09-06T15:00:00Z\",2622.0,2649.99,2615.0,2637.64,613881],[\"2021-09-07T15:00:00Z\",2677.0,2684.67,2650.01,2684.67,755039],[\"2021-09-08T15:00:00Z\",2685.0,2686.82,2610.3,2635.49,746481],[\"2021-09-09T15:00:00Z\",2544.13,2600.0,2416.32,2429.36,1081471],[\"2021-09-10T15:00:00Z\",2433.0,2460.25,2390.53,2390.53,934010],[\"2021-09-13T15:00:00Z\",2365.0,2402.91,2328.14,2368.2,777427],[\"2021-09-14T15:00:00Z\",2353.61,2395.74,2345.2,2380.17,616978],[\"2021-09-15T15:00:00Z\",2354.86,2354.41,2309.39,2346.2,1003659],[\"2021-09-16T15:00:00Z\",2320.01,2362.34,2308.0,2361.11,1776410],[\"2021-09-17T15:00:00Z\",2387.64,2422.77,2375.12,2400.0,3774580],[\"2021-09-20T15:00:00Z\",2355.0,2394.93,2316.68,2323.71,1063579],[\"2021-09-21T15:00:00Z\",2317.84,2401.6,2314.35,2399.0,900885],[\"2021-09-22T15:00:00Z\",2406.01,2449.0,2401.94,2427.35,814903],[\"2021-09-23T15:00:00Z\",2449.0,2510.68,2448.95,2479.82,829495],[\"2021-09-27T15:00:00Z\",2490.0,2529.35,2474.34,2486.0,974181],[\"2021-09-28T15:00:00Z\",2520.0,2546.41,2493.73,2511.0,1074135],[\"2021-09-29T15:00:00Z\",2511.79,2565.0,2500.0,2565.0,786956],[\"2021-09-30T15:00:00Z\",2552.5,2569.18,2490.0,2492.6,966546],[\"2021-10-01T15:00:00Z\",2472.66,2504.92,2450.0,2467.97,408261],[\"2021-10-04T15:00:00Z\",2465.14,2517.68,2445.02,2467.96,657433],[\"2021-10-05T15:00:00Z\",2468.22,2541.53,2454.32,2508.61,1129464],[\"2021-10-06T15:00:00Z\",2500.0,2499.49,2431.07,2472.01,567884],[\"2021-10-07T15:00:00Z\",2533.0,2600.12,2525.09,2600.0,702970],[\"2021-10-08T15:00:00Z\",2630.0,2638.64,2555.13,2555.13,464783],[\"2021-10-11T15:00:00Z\",2581.0,2640.0,2555.79,2568.72,325227],[\"2021-10-12T15:00:00Z\",2529.0,2548.2,2504.88,2511.0,414285],[\"2021-10-13T15:00:00Z\",2508.43,2551.0,2501.45,2545.91,217125],[\"2021-10-14T15:00:00Z\",2565.55,2581.2,2547.41,2554.81,450568],[\"2021-10-15T15:00:00Z\",2575.0,2574.85,2502.0,2569.98,480347],[\"2021-10-18T15:00:00Z\",2508.0,2572.2,2508.01,2551.0,358634],[\"2021-10-19T15:00:00Z\",2556.5,2643.56,2550.13,2635.0,388018],[\"2021-10-20T15:00:00Z\",2650.0,2695.18,2639.12,2674.99,389180],[\"2021-10-21T15:00:00Z\",2663.58,2692.0,2631.29,2664.75,336621],[\"2021-10-22T15:00:00Z\",2667.65,2683.19,2653.0,2665.0,325834],[\"2021-10-25T15:00:00Z\",2654.0,2664.73,2580.27,2593.73,402361],[\"2021-10-26T15:00:00Z\",2582.45,2672.38,2570.7,2652.36,596957],[\"2021-10-27T15:00:00Z\",2580.05,2636.4,2579.0,2618.92,580977],[\"2021-10-28T15:00:00Z\",2612.22,2641.3,2595.92,2621.25,686749],[\"2021-10-29T15:00:00Z\",2585.15,2602.53,2548.83,2590.14,1106839],[\"2021-11-02T15:00:00Z\",2572.36,2664.99,2564.79,2605.68,867984],[\"2021-11-03T15:00:00Z\",2621.0,2692.58,2615.42,2692.58,390123],[\"2021-11-04T15:00:00Z\",2700.0,2714.16,2629.32,2629.32,648369],[\"2021-11-05T15:00:00Z\",2615.0,2625.82,2537.69,2545.86,396869],[\"2021-11-08T15:00:00Z\",2516.21,2558.48,2492.54,2520.0,459169],[\"2021-11-09T15:00:00Z\",2550.0,2559.91,2514.49,2551.38,332799],[\"2021-11-10T15:00:00Z\",2588.0,2647.97,2510.91,2548.14,553830],[\"2021-11-11T15:00:00Z\",2589.0,2605.82,2505.01,2506.7,569769],[\"2021-11-12T15:00:00Z\",2530.0,2636.7,2517.99,2622.83,489781],[\"2021-11-15T15:00:00Z\",2625.0,2661.97,2594.68,2650.0,263509],[\"2021-11-16T15:00:00Z\",2675.0,2776.05,2656.94,2775.0,650474],[\"2021-11-17T15:00:00Z\",2775.01,2796.27,2750.0,2752.23,554681],[\"2021-11-18T15:00:00Z\",2720.0,2757.0,2700.0,2716.34,517239],[\"2021-11-19T15:00:00Z\",2730.0,2753.07,2679.42,2716.0,462936],[\"2021-11-22T15:00:00Z\",2672.11,2718.46,2631.76,2652.96,456772],[\"2021-11-23T15:00:00Z\",2617.84,2619.88,2510.0,2566.24,863992],[\"2021-11-24T15:00:00Z\",2580.0,2591.91,2522.07,2527.0,453053],[\"2021-11-25T15:00:00Z\",2549.76,2575.0,2496.58,2504.03,575279],[\"2021-11-26T15:00:00Z\",2451.01,2565.01,2434.0,2513.15,823553],[\"2021-11-29T15:00:00Z\",2525.0,2538.61,2456.34,2461.49,466234],[\"2021-11-30T15:00:00Z\",2410.86,2484.47,2411.29,2458.24,1493754],[\"2021-12-01T15:00:00Z\",2465.01,2499.0,2452.07,2469.38,625752],[\"2021-12-02T15:00:00Z\",2475.0,2505.0,2445.84,2477.0,692789],[\"2021-12-03T15:00:00Z\",2459.95,2497.59,2420.02,2457.02,552148],[\"2021-12-06T15:00:00Z\",2435.31,2480.45,2410.0,2462.0,841236],[\"2021-12-07T15:00:00Z\",2500.0,2580.8,2491.25,2542.07,773658],[\"2021-12-08T15:00:00Z\",2569.5,2577.45,2515.6,2526.47,579433],[\"2021-12-09T15:00:00Z\",2547.0,2546.94,2467.85,2499.52,510886],[\"2021-12-10T15:00:00Z\",2467.27,2525.62,2456.33,2519.54,464205],[\"2021-12-13T15:00:00Z\",2524.0,2560.0,2489.54,2513.69,672271],[\"2021-12-14T15:00:00Z\",2481.0,2518.8,2446.96,2504.62,760869],[\"2021-12-15T15:00:00Z\",2514.98,2512.82,2467.92,2470.0,1279749],[\"2021-12-17T15:00:00Z\",2450.0,2450.01,2352.03,2364.72,1394293],[\"2021-12-20T15:00:00Z\",2350.0,2393.76,2330.0,2375.0,366862],[\"2021-12-21T15:00:00Z\",2400.0,2413.36,2344.46,2360.05,412478],[\"2021-12-22T15:00:00Z\",2368.0,2394.95,2346.03,2383.97,262653],[\"2021-12-23T15:00:00Z\",2467.0,2464.88,2406.29,2410.03,639804],[\"2021-12-24T15:00:00Z\",2444.5,2449.68,2397.34,2445.1,87757],[\"2021-12-28T15:00:00Z\",2437.0,2439.33,2395.04,2425.89,262169],[\"2021-12-29T15:00:00Z\",2409.39,2461.37,2398.02,2455.48,209172],[\"2021-12-30T15:00:00Z\",2456.0,2460.15,2390.0,2436.88,479204],[\"2021-12-31T15:00:00Z\",2474.0,2495.0,2465.99,2472.0,174005],[\"2022-01-03T15:00:00Z\",2465.0,2528.97,2469.42,2511.52,208227],[\"2022-01-04T15:00:00Z\",2510.0,2586.83,2505.47,2572.5,400285],[\"2022-01-05T15:00:00Z\",2490.0,2500.0,2458.54,2483.59,471080],[\"2022-01-06T15:00:00Z\",2481.0,2482.11,2380.0,2395.29,421317],[\"2022-01-07T15:00:00Z\",2423.2,2426.0,2370.0,2389.04,543885],[\"2022-01-10T15:00:00Z\",2419.0,2429.88,2374.14,2374.14,338143],[\"2022-01-11T15:00:00Z\",2425.0,2451.98,2399.59,2451.98,533180],[\"2022-01-12T15:00:00Z\",2490.0,2680.0,2451.98,2680.0,995740],[\"2022-01-13T15:00:00Z\",2647.31,2669.19,2604.0,2643.97,586512],[\"2022-01-14T15:00:00Z\",2616.36,2634.95,2580.0,2606.43,383725],[\"2022-01-17T15:00:00Z\",2580.0,2632.71,2587.85,2618.72,294965],[\"2022-01-18T15:00:00Z\",2580.0,2588.8,2516.25,2528.65,391922],[\"2022-01-19T15:00:00Z\",2551.0,2550.15,2481.0,2521.59,378447],[\"2022-01-20T15:00:00Z\",2626.01,2649.62,2575.17,2649.62,796271],[\"2022-01-21T15:00:00Z\",2611.74,2634.0,2565.98,2572.01,512787],[\"2022-01-24T15:00:00Z\",2567.0,2579.99,2498.88,2504.32,433392],[\"2022-01-25T15:00:00Z\",2500.0,2509.17,2410.0,2410.0,762083],[\"2022-01-26T15:00:00Z\",2447.0,2455.34,2416.64,2430.0,424939],[\"2022-01-27T15:00:00Z\",2380.0,2410.0,2330.0,2346.04,716463],[\"2022-01-28T15:00:00Z\",2351.05,2394.12,2343.07,2347.66,353953],[\"2022-01-31T15:00:00Z\",2416.0,2474.71,2394.27,2462.06,620779],[\"2022-02-01T15:00:00Z\",2495.0,2528.88,2479.95,2509.01,1464513],[\"2022-02-02T15:00:00Z\",2540.0,2554.48,2480.0,2480.0,698568],[\"2022-02-03T15:00:00Z\",2450.0,2506.0,2430.0,2447.78,672073],[\"2022-02-04T15:00:00Z\",2495.0,2505.66,2466.0,2480.38,328329],[\"2022-02-07T15:00:00Z\",2461.01,2509.41,2461.01,2476.1,379338],[\"2022-02-08T15:00:00Z\",2452.51,2472.64,2403.89,2446.63,554822],[\"2022-02-09T15:00:00Z\",2495.0,2536.89,2464.0,2500.0,680837],[\"2022-02-10T15:00:00Z\",2500.0,2520.58,2425.29,2435.25,419464],[\"2022-02-11T15:00:00Z\",2439.5,2443.65,2361.94,2397.77,630335],[\"2022-02-14T15:00:00Z\",2370.0,2392.52,2285.0,2287.19,659765],[\"2022-02-15T15:00:00Z\",2291.0,2340.76,2281.39,2281.39,619841],[\"2022-02-16T15:00:00Z\",2300.1,2323.99,2265.0,2268.06,435947],[\"2022-02-17T15:00:00Z\",2265.08,2290.63,2237.14,2264.86,571499],[\"2022-02-18T15:00:00Z\",2253.0,2272.37,2213.43,2236.95,518112],[\"2022-02-21T15:00:00Z\",2191.91,2191.91,2054.24,2057.22,1042349],[\"2022-02-22T15:00:00Z\",2040.0,2085.99,2020.01,2049.69,994087],[\"2022-02-23T15:00:00Z\",2060.5,2099.0,2008.45,2008.45,1395196],[\"2022-02-24T15:00:00Z\",1925.0,2008.45,1861.12,1896.37,1410136],[\"2022-02-25T15:00:00Z\",1900.0,1934.03,1869.57,1884.8,698986],[\"2022-02-28T15:00:00Z\",1869.99,1938.37,1856.97,1928.46,1356301],[\"2022-03-01T15:00:00Z\",1990.0,1989.31,1933.86,1939.03,818950],[\"2022-03-02T15:00:00Z\",1937.0,1938.39,1860.01,1870.63,966603],[\"2022-03-03T15:00:00Z\",1880.0,1885.0,1805.5,1834.14,728074],[\"2022-03-04T15:00:00Z\",1759.97,1834.14,1628.22,1633.42,1587564],[\"2022-03-07T15:00:00Z\",1595.08,1655.22,1526.8,1634.6,1330603],[\"2022-03-08T15:00:00Z\",1619.0,1732.51,1590.24,1709.19,1268788],[\"2022-03-09T15:00:00Z\",1700.0,1848.77,1680.0,1810.0,1409759],[\"2022-03-10T15:00:00Z\",1810.0,1857.26,1783.06,1793.72,1134768],[\"2022-03-11T15:00:00Z\",1745.0,1833.67,1725.0,1793.17,812611],[\"2022-03-14T15:00:00Z\",1720.51,1725.48,1507.78,1557.89,1516629],[\"2022-03-15T15:00:00Z\",1447.97,1504.89,1392.5,1493.7,2048418],[\"2022-03-16T15:00:00Z\",1776.0,1811.91,1717.13,1806.32,1825589],[\"2022-03-17T15:00:00Z\",1850.0,1861.84,1751.6,1768.55,1984792],[\"2022-03-18T15:00:00Z\",1798.99,1845.02,1766.79,1845.02,4559837],[\"2022-03-22T15:00:00Z\",1825.0,1875.41,1791.5,1865.31,1172857],[\"2022-03-23T15:00:00Z\",1874.88,1873.06,1687.69,1689.0,1324925],[\"2022-03-24T15:00:00Z\",1710.0,1710.0,1616.55,1623.56,780962],[\"2022-03-25T15:00:00Z\",1605.01,1628.76,1588.0,1598.72,788665],[\"2022-03-28T15:00:00Z\",1628.05,1645.96,1591.51,1600.03,620123],[\"2022-03-29T15:00:00Z\",1624.52,1708.1,1624.76,1708.1,744519],[\"2022-03-30T15:00:00Z\",1696.5,1743.67,1691.85,1704.37,854015],[\"2022-03-31T15:00:00Z\",1700.0,1707.21,1658.73,1664.12,691684],[\"2022-04-01T15:00:00Z\",1689.0,1739.33,1640.16,1721.3,1105836],[\"2022-04-04T15:00:00Z\",1750.0,1804.5,1741.7,1791.05,605154],[\"2022-04-05T15:00:00Z\",1797.78,1813.6,1758.24,1773.5,1139024],[\"2022-04-06T15:00:00Z\",1776.74,1778.49,1652.51,1661.05,713109],[\"2022-04-07T15:00:00Z\",1670.01,1678.67,1627.13,1632.55,415235],[\"2022-04-08T15:00:00Z\",1665.79,1665.79,1587.0,1600.0,338070],[\"2022-04-11T15:00:00Z\",1556.2,1660.0,1521.0,1641.0,1036301],[\"2022-04-12T15:00:00Z\",1649.0,1647.49,1574.46,1574.46,648791],[\"2022-04-13T15:00:00Z\",1599.49,1604.85,1522.01,1562.18,816097],[\"2022-04-14T15:00:00Z\",1574.0,1611.12,1517.01,1523.18,733802],[\"2022-04-19T15:00:00Z\",1499.68,1530.0,1464.33,1528.83,718647],[\"2022-04-20T15:00:00Z\",1518.39,1521.56,1473.17,1494.92,754539],[\"2022-04-21T15:00:00Z\",1451.2,1515.07,1446.05,1474.23,786337],[\"2022-04-22T15:00:00Z\",1461.6,1525.05,1455.6,1507.28,640866],[\"2022-04-25T15:00:00Z\",1455.0,1506.96,1441.11,1502.88,957828],[\"2022-04-26T15:00:00Z\",1520.0,1547.9,1500.0,1500.0,813791],[\"2022-04-28T15:00:00Z\",1530.0,1550.0,1485.0,1489.42,809323],[\"2022-04-29T15:00:00Z\",1605.0,1648.12,1595.09,1607.75,2427878],[\"2022-05-03T15:00:00Z\",1630.0,1643.14,1591.86,1596.88,1140804],[\"2022-05-04T15:00:00Z\",1565.05,1589.42,1513.81,1532.84,907729],[\"2022-05-05T15:00:00Z\",1551.0,1562.05,1460.68,1460.68,826098],[\"2022-05-06T15:00:00Z\",1455.0,1484.6,1432.53,1459.71,944394],[\"2022-05-09T15:00:00Z\",1447.6,1458.99,1421.74,1427.19,836199],[\"2022-05-10T15:00:00Z\",1446.35,1497.86,1435.0,1452.72,878134],[\"2022-05-11T15:00:00Z\",1480.87,1587.58,1477.93,1559.0,1290196],[\"2022-05-12T15:00:00Z\",1507.0,1584.65,1492.01,1584.65,972231],[\"2022-05-13T15:00:00Z\",1600.47,1616.48,1538.33,1604.5,917375],[\"2022-05-16T15:00:00Z\",1596.02,1600.47,1560.0,1572.86,910003],[\"2022-05-17T15:00:00Z\",1630.1,1708.83,1625.09,1677.79,1630199],[\"2022-05-18T15:00:00Z\",1672.5,1680.0,1566.0,1598.0,1450586],[\"2022-05-19T15:00:00Z\",1552.0,1588.62,1540.0,1584.84,976213],[\"2022-05-20T15:00:00Z\",1618.0,1665.3,1599.57,1603.72,1116561],[\"2022-05-23T15:00:00Z\",1610.33,1635.45,1561.0,1565.61,649361],[\"2022-05-24T15:00:00Z\",1520.0,1532.6,1460.18,1460.18,972157],[\"2022-05-25T15:00:00Z\",1479.0,1526.88,1454.08,1526.88,1235636],[\"2022-05-26T15:00:00Z\",1511.61,1606.01,1512.0,1600.19,830598],[\"2022-05-27T15:00:00Z\",1588.0,1602.08,1554.0,1586.37,995410],[\"2022-05-30T15:00:00Z\",1615.0,1674.43,1598.54,1668.26,871011],[\"2022-05-31T15:00:00Z\",1675.08,1729.91,1672.32,1714.43,2554267],[\"2022-06-01T15:00:00Z\",1681.0,1740.5,1657.59,1680.33,1016505],[\"2022-06-02T15:00:00Z\",1679.46,1672.37,1623.92,1653.51,741018],[\"2022-06-03T15:00:00Z\",1670.0,1683.0,1652.25,1659.82,598882],[\"2022-06-06T15:00:00Z\",1660.01,1726.45,1640.88,1724.28,606610],[\"2022-06-07T15:00:00Z\",1700.0,1699.9,1642.41,1674.68,565505],[\"2022-06-08T15:00:00Z\",1740.0,1844.16,1731.96,1823.94,1763242],[\"2022-06-09T15:00:00Z\",1823.9,1956.77,1782.62,1836.03,1595314],[\"2022-06-10T15:00:00Z\",1820.0,1844.17,1772.47,1773.16,1119587],[\"2022-06-13T15:00:00Z\",1716.94,1773.57,1693.51,1740.36,1750780],[\"2022-06-14T15:00:00Z\",17.82,17.69,17.23,17.4,794960],[\"2022-06-15T15:00:00Z\",1755.0,1818.92,1722.47,1813.57,1969925],[\"2022-06-17T15:00:00Z\",1830.0,1889.99,1760.01,1799.35,2334742],[\"2022-06-20T15:00:00Z\",1810.51,1849.44,1796.13,1830.78,567528],[\"2022-06-21T15:00:00Z\",1864.75,1879.98,1817.44,1846.25,678511],[\"2022-06-22T15:00:00Z\",1815.66,1844.68,1771.63,1827.6,574667],[\"2022-06-23T15:00:00Z\",1836.81,1859.9,1823.49,1848.88,734359],[\"2022-06-24T15:00:00Z\",1871.0,1924.58,1851.04,1912.77,677818],[\"2022-06-27T15:00:00Z\",2200.0,2445.0,2109.96,2348.69,3854056],[\"2022-06-28T15:00:00Z\",2275.04,2338.2,2258.06,2303.15,2114964],[\"2022-06-29T15:00:00Z\",2272.39,2347.84,2255.02,2343.16,2265991],[\"2022-06-30T15:00:00Z\",2309.98,2413.11,2301.63,2367.72,1915584],[\"2022-07-01T15:00:00Z\",2362.13,2535.03,2329.21,2517.5,2174776],[\"2022-07-04T15:00:00Z\",2518.0,2561.99,2463.39,2548.97,1828488],[\"2022-07-05T15:00:00Z\",2552.04,2665.86,2548.94,2664.99,1569911],[\"2022-07-06T15:00:00Z\",2647.25,2688.0,2601.84,2620.0,2061743],[\"2022-07-07T15:00:00Z\",2634.0,2853.25,2629.27,2853.25,1234304],[\"2022-07-08T15:00:00Z\",2815.0,2841.18,2644.71,2656.5,1444215],[\"2022-07-11T15:00:00Z\",2600.0,2656.49,2560.56,2598.37,807174],[\"2022-07-12T15:00:00Z\",2563.0,2651.95,2560.01,2630.13,798883],[\"2022-07-13T15:00:00Z\",2569.0,2629.02,2430.69,2502.94,1641682],[\"2022-07-14T15:00:00Z\",2483.0,2546.83,2473.03,2500.0,1219098],[\"2022-07-15T15:00:00Z\",2460.0,2493.57,2429.95,2454.09,1281057],[\"2022-07-18T15:00:00Z\",2500.0,2582.97,2483.78,2558.79,1169433],[\"2022-07-19T15:00:00Z\",2535.5,2664.09,2516.64,2644.47,769612],[\"2022-07-20T15:00:00Z\",2647.77,2704.22,2622.62,2660.0,939127],[\"2022-07-21T15:00:00Z\",2658.99,2734.97,2627.14,2662.6,924867],[\"2022-07-22T15:00:00Z\",2659.0,2683.36,2610.0,2610.0,644929],[\"2022-07-25T15:00:00Z\",2580.26,2617.0,2506.92,2531.05,767462],[\"2022-07-26T15:00:00Z\",2551.0,2611.9,2541.08,2550.79,690417],[\"2022-07-27T15:00:00Z\",2520.15,2567.0,2456.5,2472.85,851418],[\"2022-07-28T15:00:00Z\",2475.06,2520.24,2452.0,2459.01,745582],[\"2022-07-29T15:00:00Z\",2380.0,2405.68,2330.46,2356.43,1647292],[\"2022-08-01T15:00:00Z\",2315.0,2400.0,2315.64,2372.48,979923],[\"2022-08-02T15:00:00Z\",2325.78,2364.58,2287.87,2326.49,879312],[\"2022-08-03T15:00:00Z\",2359.97,2428.81,2350.0,2422.75,870425],[\"2022-08-04T15:00:00Z\",2454.9,2501.75,2420.27,2426.97,696314],[\"2022-08-05T15:00:00Z\",2420.21,2464.82,2401.03,2449.97,526517],[\"2022-08-08T15:00:00Z\",2435.01,2521.5,2436.41,2494.46,701281],[\"2022-08-10T15:00:00Z\",2446.74,2463.62,2364.81,2430.0,795316],[\"2022-08-11T15:00:00Z\",2450.1,2540.0,2430.5,2508.93,850534],[\"2022-08-12T15:00:00Z\",2481.0,2508.7,2432.76,2444.17,495174],[\"2022-08-15T15:00:00Z\",2438.0,2500.0,2438.0,2477.35,542409],[\"2022-08-16T15:00:00Z\",2448.0,2593.0,2457.48,2580.58,949207],[\"2022-08-17T15:00:00Z\",2553.01,2606.06,2489.76,2588.83,967101],[\"2022-08-18T15:00:00Z\",2606.48,2619.99,2515.52,2521.52,1000702],[\"2022-08-19T15:00:00Z\",2495.5,2565.93,2465.01,2473.4,640548],[\"2022-08-22T15:00:00Z\",2430.01,2523.0,2408.07,2446.56,789693],[\"2022-08-23T15:00:00Z\",2431.0,2499.69,2431.0,2469.0,401840],[\"2022-08-24T15:00:00Z\",2442.76,2499.69,2443.36,2458.45,643403],[\"2022-08-25T15:00:00Z\",2490.0,2612.64,2482.29,2612.64,830051]]}}}'\n"
          ]
        }
      ]
    }
  ]
}